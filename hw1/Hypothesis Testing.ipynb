{
 "cells": [
  {
   "cell_type": "code",
   "execution_count": 50,
   "id": "ddc32c1e",
   "metadata": {},
   "outputs": [],
   "source": [
    "import pandas as pd\n",
    "import numpy as np\n",
    "from scipy import stats"
   ]
  },
  {
   "cell_type": "code",
   "execution_count": 3,
   "id": "609af37c",
   "metadata": {},
   "outputs": [
    {
     "data": {
      "text/html": [
       "<div>\n",
       "<style scoped>\n",
       "    .dataframe tbody tr th:only-of-type {\n",
       "        vertical-align: middle;\n",
       "    }\n",
       "\n",
       "    .dataframe tbody tr th {\n",
       "        vertical-align: top;\n",
       "    }\n",
       "\n",
       "    .dataframe thead th {\n",
       "        text-align: right;\n",
       "    }\n",
       "</style>\n",
       "<table border=\"1\" class=\"dataframe\">\n",
       "  <thead>\n",
       "    <tr style=\"text-align: right;\">\n",
       "      <th></th>\n",
       "      <th>Movie Name</th>\n",
       "      <th>Year of Release</th>\n",
       "      <th>Watch Time</th>\n",
       "      <th>Movie Rating</th>\n",
       "      <th>Metascore of movie</th>\n",
       "      <th>Gross</th>\n",
       "      <th>Votes</th>\n",
       "      <th>Description</th>\n",
       "      <th>Ids</th>\n",
       "      <th>TMDB_Id</th>\n",
       "      <th>...</th>\n",
       "      <th>Horror</th>\n",
       "      <th>Music</th>\n",
       "      <th>Mystery</th>\n",
       "      <th>Romance</th>\n",
       "      <th>SciFi</th>\n",
       "      <th>TV</th>\n",
       "      <th>Thriller</th>\n",
       "      <th>War</th>\n",
       "      <th>Western</th>\n",
       "      <th>Bad Words</th>\n",
       "    </tr>\n",
       "  </thead>\n",
       "  <tbody>\n",
       "    <tr>\n",
       "      <th>0</th>\n",
       "      <td>The Shawshank Redemption</td>\n",
       "      <td>1994</td>\n",
       "      <td>142</td>\n",
       "      <td>9.3</td>\n",
       "      <td>82.0</td>\n",
       "      <td>28.34</td>\n",
       "      <td>27,77,378</td>\n",
       "      <td>Over the course of several years, two convicts...</td>\n",
       "      <td>(278, [18, 80])</td>\n",
       "      <td>278.0</td>\n",
       "      <td>...</td>\n",
       "      <td>0</td>\n",
       "      <td>0</td>\n",
       "      <td>0</td>\n",
       "      <td>0</td>\n",
       "      <td>0</td>\n",
       "      <td>0</td>\n",
       "      <td>0</td>\n",
       "      <td>0</td>\n",
       "      <td>0</td>\n",
       "      <td>100</td>\n",
       "    </tr>\n",
       "    <tr>\n",
       "      <th>1</th>\n",
       "      <td>The Godfather</td>\n",
       "      <td>1972</td>\n",
       "      <td>175</td>\n",
       "      <td>9.2</td>\n",
       "      <td>100.0</td>\n",
       "      <td>134.97</td>\n",
       "      <td>19,33,588</td>\n",
       "      <td>Don Vito Corleone, head of a mafia family, dec...</td>\n",
       "      <td>(238, [18, 80])</td>\n",
       "      <td>238.0</td>\n",
       "      <td>...</td>\n",
       "      <td>0</td>\n",
       "      <td>0</td>\n",
       "      <td>0</td>\n",
       "      <td>0</td>\n",
       "      <td>0</td>\n",
       "      <td>0</td>\n",
       "      <td>0</td>\n",
       "      <td>0</td>\n",
       "      <td>0</td>\n",
       "      <td>20</td>\n",
       "    </tr>\n",
       "    <tr>\n",
       "      <th>2</th>\n",
       "      <td>The Dark Knight</td>\n",
       "      <td>2008</td>\n",
       "      <td>152</td>\n",
       "      <td>9.0</td>\n",
       "      <td>84.0</td>\n",
       "      <td>534.86</td>\n",
       "      <td>27,54,087</td>\n",
       "      <td>When the menace known as the Joker wreaks havo...</td>\n",
       "      <td>(155, [18, 28, 80, 53])</td>\n",
       "      <td>155.0</td>\n",
       "      <td>...</td>\n",
       "      <td>0</td>\n",
       "      <td>0</td>\n",
       "      <td>0</td>\n",
       "      <td>0</td>\n",
       "      <td>0</td>\n",
       "      <td>0</td>\n",
       "      <td>1</td>\n",
       "      <td>0</td>\n",
       "      <td>0</td>\n",
       "      <td>5</td>\n",
       "    </tr>\n",
       "    <tr>\n",
       "      <th>3</th>\n",
       "      <td>Schindler's List</td>\n",
       "      <td>1993</td>\n",
       "      <td>195</td>\n",
       "      <td>9.0</td>\n",
       "      <td>95.0</td>\n",
       "      <td>96.9</td>\n",
       "      <td>13,97,886</td>\n",
       "      <td>In German-occupied Poland during World War II,...</td>\n",
       "      <td>(424, [18, 36, 10752])</td>\n",
       "      <td>424.0</td>\n",
       "      <td>...</td>\n",
       "      <td>0</td>\n",
       "      <td>0</td>\n",
       "      <td>0</td>\n",
       "      <td>0</td>\n",
       "      <td>0</td>\n",
       "      <td>0</td>\n",
       "      <td>0</td>\n",
       "      <td>1</td>\n",
       "      <td>0</td>\n",
       "      <td>16</td>\n",
       "    </tr>\n",
       "    <tr>\n",
       "      <th>4</th>\n",
       "      <td>12 Angry Men</td>\n",
       "      <td>1957</td>\n",
       "      <td>96</td>\n",
       "      <td>9.0</td>\n",
       "      <td>97.0</td>\n",
       "      <td>4.36</td>\n",
       "      <td>8,24,211</td>\n",
       "      <td>The jury in a New York City murder trial is fr...</td>\n",
       "      <td>(389, [18])</td>\n",
       "      <td>389.0</td>\n",
       "      <td>...</td>\n",
       "      <td>0</td>\n",
       "      <td>0</td>\n",
       "      <td>0</td>\n",
       "      <td>0</td>\n",
       "      <td>0</td>\n",
       "      <td>0</td>\n",
       "      <td>0</td>\n",
       "      <td>0</td>\n",
       "      <td>0</td>\n",
       "      <td>1</td>\n",
       "    </tr>\n",
       "  </tbody>\n",
       "</table>\n",
       "<p>5 rows × 31 columns</p>\n",
       "</div>"
      ],
      "text/plain": [
       "                 Movie Name  Year of Release  Watch Time  Movie Rating  \\\n",
       "0  The Shawshank Redemption             1994         142           9.3   \n",
       "1             The Godfather             1972         175           9.2   \n",
       "2           The Dark Knight             2008         152           9.0   \n",
       "3          Schindler's List             1993         195           9.0   \n",
       "4              12 Angry Men             1957          96           9.0   \n",
       "\n",
       "   Metascore of movie   Gross      Votes  \\\n",
       "0                82.0   28.34  27,77,378   \n",
       "1               100.0  134.97  19,33,588   \n",
       "2                84.0  534.86  27,54,087   \n",
       "3                95.0    96.9  13,97,886   \n",
       "4                97.0    4.36   8,24,211   \n",
       "\n",
       "                                         Description                      Ids  \\\n",
       "0  Over the course of several years, two convicts...          (278, [18, 80])   \n",
       "1  Don Vito Corleone, head of a mafia family, dec...          (238, [18, 80])   \n",
       "2  When the menace known as the Joker wreaks havo...  (155, [18, 28, 80, 53])   \n",
       "3  In German-occupied Poland during World War II,...   (424, [18, 36, 10752])   \n",
       "4  The jury in a New York City murder trial is fr...              (389, [18])   \n",
       "\n",
       "   TMDB_Id  ... Horror  Music  Mystery  Romance  SciFi  TV  Thriller  War  \\\n",
       "0    278.0  ...      0      0        0        0      0   0         0    0   \n",
       "1    238.0  ...      0      0        0        0      0   0         0    0   \n",
       "2    155.0  ...      0      0        0        0      0   0         1    0   \n",
       "3    424.0  ...      0      0        0        0      0   0         0    1   \n",
       "4    389.0  ...      0      0        0        0      0   0         0    0   \n",
       "\n",
       "   Western  Bad Words  \n",
       "0        0        100  \n",
       "1        0         20  \n",
       "2        0          5  \n",
       "3        0         16  \n",
       "4        0          1  \n",
       "\n",
       "[5 rows x 31 columns]"
      ]
     },
     "execution_count": 3,
     "metadata": {},
     "output_type": "execute_result"
    }
   ],
   "source": [
    "df = pd.read_csv(\"added_features.csv\")\n",
    "df.head()"
   ]
  },
  {
   "cell_type": "markdown",
   "id": "c974c2e2",
   "metadata": {},
   "source": [
    "# Hypothesis 1 - Critic Ratings are usually lower than fan ratings"
   ]
  },
  {
   "cell_type": "code",
   "execution_count": 11,
   "id": "051dfbaf",
   "metadata": {},
   "outputs": [
    {
     "name": "stdout",
     "output_type": "stream",
     "text": [
      "Critic mean:  68.00241642122968 Critic stdev:  27.974361909313053\n",
      "Fan mean:  79.702 Fan stdev:  2.757317319206993\n"
     ]
    }
   ],
   "source": [
    "critic_mean = df['Metascore of movie'].mean()\n",
    "critic_stdev = df['Metascore of movie'].std()\n",
    "fan_mean = df['Movie Rating'].mean() * 10\n",
    "fan_stdev = df['Movie Rating'].std() * 10\n",
    "\n",
    "print(\"Critic mean: \", critic_mean, \"Critic stdev: \", critic_stdev)\n",
    "print(\"Fan mean: \", fan_mean, \"Fan stdev: \", fan_stdev)"
   ]
  },
  {
   "cell_type": "code",
   "execution_count": 64,
   "id": "cfc8eca3",
   "metadata": {},
   "outputs": [
    {
     "name": "stdout",
     "output_type": "stream",
     "text": [
      "67.85831846337442 0.0\n"
     ]
    }
   ],
   "source": [
    "t, p = stats.ttest_ind(df['Metascore of movie'], df['Movie Rating'], alternative=\"greater\")\n",
    "print(t, p)"
   ]
  },
  {
   "cell_type": "code",
   "execution_count": null,
   "id": "c9f8d6bd",
   "metadata": {},
   "outputs": [],
   "source": []
  },
  {
   "cell_type": "code",
   "execution_count": 6,
   "id": "caced658",
   "metadata": {},
   "outputs": [
    {
     "data": {
      "text/plain": [
       "79.702"
      ]
     },
     "execution_count": 6,
     "metadata": {},
     "output_type": "execute_result"
    }
   ],
   "source": []
  },
  {
   "cell_type": "markdown",
   "id": "ead44036",
   "metadata": {},
   "source": [
    "# Hypothesis 2 - Critics favor certain genres"
   ]
  },
  {
   "cell_type": "code",
   "execution_count": 12,
   "id": "4ec5be08",
   "metadata": {},
   "outputs": [],
   "source": [
    "genre_keys = {\n",
    "\n",
    "    28       :   \"Action\",\n",
    "    12       :   \"Adventure\",\n",
    "    16       :   \"Animation\",\n",
    "    35       :   \"Comedy\",\n",
    "    80       :   \"Crime\",\n",
    "    99       :   \"Documentary\",\n",
    "    18       :   \"Drama\",\n",
    "    10751    :   \"Family\",\n",
    "    14       :   \"Fantasy\",\n",
    "    36       :   \"History\",\n",
    "    27       :   \"Horror\",\n",
    "    10402    :   \"Music\",\n",
    "    9648     :   \"Mystery\",\n",
    "    10749    :   \"Romance\",\n",
    "    878      :   \"SciFi\",\n",
    "    10770    :   \"TV\",\n",
    "    53       :   \"Thriller\",\n",
    "    10752    :   \"War\",\n",
    "    37       :   \"Western\"\n",
    "    \n",
    "}"
   ]
  },
  {
   "cell_type": "code",
   "execution_count": 16,
   "id": "40a6cb04",
   "metadata": {},
   "outputs": [
    {
     "name": "stdout",
     "output_type": "stream",
     "text": [
      "Action         : 62.069664522361286\n",
      "Adventure      : 70.48083981842794\n",
      "Animation      : 76.77445451591942\n",
      "Comedy         : 62.981939813459654\n",
      "Crime          : 64.45607283613715\n",
      "Documentary    : 75.25\n",
      "Drama          : 67.30530639010786\n",
      "Family         : 72.87650831696484\n",
      "Fantasy        : 70.2032755226972\n",
      "History        : 66.76720651705512\n",
      "Horror         : 72.72586872586874\n",
      "Music          : 73.80740740740741\n",
      "Mystery        : 66.45497970066275\n",
      "Romance        : 70.27052153446557\n",
      "SciFi          : 72.2146003470214\n",
      "TV             : 70.0\n",
      "Thriller       : 66.10631566568253\n",
      "War            : 71.15558796251456\n",
      "Western        : 80.96\n"
     ]
    }
   ],
   "source": [
    "for genre in genre_keys.values():\n",
    "    genre_mean = df.loc[df[genre] == 1]['Metascore of movie'].mean()\n",
    "    \n",
    "    print(\"{:15s}: {}\".format(genre, genre_mean))"
   ]
  },
  {
   "cell_type": "code",
   "execution_count": 81,
   "id": "63f8b144",
   "metadata": {},
   "outputs": [
    {
     "name": "stdout",
     "output_type": "stream",
     "text": [
      "3.3742665128067104 0.03460766537601791\n"
     ]
    }
   ],
   "source": [
    "f, p = stats.f_oneway(  df.loc[df['Action'] == 1]['Metascore of movie'],\n",
    "                        df.loc[df['Comedy'] == 1]['Metascore of movie'],\n",
    "                        df.loc[df['Drama'] == 1]['Metascore of movie'])\n",
    "print(f, p)"
   ]
  },
  {
   "cell_type": "markdown",
   "id": "2054a2f5",
   "metadata": {},
   "source": [
    "# Hypothesis 3 - Movies have more swears now than they used to"
   ]
  },
  {
   "cell_type": "code",
   "execution_count": 18,
   "id": "cb97008a",
   "metadata": {},
   "outputs": [
    {
     "data": {
      "text/plain": [
       "29.392"
      ]
     },
     "execution_count": 18,
     "metadata": {},
     "output_type": "execute_result"
    }
   ],
   "source": [
    "df['Bad Words'].mean()"
   ]
  },
  {
   "cell_type": "code",
   "execution_count": 19,
   "id": "9359a98b",
   "metadata": {},
   "outputs": [
    {
     "data": {
      "text/plain": [
       "60.316236490553344"
      ]
     },
     "execution_count": 19,
     "metadata": {},
     "output_type": "execute_result"
    }
   ],
   "source": [
    "df['Bad Words'].std()"
   ]
  },
  {
   "cell_type": "code",
   "execution_count": 82,
   "id": "3b910a98",
   "metadata": {},
   "outputs": [
    {
     "data": {
      "text/plain": [
       "8.145337967957177"
      ]
     },
     "execution_count": 82,
     "metadata": {},
     "output_type": "execute_result"
    }
   ],
   "source": [
    "df_old = df.sort_values(by='Year of Release').head(50)\n",
    "df_old['Bad Words'].std()"
   ]
  },
  {
   "cell_type": "code",
   "execution_count": 83,
   "id": "45438a00",
   "metadata": {},
   "outputs": [
    {
     "data": {
      "text/plain": [
       "54.27316020251028"
      ]
     },
     "execution_count": 83,
     "metadata": {},
     "output_type": "execute_result"
    }
   ],
   "source": [
    "df_new = df.sort_values(by='Year of Release').tail(50)\n",
    "df_new['Bad Words'].std()"
   ]
  },
  {
   "cell_type": "code",
   "execution_count": 76,
   "id": "ee97e37f",
   "metadata": {},
   "outputs": [
    {
     "name": "stdout",
     "output_type": "stream",
     "text": [
      "-3.9065402778430207 8.611936974058963e-05\n"
     ]
    }
   ],
   "source": [
    "t, p, = stats.ttest_ind(df_old['Bad Words'], df_new['Bad Words'], alternative = 'less')\n",
    "print(t, p)"
   ]
  },
  {
   "cell_type": "code",
   "execution_count": null,
   "id": "f84e5149",
   "metadata": {},
   "outputs": [],
   "source": []
  },
  {
   "cell_type": "markdown",
   "id": "fc5cfab6",
   "metadata": {},
   "source": [
    "# Hypothesis 4 - Dogs and Swear Words"
   ]
  },
  {
   "cell_type": "code",
   "execution_count": 46,
   "id": "7ef4c005",
   "metadata": {},
   "outputs": [
    {
     "data": {
      "text/html": [
       "<div>\n",
       "<style scoped>\n",
       "    .dataframe tbody tr th:only-of-type {\n",
       "        vertical-align: middle;\n",
       "    }\n",
       "\n",
       "    .dataframe tbody tr th {\n",
       "        vertical-align: top;\n",
       "    }\n",
       "\n",
       "    .dataframe thead th {\n",
       "        text-align: right;\n",
       "    }\n",
       "</style>\n",
       "<table border=\"1\" class=\"dataframe\">\n",
       "  <thead>\n",
       "    <tr style=\"text-align: right;\">\n",
       "      <th></th>\n",
       "      <th>Movie Name</th>\n",
       "      <th>Year of Release</th>\n",
       "      <th>Watch Time</th>\n",
       "      <th>Movie Rating</th>\n",
       "      <th>Metascore of movie</th>\n",
       "      <th>Gross</th>\n",
       "      <th>Votes</th>\n",
       "      <th>Description</th>\n",
       "      <th>Ids</th>\n",
       "      <th>TMDB_Id</th>\n",
       "      <th>...</th>\n",
       "      <th>Horror</th>\n",
       "      <th>Music</th>\n",
       "      <th>Mystery</th>\n",
       "      <th>Romance</th>\n",
       "      <th>SciFi</th>\n",
       "      <th>TV</th>\n",
       "      <th>Thriller</th>\n",
       "      <th>War</th>\n",
       "      <th>Western</th>\n",
       "      <th>Bad Words</th>\n",
       "    </tr>\n",
       "  </thead>\n",
       "  <tbody>\n",
       "    <tr>\n",
       "      <th>205</th>\n",
       "      <td>Umberto D.</td>\n",
       "      <td>1952</td>\n",
       "      <td>89</td>\n",
       "      <td>8.2</td>\n",
       "      <td>92.000</td>\n",
       "      <td>0.07</td>\n",
       "      <td>27,087</td>\n",
       "      <td>An elderly man and his dog struggle to survive...</td>\n",
       "      <td>(833, [18])</td>\n",
       "      <td>833.0</td>\n",
       "      <td>...</td>\n",
       "      <td>0</td>\n",
       "      <td>0</td>\n",
       "      <td>0</td>\n",
       "      <td>0</td>\n",
       "      <td>0</td>\n",
       "      <td>0</td>\n",
       "      <td>0</td>\n",
       "      <td>0</td>\n",
       "      <td>0</td>\n",
       "      <td>3</td>\n",
       "    </tr>\n",
       "    <tr>\n",
       "      <th>235</th>\n",
       "      <td>The Wizard of Oz</td>\n",
       "      <td>1939</td>\n",
       "      <td>102</td>\n",
       "      <td>8.1</td>\n",
       "      <td>92.000</td>\n",
       "      <td>2.08</td>\n",
       "      <td>4,14,083</td>\n",
       "      <td>Young Dorothy Gale and her dog Toto are swept ...</td>\n",
       "      <td>(630, [12, 14, 10751])</td>\n",
       "      <td>630.0</td>\n",
       "      <td>...</td>\n",
       "      <td>0</td>\n",
       "      <td>0</td>\n",
       "      <td>0</td>\n",
       "      <td>0</td>\n",
       "      <td>0</td>\n",
       "      <td>0</td>\n",
       "      <td>0</td>\n",
       "      <td>0</td>\n",
       "      <td>0</td>\n",
       "      <td>0</td>\n",
       "    </tr>\n",
       "    <tr>\n",
       "      <th>263</th>\n",
       "      <td>Hachi: A Dog's Tale</td>\n",
       "      <td>2009</td>\n",
       "      <td>93</td>\n",
       "      <td>8.1</td>\n",
       "      <td>7.892</td>\n",
       "      <td>236</td>\n",
       "      <td>2,98,283</td>\n",
       "      <td>A college professor bonds with an abandoned do...</td>\n",
       "      <td>(28178, [18, 10751])</td>\n",
       "      <td>28178.0</td>\n",
       "      <td>...</td>\n",
       "      <td>0</td>\n",
       "      <td>0</td>\n",
       "      <td>0</td>\n",
       "      <td>0</td>\n",
       "      <td>0</td>\n",
       "      <td>0</td>\n",
       "      <td>0</td>\n",
       "      <td>0</td>\n",
       "      <td>0</td>\n",
       "      <td>0</td>\n",
       "    </tr>\n",
       "    <tr>\n",
       "      <th>540</th>\n",
       "      <td>Togo</td>\n",
       "      <td>2019</td>\n",
       "      <td>113</td>\n",
       "      <td>7.9</td>\n",
       "      <td>69.000</td>\n",
       "      <td>NaN</td>\n",
       "      <td>52,579</td>\n",
       "      <td>The story of Togo, the sled dog who led the 19...</td>\n",
       "      <td>(884363, [80, 18])</td>\n",
       "      <td>884363.0</td>\n",
       "      <td>...</td>\n",
       "      <td>0</td>\n",
       "      <td>0</td>\n",
       "      <td>0</td>\n",
       "      <td>0</td>\n",
       "      <td>0</td>\n",
       "      <td>0</td>\n",
       "      <td>0</td>\n",
       "      <td>0</td>\n",
       "      <td>0</td>\n",
       "      <td>1</td>\n",
       "    </tr>\n",
       "    <tr>\n",
       "      <th>651</th>\n",
       "      <td>Isle of Dogs</td>\n",
       "      <td>2018</td>\n",
       "      <td>101</td>\n",
       "      <td>7.8</td>\n",
       "      <td>82.000</td>\n",
       "      <td>32.02</td>\n",
       "      <td>1,81,265</td>\n",
       "      <td>Set in Japan, Isle of Dogs follows a boy's ody...</td>\n",
       "      <td>(399174, [12, 35, 16])</td>\n",
       "      <td>399174.0</td>\n",
       "      <td>...</td>\n",
       "      <td>0</td>\n",
       "      <td>0</td>\n",
       "      <td>0</td>\n",
       "      <td>0</td>\n",
       "      <td>0</td>\n",
       "      <td>0</td>\n",
       "      <td>0</td>\n",
       "      <td>0</td>\n",
       "      <td>0</td>\n",
       "      <td>4</td>\n",
       "    </tr>\n",
       "  </tbody>\n",
       "</table>\n",
       "<p>5 rows × 31 columns</p>\n",
       "</div>"
      ],
      "text/plain": [
       "              Movie Name  Year of Release  Watch Time  Movie Rating  \\\n",
       "205           Umberto D.             1952          89           8.2   \n",
       "235     The Wizard of Oz             1939         102           8.1   \n",
       "263  Hachi: A Dog's Tale             2009          93           8.1   \n",
       "540                 Togo             2019         113           7.9   \n",
       "651         Isle of Dogs             2018         101           7.8   \n",
       "\n",
       "     Metascore of movie  Gross     Votes  \\\n",
       "205              92.000   0.07    27,087   \n",
       "235              92.000   2.08  4,14,083   \n",
       "263               7.892    236  2,98,283   \n",
       "540              69.000    NaN    52,579   \n",
       "651              82.000  32.02  1,81,265   \n",
       "\n",
       "                                           Description  \\\n",
       "205  An elderly man and his dog struggle to survive...   \n",
       "235  Young Dorothy Gale and her dog Toto are swept ...   \n",
       "263  A college professor bonds with an abandoned do...   \n",
       "540  The story of Togo, the sled dog who led the 19...   \n",
       "651  Set in Japan, Isle of Dogs follows a boy's ody...   \n",
       "\n",
       "                        Ids   TMDB_Id  ... Horror  Music  Mystery  Romance  \\\n",
       "205             (833, [18])     833.0  ...      0      0        0        0   \n",
       "235  (630, [12, 14, 10751])     630.0  ...      0      0        0        0   \n",
       "263    (28178, [18, 10751])   28178.0  ...      0      0        0        0   \n",
       "540      (884363, [80, 18])  884363.0  ...      0      0        0        0   \n",
       "651  (399174, [12, 35, 16])  399174.0  ...      0      0        0        0   \n",
       "\n",
       "     SciFi  TV  Thriller  War  Western  Bad Words  \n",
       "205      0   0         0    0        0          3  \n",
       "235      0   0         0    0        0          0  \n",
       "263      0   0         0    0        0          0  \n",
       "540      0   0         0    0        0          1  \n",
       "651      0   0         0    0        0          4  \n",
       "\n",
       "[5 rows x 31 columns]"
      ]
     },
     "execution_count": 46,
     "metadata": {},
     "output_type": "execute_result"
    }
   ],
   "source": [
    "df_dogs = df.loc[df['Description'].str.contains('dog', case=False)]\n",
    "df_dogs"
   ]
  },
  {
   "cell_type": "code",
   "execution_count": 47,
   "id": "efadc9e2",
   "metadata": {},
   "outputs": [
    {
     "name": "stderr",
     "output_type": "stream",
     "text": [
      "/var/folders/9s/wjp86gfn3yl56f5kv0hr0_fr0000gn/T/ipykernel_38471/176058911.py:1: UserWarning: Boolean Series key will be reindexed to match DataFrame index.\n",
      "  df_dogs = df_dogs[df['Movie Name'] != \"The Wizard of Oz\"]\n"
     ]
    },
    {
     "data": {
      "text/html": [
       "<div>\n",
       "<style scoped>\n",
       "    .dataframe tbody tr th:only-of-type {\n",
       "        vertical-align: middle;\n",
       "    }\n",
       "\n",
       "    .dataframe tbody tr th {\n",
       "        vertical-align: top;\n",
       "    }\n",
       "\n",
       "    .dataframe thead th {\n",
       "        text-align: right;\n",
       "    }\n",
       "</style>\n",
       "<table border=\"1\" class=\"dataframe\">\n",
       "  <thead>\n",
       "    <tr style=\"text-align: right;\">\n",
       "      <th></th>\n",
       "      <th>Movie Name</th>\n",
       "      <th>Year of Release</th>\n",
       "      <th>Watch Time</th>\n",
       "      <th>Movie Rating</th>\n",
       "      <th>Metascore of movie</th>\n",
       "      <th>Gross</th>\n",
       "      <th>Votes</th>\n",
       "      <th>Description</th>\n",
       "      <th>Ids</th>\n",
       "      <th>TMDB_Id</th>\n",
       "      <th>...</th>\n",
       "      <th>Horror</th>\n",
       "      <th>Music</th>\n",
       "      <th>Mystery</th>\n",
       "      <th>Romance</th>\n",
       "      <th>SciFi</th>\n",
       "      <th>TV</th>\n",
       "      <th>Thriller</th>\n",
       "      <th>War</th>\n",
       "      <th>Western</th>\n",
       "      <th>Bad Words</th>\n",
       "    </tr>\n",
       "  </thead>\n",
       "  <tbody>\n",
       "    <tr>\n",
       "      <th>205</th>\n",
       "      <td>Umberto D.</td>\n",
       "      <td>1952</td>\n",
       "      <td>89</td>\n",
       "      <td>8.2</td>\n",
       "      <td>92.000</td>\n",
       "      <td>0.07</td>\n",
       "      <td>27,087</td>\n",
       "      <td>An elderly man and his dog struggle to survive...</td>\n",
       "      <td>(833, [18])</td>\n",
       "      <td>833.0</td>\n",
       "      <td>...</td>\n",
       "      <td>0</td>\n",
       "      <td>0</td>\n",
       "      <td>0</td>\n",
       "      <td>0</td>\n",
       "      <td>0</td>\n",
       "      <td>0</td>\n",
       "      <td>0</td>\n",
       "      <td>0</td>\n",
       "      <td>0</td>\n",
       "      <td>3</td>\n",
       "    </tr>\n",
       "    <tr>\n",
       "      <th>263</th>\n",
       "      <td>Hachi: A Dog's Tale</td>\n",
       "      <td>2009</td>\n",
       "      <td>93</td>\n",
       "      <td>8.1</td>\n",
       "      <td>7.892</td>\n",
       "      <td>236</td>\n",
       "      <td>2,98,283</td>\n",
       "      <td>A college professor bonds with an abandoned do...</td>\n",
       "      <td>(28178, [18, 10751])</td>\n",
       "      <td>28178.0</td>\n",
       "      <td>...</td>\n",
       "      <td>0</td>\n",
       "      <td>0</td>\n",
       "      <td>0</td>\n",
       "      <td>0</td>\n",
       "      <td>0</td>\n",
       "      <td>0</td>\n",
       "      <td>0</td>\n",
       "      <td>0</td>\n",
       "      <td>0</td>\n",
       "      <td>0</td>\n",
       "    </tr>\n",
       "    <tr>\n",
       "      <th>540</th>\n",
       "      <td>Togo</td>\n",
       "      <td>2019</td>\n",
       "      <td>113</td>\n",
       "      <td>7.9</td>\n",
       "      <td>69.000</td>\n",
       "      <td>NaN</td>\n",
       "      <td>52,579</td>\n",
       "      <td>The story of Togo, the sled dog who led the 19...</td>\n",
       "      <td>(884363, [80, 18])</td>\n",
       "      <td>884363.0</td>\n",
       "      <td>...</td>\n",
       "      <td>0</td>\n",
       "      <td>0</td>\n",
       "      <td>0</td>\n",
       "      <td>0</td>\n",
       "      <td>0</td>\n",
       "      <td>0</td>\n",
       "      <td>0</td>\n",
       "      <td>0</td>\n",
       "      <td>0</td>\n",
       "      <td>1</td>\n",
       "    </tr>\n",
       "    <tr>\n",
       "      <th>651</th>\n",
       "      <td>Isle of Dogs</td>\n",
       "      <td>2018</td>\n",
       "      <td>101</td>\n",
       "      <td>7.8</td>\n",
       "      <td>82.000</td>\n",
       "      <td>32.02</td>\n",
       "      <td>1,81,265</td>\n",
       "      <td>Set in Japan, Isle of Dogs follows a boy's ody...</td>\n",
       "      <td>(399174, [12, 35, 16])</td>\n",
       "      <td>399174.0</td>\n",
       "      <td>...</td>\n",
       "      <td>0</td>\n",
       "      <td>0</td>\n",
       "      <td>0</td>\n",
       "      <td>0</td>\n",
       "      <td>0</td>\n",
       "      <td>0</td>\n",
       "      <td>0</td>\n",
       "      <td>0</td>\n",
       "      <td>0</td>\n",
       "      <td>4</td>\n",
       "    </tr>\n",
       "  </tbody>\n",
       "</table>\n",
       "<p>4 rows × 31 columns</p>\n",
       "</div>"
      ],
      "text/plain": [
       "              Movie Name  Year of Release  Watch Time  Movie Rating  \\\n",
       "205           Umberto D.             1952          89           8.2   \n",
       "263  Hachi: A Dog's Tale             2009          93           8.1   \n",
       "540                 Togo             2019         113           7.9   \n",
       "651         Isle of Dogs             2018         101           7.8   \n",
       "\n",
       "     Metascore of movie  Gross     Votes  \\\n",
       "205              92.000   0.07    27,087   \n",
       "263               7.892    236  2,98,283   \n",
       "540              69.000    NaN    52,579   \n",
       "651              82.000  32.02  1,81,265   \n",
       "\n",
       "                                           Description  \\\n",
       "205  An elderly man and his dog struggle to survive...   \n",
       "263  A college professor bonds with an abandoned do...   \n",
       "540  The story of Togo, the sled dog who led the 19...   \n",
       "651  Set in Japan, Isle of Dogs follows a boy's ody...   \n",
       "\n",
       "                        Ids   TMDB_Id  ... Horror  Music  Mystery  Romance  \\\n",
       "205             (833, [18])     833.0  ...      0      0        0        0   \n",
       "263    (28178, [18, 10751])   28178.0  ...      0      0        0        0   \n",
       "540      (884363, [80, 18])  884363.0  ...      0      0        0        0   \n",
       "651  (399174, [12, 35, 16])  399174.0  ...      0      0        0        0   \n",
       "\n",
       "     SciFi  TV  Thriller  War  Western  Bad Words  \n",
       "205      0   0         0    0        0          3  \n",
       "263      0   0         0    0        0          0  \n",
       "540      0   0         0    0        0          1  \n",
       "651      0   0         0    0        0          4  \n",
       "\n",
       "[4 rows x 31 columns]"
      ]
     },
     "execution_count": 47,
     "metadata": {},
     "output_type": "execute_result"
    }
   ],
   "source": [
    "df_dogs = df_dogs[df['Movie Name'] != \"The Wizard of Oz\"]\n",
    "df_dogs"
   ]
  },
  {
   "cell_type": "code",
   "execution_count": 86,
   "id": "78c174ee",
   "metadata": {},
   "outputs": [
    {
     "data": {
      "text/plain": [
       "1.8257418583505538"
      ]
     },
     "execution_count": 86,
     "metadata": {},
     "output_type": "execute_result"
    }
   ],
   "source": [
    "df_dogs['Bad Words'].std()"
   ]
  },
  {
   "cell_type": "code",
   "execution_count": 85,
   "id": "a557b794",
   "metadata": {},
   "outputs": [
    {
     "data": {
      "text/plain": [
       "60.316236490553344"
      ]
     },
     "execution_count": 85,
     "metadata": {},
     "output_type": "execute_result"
    }
   ],
   "source": [
    "df['Bad Words'].std()"
   ]
  },
  {
   "cell_type": "code",
   "execution_count": 79,
   "id": "04aec63c",
   "metadata": {},
   "outputs": [
    {
     "name": "stdout",
     "output_type": "stream",
     "text": [
      "-0.9078271483919631 0.1820939160601261\n"
     ]
    }
   ],
   "source": [
    "t, p = stats.ttest_ind(df_dogs['Bad Words'], df['Bad Words'], alternative='less')\n",
    "print(t, p)"
   ]
  }
 ],
 "metadata": {
  "kernelspec": {
   "display_name": "Python 3 (ipykernel)",
   "language": "python",
   "name": "python3"
  },
  "language_info": {
   "codemirror_mode": {
    "name": "ipython",
    "version": 3
   },
   "file_extension": ".py",
   "mimetype": "text/x-python",
   "name": "python",
   "nbconvert_exporter": "python",
   "pygments_lexer": "ipython3",
   "version": "3.10.9"
  }
 },
 "nbformat": 4,
 "nbformat_minor": 5
}
