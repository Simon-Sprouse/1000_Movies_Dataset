{
 "cells": [
  {
   "cell_type": "markdown",
   "id": "bc995a50",
   "metadata": {},
   "source": [
    "# Statistics"
   ]
  },
  {
   "cell_type": "code",
   "execution_count": 93,
   "id": "a7bc35ae",
   "metadata": {},
   "outputs": [],
   "source": [
    "import pandas as pd\n",
    "import numpy as np\n",
    "from scipy import stats"
   ]
  },
  {
   "cell_type": "code",
   "execution_count": 94,
   "id": "7aa2000d",
   "metadata": {},
   "outputs": [],
   "source": [
    "df = pd.read_csv(\"added_features.csv\", index_col = False)"
   ]
  },
  {
   "cell_type": "code",
   "execution_count": 95,
   "id": "a03b1196",
   "metadata": {},
   "outputs": [
    {
     "data": {
      "text/html": [
       "<div>\n",
       "<style scoped>\n",
       "    .dataframe tbody tr th:only-of-type {\n",
       "        vertical-align: middle;\n",
       "    }\n",
       "\n",
       "    .dataframe tbody tr th {\n",
       "        vertical-align: top;\n",
       "    }\n",
       "\n",
       "    .dataframe thead th {\n",
       "        text-align: right;\n",
       "    }\n",
       "</style>\n",
       "<table border=\"1\" class=\"dataframe\">\n",
       "  <thead>\n",
       "    <tr style=\"text-align: right;\">\n",
       "      <th></th>\n",
       "      <th>Movie Name</th>\n",
       "      <th>Year of Release</th>\n",
       "      <th>Watch Time</th>\n",
       "      <th>Movie Rating</th>\n",
       "      <th>Metascore of movie</th>\n",
       "      <th>Gross</th>\n",
       "      <th>Votes</th>\n",
       "      <th>Description</th>\n",
       "      <th>Ids</th>\n",
       "      <th>TMDB_Id</th>\n",
       "      <th>...</th>\n",
       "      <th>Horror</th>\n",
       "      <th>Music</th>\n",
       "      <th>Mystery</th>\n",
       "      <th>Romance</th>\n",
       "      <th>SciFi</th>\n",
       "      <th>TV</th>\n",
       "      <th>Thriller</th>\n",
       "      <th>War</th>\n",
       "      <th>Western</th>\n",
       "      <th>Bad Words</th>\n",
       "    </tr>\n",
       "  </thead>\n",
       "  <tbody>\n",
       "    <tr>\n",
       "      <th>0</th>\n",
       "      <td>The Shawshank Redemption</td>\n",
       "      <td>1994</td>\n",
       "      <td>142</td>\n",
       "      <td>9.3</td>\n",
       "      <td>82.0</td>\n",
       "      <td>28.34</td>\n",
       "      <td>27,77,378</td>\n",
       "      <td>Over the course of several years, two convicts...</td>\n",
       "      <td>(278, [18, 80])</td>\n",
       "      <td>278.0</td>\n",
       "      <td>...</td>\n",
       "      <td>0</td>\n",
       "      <td>0</td>\n",
       "      <td>0</td>\n",
       "      <td>0</td>\n",
       "      <td>0</td>\n",
       "      <td>0</td>\n",
       "      <td>0</td>\n",
       "      <td>0</td>\n",
       "      <td>0</td>\n",
       "      <td>100</td>\n",
       "    </tr>\n",
       "    <tr>\n",
       "      <th>1</th>\n",
       "      <td>The Godfather</td>\n",
       "      <td>1972</td>\n",
       "      <td>175</td>\n",
       "      <td>9.2</td>\n",
       "      <td>100.0</td>\n",
       "      <td>134.97</td>\n",
       "      <td>19,33,588</td>\n",
       "      <td>Don Vito Corleone, head of a mafia family, dec...</td>\n",
       "      <td>(238, [18, 80])</td>\n",
       "      <td>238.0</td>\n",
       "      <td>...</td>\n",
       "      <td>0</td>\n",
       "      <td>0</td>\n",
       "      <td>0</td>\n",
       "      <td>0</td>\n",
       "      <td>0</td>\n",
       "      <td>0</td>\n",
       "      <td>0</td>\n",
       "      <td>0</td>\n",
       "      <td>0</td>\n",
       "      <td>20</td>\n",
       "    </tr>\n",
       "    <tr>\n",
       "      <th>2</th>\n",
       "      <td>The Dark Knight</td>\n",
       "      <td>2008</td>\n",
       "      <td>152</td>\n",
       "      <td>9.0</td>\n",
       "      <td>84.0</td>\n",
       "      <td>534.86</td>\n",
       "      <td>27,54,087</td>\n",
       "      <td>When the menace known as the Joker wreaks havo...</td>\n",
       "      <td>(155, [18, 28, 80, 53])</td>\n",
       "      <td>155.0</td>\n",
       "      <td>...</td>\n",
       "      <td>0</td>\n",
       "      <td>0</td>\n",
       "      <td>0</td>\n",
       "      <td>0</td>\n",
       "      <td>0</td>\n",
       "      <td>0</td>\n",
       "      <td>1</td>\n",
       "      <td>0</td>\n",
       "      <td>0</td>\n",
       "      <td>5</td>\n",
       "    </tr>\n",
       "    <tr>\n",
       "      <th>3</th>\n",
       "      <td>Schindler's List</td>\n",
       "      <td>1993</td>\n",
       "      <td>195</td>\n",
       "      <td>9.0</td>\n",
       "      <td>95.0</td>\n",
       "      <td>96.9</td>\n",
       "      <td>13,97,886</td>\n",
       "      <td>In German-occupied Poland during World War II,...</td>\n",
       "      <td>(424, [18, 36, 10752])</td>\n",
       "      <td>424.0</td>\n",
       "      <td>...</td>\n",
       "      <td>0</td>\n",
       "      <td>0</td>\n",
       "      <td>0</td>\n",
       "      <td>0</td>\n",
       "      <td>0</td>\n",
       "      <td>0</td>\n",
       "      <td>0</td>\n",
       "      <td>1</td>\n",
       "      <td>0</td>\n",
       "      <td>16</td>\n",
       "    </tr>\n",
       "    <tr>\n",
       "      <th>4</th>\n",
       "      <td>12 Angry Men</td>\n",
       "      <td>1957</td>\n",
       "      <td>96</td>\n",
       "      <td>9.0</td>\n",
       "      <td>97.0</td>\n",
       "      <td>4.36</td>\n",
       "      <td>8,24,211</td>\n",
       "      <td>The jury in a New York City murder trial is fr...</td>\n",
       "      <td>(389, [18])</td>\n",
       "      <td>389.0</td>\n",
       "      <td>...</td>\n",
       "      <td>0</td>\n",
       "      <td>0</td>\n",
       "      <td>0</td>\n",
       "      <td>0</td>\n",
       "      <td>0</td>\n",
       "      <td>0</td>\n",
       "      <td>0</td>\n",
       "      <td>0</td>\n",
       "      <td>0</td>\n",
       "      <td>1</td>\n",
       "    </tr>\n",
       "  </tbody>\n",
       "</table>\n",
       "<p>5 rows × 31 columns</p>\n",
       "</div>"
      ],
      "text/plain": [
       "                 Movie Name  Year of Release  Watch Time  Movie Rating  \\\n",
       "0  The Shawshank Redemption             1994         142           9.3   \n",
       "1             The Godfather             1972         175           9.2   \n",
       "2           The Dark Knight             2008         152           9.0   \n",
       "3          Schindler's List             1993         195           9.0   \n",
       "4              12 Angry Men             1957          96           9.0   \n",
       "\n",
       "   Metascore of movie   Gross      Votes  \\\n",
       "0                82.0   28.34  27,77,378   \n",
       "1               100.0  134.97  19,33,588   \n",
       "2                84.0  534.86  27,54,087   \n",
       "3                95.0    96.9  13,97,886   \n",
       "4                97.0    4.36   8,24,211   \n",
       "\n",
       "                                         Description                      Ids  \\\n",
       "0  Over the course of several years, two convicts...          (278, [18, 80])   \n",
       "1  Don Vito Corleone, head of a mafia family, dec...          (238, [18, 80])   \n",
       "2  When the menace known as the Joker wreaks havo...  (155, [18, 28, 80, 53])   \n",
       "3  In German-occupied Poland during World War II,...   (424, [18, 36, 10752])   \n",
       "4  The jury in a New York City murder trial is fr...              (389, [18])   \n",
       "\n",
       "   TMDB_Id  ... Horror  Music  Mystery  Romance  SciFi  TV  Thriller  War  \\\n",
       "0    278.0  ...      0      0        0        0      0   0         0    0   \n",
       "1    238.0  ...      0      0        0        0      0   0         0    0   \n",
       "2    155.0  ...      0      0        0        0      0   0         1    0   \n",
       "3    424.0  ...      0      0        0        0      0   0         0    1   \n",
       "4    389.0  ...      0      0        0        0      0   0         0    0   \n",
       "\n",
       "   Western  Bad Words  \n",
       "0        0        100  \n",
       "1        0         20  \n",
       "2        0          5  \n",
       "3        0         16  \n",
       "4        0          1  \n",
       "\n",
       "[5 rows x 31 columns]"
      ]
     },
     "execution_count": 95,
     "metadata": {},
     "output_type": "execute_result"
    }
   ],
   "source": [
    "df.head()"
   ]
  },
  {
   "cell_type": "markdown",
   "id": "31f287e2",
   "metadata": {},
   "source": [
    "### Shortest movie"
   ]
  },
  {
   "cell_type": "code",
   "execution_count": 96,
   "id": "73972258",
   "metadata": {},
   "outputs": [
    {
     "data": {
      "text/html": [
       "<div>\n",
       "<style scoped>\n",
       "    .dataframe tbody tr th:only-of-type {\n",
       "        vertical-align: middle;\n",
       "    }\n",
       "\n",
       "    .dataframe tbody tr th {\n",
       "        vertical-align: top;\n",
       "    }\n",
       "\n",
       "    .dataframe thead th {\n",
       "        text-align: right;\n",
       "    }\n",
       "</style>\n",
       "<table border=\"1\" class=\"dataframe\">\n",
       "  <thead>\n",
       "    <tr style=\"text-align: right;\">\n",
       "      <th></th>\n",
       "      <th>Movie Name</th>\n",
       "      <th>Year of Release</th>\n",
       "      <th>Watch Time</th>\n",
       "      <th>Movie Rating</th>\n",
       "      <th>Metascore of movie</th>\n",
       "      <th>Gross</th>\n",
       "      <th>Votes</th>\n",
       "      <th>Description</th>\n",
       "      <th>Ids</th>\n",
       "      <th>TMDB_Id</th>\n",
       "      <th>...</th>\n",
       "      <th>Horror</th>\n",
       "      <th>Music</th>\n",
       "      <th>Mystery</th>\n",
       "      <th>Romance</th>\n",
       "      <th>SciFi</th>\n",
       "      <th>TV</th>\n",
       "      <th>Thriller</th>\n",
       "      <th>War</th>\n",
       "      <th>Western</th>\n",
       "      <th>Bad Words</th>\n",
       "    </tr>\n",
       "  </thead>\n",
       "  <tbody>\n",
       "    <tr>\n",
       "      <th>202</th>\n",
       "      <td>Sherlock Jr.</td>\n",
       "      <td>1924</td>\n",
       "      <td>45</td>\n",
       "      <td>8.2</td>\n",
       "      <td>8.2</td>\n",
       "      <td>0.98</td>\n",
       "      <td>53,380</td>\n",
       "      <td>A film projectionist longs to be a detective, ...</td>\n",
       "      <td>(992, [28, 35, 9648])</td>\n",
       "      <td>992.0</td>\n",
       "      <td>...</td>\n",
       "      <td>0</td>\n",
       "      <td>0</td>\n",
       "      <td>1</td>\n",
       "      <td>0</td>\n",
       "      <td>0</td>\n",
       "      <td>0</td>\n",
       "      <td>0</td>\n",
       "      <td>0</td>\n",
       "      <td>0</td>\n",
       "      <td>0</td>\n",
       "    </tr>\n",
       "  </tbody>\n",
       "</table>\n",
       "<p>1 rows × 31 columns</p>\n",
       "</div>"
      ],
      "text/plain": [
       "       Movie Name  Year of Release  Watch Time  Movie Rating  \\\n",
       "202  Sherlock Jr.             1924          45           8.2   \n",
       "\n",
       "     Metascore of movie Gross   Votes  \\\n",
       "202                 8.2  0.98  53,380   \n",
       "\n",
       "                                           Description                    Ids  \\\n",
       "202  A film projectionist longs to be a detective, ...  (992, [28, 35, 9648])   \n",
       "\n",
       "     TMDB_Id  ... Horror  Music  Mystery  Romance  SciFi  TV  Thriller  War  \\\n",
       "202    992.0  ...      0      0        1        0      0   0         0    0   \n",
       "\n",
       "     Western  Bad Words  \n",
       "202        0          0  \n",
       "\n",
       "[1 rows x 31 columns]"
      ]
     },
     "execution_count": 96,
     "metadata": {},
     "output_type": "execute_result"
    }
   ],
   "source": [
    "df.loc[df['Watch Time'] == df['Watch Time'].min()]"
   ]
  },
  {
   "cell_type": "markdown",
   "id": "452ecb0e",
   "metadata": {},
   "source": [
    "### Longest movie"
   ]
  },
  {
   "cell_type": "code",
   "execution_count": 97,
   "id": "e4ef7e83",
   "metadata": {},
   "outputs": [
    {
     "data": {
      "text/html": [
       "<div>\n",
       "<style scoped>\n",
       "    .dataframe tbody tr th:only-of-type {\n",
       "        vertical-align: middle;\n",
       "    }\n",
       "\n",
       "    .dataframe tbody tr th {\n",
       "        vertical-align: top;\n",
       "    }\n",
       "\n",
       "    .dataframe thead th {\n",
       "        text-align: right;\n",
       "    }\n",
       "</style>\n",
       "<table border=\"1\" class=\"dataframe\">\n",
       "  <thead>\n",
       "    <tr style=\"text-align: right;\">\n",
       "      <th></th>\n",
       "      <th>Movie Name</th>\n",
       "      <th>Year of Release</th>\n",
       "      <th>Watch Time</th>\n",
       "      <th>Movie Rating</th>\n",
       "      <th>Metascore of movie</th>\n",
       "      <th>Gross</th>\n",
       "      <th>Votes</th>\n",
       "      <th>Description</th>\n",
       "      <th>Ids</th>\n",
       "      <th>TMDB_Id</th>\n",
       "      <th>...</th>\n",
       "      <th>Horror</th>\n",
       "      <th>Music</th>\n",
       "      <th>Mystery</th>\n",
       "      <th>Romance</th>\n",
       "      <th>SciFi</th>\n",
       "      <th>TV</th>\n",
       "      <th>Thriller</th>\n",
       "      <th>War</th>\n",
       "      <th>Western</th>\n",
       "      <th>Bad Words</th>\n",
       "    </tr>\n",
       "  </thead>\n",
       "  <tbody>\n",
       "    <tr>\n",
       "      <th>183</th>\n",
       "      <td>Gangs of Wasseypur</td>\n",
       "      <td>2012</td>\n",
       "      <td>321</td>\n",
       "      <td>8.2</td>\n",
       "      <td>89.0</td>\n",
       "      <td>NaN</td>\n",
       "      <td>1,00,060</td>\n",
       "      <td>A clash between Sultan and Shahid Khan leads t...</td>\n",
       "      <td>(117691, [28, 53, 80])</td>\n",
       "      <td>117691.0</td>\n",
       "      <td>...</td>\n",
       "      <td>0</td>\n",
       "      <td>0</td>\n",
       "      <td>0</td>\n",
       "      <td>0</td>\n",
       "      <td>0</td>\n",
       "      <td>0</td>\n",
       "      <td>1</td>\n",
       "      <td>0</td>\n",
       "      <td>0</td>\n",
       "      <td>3</td>\n",
       "    </tr>\n",
       "  </tbody>\n",
       "</table>\n",
       "<p>1 rows × 31 columns</p>\n",
       "</div>"
      ],
      "text/plain": [
       "             Movie Name  Year of Release  Watch Time  Movie Rating  \\\n",
       "183  Gangs of Wasseypur             2012         321           8.2   \n",
       "\n",
       "     Metascore of movie Gross     Votes  \\\n",
       "183                89.0   NaN  1,00,060   \n",
       "\n",
       "                                           Description  \\\n",
       "183  A clash between Sultan and Shahid Khan leads t...   \n",
       "\n",
       "                        Ids   TMDB_Id  ... Horror  Music  Mystery  Romance  \\\n",
       "183  (117691, [28, 53, 80])  117691.0  ...      0      0        0        0   \n",
       "\n",
       "     SciFi  TV  Thriller  War  Western  Bad Words  \n",
       "183      0   0         1    0        0          3  \n",
       "\n",
       "[1 rows x 31 columns]"
      ]
     },
     "execution_count": 97,
     "metadata": {},
     "output_type": "execute_result"
    }
   ],
   "source": [
    "df.loc[df['Watch Time'] == df['Watch Time'].max()]"
   ]
  },
  {
   "cell_type": "markdown",
   "id": "8ee352cc",
   "metadata": {},
   "source": [
    "## Here's a list of means/medians/stds"
   ]
  },
  {
   "cell_type": "code",
   "execution_count": 69,
   "id": "5a4f341f",
   "metadata": {},
   "outputs": [
    {
     "data": {
      "text/html": [
       "<div>\n",
       "<style scoped>\n",
       "    .dataframe tbody tr th:only-of-type {\n",
       "        vertical-align: middle;\n",
       "    }\n",
       "\n",
       "    .dataframe tbody tr th {\n",
       "        vertical-align: top;\n",
       "    }\n",
       "\n",
       "    .dataframe thead th {\n",
       "        text-align: right;\n",
       "    }\n",
       "</style>\n",
       "<table border=\"1\" class=\"dataframe\">\n",
       "  <thead>\n",
       "    <tr style=\"text-align: right;\">\n",
       "      <th></th>\n",
       "      <th>Year of Release</th>\n",
       "      <th>Watch Time</th>\n",
       "      <th>Movie Rating</th>\n",
       "      <th>Metascore of movie</th>\n",
       "      <th>TMDB_Id</th>\n",
       "      <th>Action</th>\n",
       "      <th>Adventure</th>\n",
       "      <th>Animation</th>\n",
       "      <th>Comedy</th>\n",
       "      <th>Crime</th>\n",
       "      <th>...</th>\n",
       "      <th>Horror</th>\n",
       "      <th>Music</th>\n",
       "      <th>Mystery</th>\n",
       "      <th>Romance</th>\n",
       "      <th>SciFi</th>\n",
       "      <th>TV</th>\n",
       "      <th>Thriller</th>\n",
       "      <th>War</th>\n",
       "      <th>Western</th>\n",
       "      <th>Bad Words</th>\n",
       "    </tr>\n",
       "  </thead>\n",
       "  <tbody>\n",
       "    <tr>\n",
       "      <th>count</th>\n",
       "      <td>1000.000000</td>\n",
       "      <td>1000.000000</td>\n",
       "      <td>1000.000000</td>\n",
       "      <td>845.000000</td>\n",
       "      <td>9.930000e+02</td>\n",
       "      <td>1000.000000</td>\n",
       "      <td>1000.000000</td>\n",
       "      <td>1000.000000</td>\n",
       "      <td>1000.000000</td>\n",
       "      <td>1000.000000</td>\n",
       "      <td>...</td>\n",
       "      <td>1000.000000</td>\n",
       "      <td>1000.000000</td>\n",
       "      <td>1000.000000</td>\n",
       "      <td>1000.000000</td>\n",
       "      <td>1000.000000</td>\n",
       "      <td>1000.000000</td>\n",
       "      <td>1000.0000</td>\n",
       "      <td>1000.000000</td>\n",
       "      <td>1000.000000</td>\n",
       "      <td>1000.000000</td>\n",
       "    </tr>\n",
       "    <tr>\n",
       "      <th>mean</th>\n",
       "      <td>1991.666000</td>\n",
       "      <td>124.253000</td>\n",
       "      <td>7.970200</td>\n",
       "      <td>79.011834</td>\n",
       "      <td>1.149451e+05</td>\n",
       "      <td>0.185000</td>\n",
       "      <td>0.158000</td>\n",
       "      <td>0.081000</td>\n",
       "      <td>0.219000</td>\n",
       "      <td>0.188000</td>\n",
       "      <td>...</td>\n",
       "      <td>0.037000</td>\n",
       "      <td>0.027000</td>\n",
       "      <td>0.088000</td>\n",
       "      <td>0.157000</td>\n",
       "      <td>0.091000</td>\n",
       "      <td>0.002000</td>\n",
       "      <td>0.2000</td>\n",
       "      <td>0.076000</td>\n",
       "      <td>0.025000</td>\n",
       "      <td>29.392000</td>\n",
       "    </tr>\n",
       "    <tr>\n",
       "      <th>std</th>\n",
       "      <td>24.188045</td>\n",
       "      <td>28.800355</td>\n",
       "      <td>0.275732</td>\n",
       "      <td>11.973800</td>\n",
       "      <td>2.152426e+05</td>\n",
       "      <td>0.388492</td>\n",
       "      <td>0.364924</td>\n",
       "      <td>0.272972</td>\n",
       "      <td>0.413776</td>\n",
       "      <td>0.390908</td>\n",
       "      <td>...</td>\n",
       "      <td>0.188856</td>\n",
       "      <td>0.162164</td>\n",
       "      <td>0.283437</td>\n",
       "      <td>0.363983</td>\n",
       "      <td>0.287753</td>\n",
       "      <td>0.044699</td>\n",
       "      <td>0.4002</td>\n",
       "      <td>0.265131</td>\n",
       "      <td>0.156203</td>\n",
       "      <td>60.316236</td>\n",
       "    </tr>\n",
       "    <tr>\n",
       "      <th>min</th>\n",
       "      <td>1920.000000</td>\n",
       "      <td>45.000000</td>\n",
       "      <td>7.600000</td>\n",
       "      <td>28.000000</td>\n",
       "      <td>1.100000e+01</td>\n",
       "      <td>0.000000</td>\n",
       "      <td>0.000000</td>\n",
       "      <td>0.000000</td>\n",
       "      <td>0.000000</td>\n",
       "      <td>0.000000</td>\n",
       "      <td>...</td>\n",
       "      <td>0.000000</td>\n",
       "      <td>0.000000</td>\n",
       "      <td>0.000000</td>\n",
       "      <td>0.000000</td>\n",
       "      <td>0.000000</td>\n",
       "      <td>0.000000</td>\n",
       "      <td>0.0000</td>\n",
       "      <td>0.000000</td>\n",
       "      <td>0.000000</td>\n",
       "      <td>-1.000000</td>\n",
       "    </tr>\n",
       "    <tr>\n",
       "      <th>25%</th>\n",
       "      <td>1975.000000</td>\n",
       "      <td>103.000000</td>\n",
       "      <td>7.800000</td>\n",
       "      <td>71.000000</td>\n",
       "      <td>8.570000e+02</td>\n",
       "      <td>0.000000</td>\n",
       "      <td>0.000000</td>\n",
       "      <td>0.000000</td>\n",
       "      <td>0.000000</td>\n",
       "      <td>0.000000</td>\n",
       "      <td>...</td>\n",
       "      <td>0.000000</td>\n",
       "      <td>0.000000</td>\n",
       "      <td>0.000000</td>\n",
       "      <td>0.000000</td>\n",
       "      <td>0.000000</td>\n",
       "      <td>0.000000</td>\n",
       "      <td>0.0000</td>\n",
       "      <td>0.000000</td>\n",
       "      <td>0.000000</td>\n",
       "      <td>1.000000</td>\n",
       "    </tr>\n",
       "    <tr>\n",
       "      <th>50%</th>\n",
       "      <td>1999.000000</td>\n",
       "      <td>120.000000</td>\n",
       "      <td>7.900000</td>\n",
       "      <td>80.000000</td>\n",
       "      <td>1.031500e+04</td>\n",
       "      <td>0.000000</td>\n",
       "      <td>0.000000</td>\n",
       "      <td>0.000000</td>\n",
       "      <td>0.000000</td>\n",
       "      <td>0.000000</td>\n",
       "      <td>...</td>\n",
       "      <td>0.000000</td>\n",
       "      <td>0.000000</td>\n",
       "      <td>0.000000</td>\n",
       "      <td>0.000000</td>\n",
       "      <td>0.000000</td>\n",
       "      <td>0.000000</td>\n",
       "      <td>0.0000</td>\n",
       "      <td>0.000000</td>\n",
       "      <td>0.000000</td>\n",
       "      <td>7.000000</td>\n",
       "    </tr>\n",
       "    <tr>\n",
       "      <th>75%</th>\n",
       "      <td>2011.000000</td>\n",
       "      <td>139.000000</td>\n",
       "      <td>8.100000</td>\n",
       "      <td>88.000000</td>\n",
       "      <td>1.004020e+05</td>\n",
       "      <td>0.000000</td>\n",
       "      <td>0.000000</td>\n",
       "      <td>0.000000</td>\n",
       "      <td>0.000000</td>\n",
       "      <td>0.000000</td>\n",
       "      <td>...</td>\n",
       "      <td>0.000000</td>\n",
       "      <td>0.000000</td>\n",
       "      <td>0.000000</td>\n",
       "      <td>0.000000</td>\n",
       "      <td>0.000000</td>\n",
       "      <td>0.000000</td>\n",
       "      <td>0.0000</td>\n",
       "      <td>0.000000</td>\n",
       "      <td>0.000000</td>\n",
       "      <td>31.000000</td>\n",
       "    </tr>\n",
       "    <tr>\n",
       "      <th>max</th>\n",
       "      <td>2023.000000</td>\n",
       "      <td>321.000000</td>\n",
       "      <td>9.300000</td>\n",
       "      <td>100.000000</td>\n",
       "      <td>1.131438e+06</td>\n",
       "      <td>1.000000</td>\n",
       "      <td>1.000000</td>\n",
       "      <td>1.000000</td>\n",
       "      <td>1.000000</td>\n",
       "      <td>1.000000</td>\n",
       "      <td>...</td>\n",
       "      <td>1.000000</td>\n",
       "      <td>1.000000</td>\n",
       "      <td>1.000000</td>\n",
       "      <td>1.000000</td>\n",
       "      <td>1.000000</td>\n",
       "      <td>1.000000</td>\n",
       "      <td>1.0000</td>\n",
       "      <td>1.000000</td>\n",
       "      <td>1.000000</td>\n",
       "      <td>686.000000</td>\n",
       "    </tr>\n",
       "  </tbody>\n",
       "</table>\n",
       "<p>8 rows × 25 columns</p>\n",
       "</div>"
      ],
      "text/plain": [
       "       Year of Release   Watch Time  Movie Rating  Metascore of movie  \\\n",
       "count      1000.000000  1000.000000   1000.000000          845.000000   \n",
       "mean       1991.666000   124.253000      7.970200           79.011834   \n",
       "std          24.188045    28.800355      0.275732           11.973800   \n",
       "min        1920.000000    45.000000      7.600000           28.000000   \n",
       "25%        1975.000000   103.000000      7.800000           71.000000   \n",
       "50%        1999.000000   120.000000      7.900000           80.000000   \n",
       "75%        2011.000000   139.000000      8.100000           88.000000   \n",
       "max        2023.000000   321.000000      9.300000          100.000000   \n",
       "\n",
       "            TMDB_Id       Action    Adventure    Animation       Comedy  \\\n",
       "count  9.930000e+02  1000.000000  1000.000000  1000.000000  1000.000000   \n",
       "mean   1.149451e+05     0.185000     0.158000     0.081000     0.219000   \n",
       "std    2.152426e+05     0.388492     0.364924     0.272972     0.413776   \n",
       "min    1.100000e+01     0.000000     0.000000     0.000000     0.000000   \n",
       "25%    8.570000e+02     0.000000     0.000000     0.000000     0.000000   \n",
       "50%    1.031500e+04     0.000000     0.000000     0.000000     0.000000   \n",
       "75%    1.004020e+05     0.000000     0.000000     0.000000     0.000000   \n",
       "max    1.131438e+06     1.000000     1.000000     1.000000     1.000000   \n",
       "\n",
       "             Crime  ...       Horror        Music      Mystery      Romance  \\\n",
       "count  1000.000000  ...  1000.000000  1000.000000  1000.000000  1000.000000   \n",
       "mean      0.188000  ...     0.037000     0.027000     0.088000     0.157000   \n",
       "std       0.390908  ...     0.188856     0.162164     0.283437     0.363983   \n",
       "min       0.000000  ...     0.000000     0.000000     0.000000     0.000000   \n",
       "25%       0.000000  ...     0.000000     0.000000     0.000000     0.000000   \n",
       "50%       0.000000  ...     0.000000     0.000000     0.000000     0.000000   \n",
       "75%       0.000000  ...     0.000000     0.000000     0.000000     0.000000   \n",
       "max       1.000000  ...     1.000000     1.000000     1.000000     1.000000   \n",
       "\n",
       "             SciFi           TV   Thriller          War      Western  \\\n",
       "count  1000.000000  1000.000000  1000.0000  1000.000000  1000.000000   \n",
       "mean      0.091000     0.002000     0.2000     0.076000     0.025000   \n",
       "std       0.287753     0.044699     0.4002     0.265131     0.156203   \n",
       "min       0.000000     0.000000     0.0000     0.000000     0.000000   \n",
       "25%       0.000000     0.000000     0.0000     0.000000     0.000000   \n",
       "50%       0.000000     0.000000     0.0000     0.000000     0.000000   \n",
       "75%       0.000000     0.000000     0.0000     0.000000     0.000000   \n",
       "max       1.000000     1.000000     1.0000     1.000000     1.000000   \n",
       "\n",
       "         Bad Words  \n",
       "count  1000.000000  \n",
       "mean     29.392000  \n",
       "std      60.316236  \n",
       "min      -1.000000  \n",
       "25%       1.000000  \n",
       "50%       7.000000  \n",
       "75%      31.000000  \n",
       "max     686.000000  \n",
       "\n",
       "[8 rows x 25 columns]"
      ]
     },
     "execution_count": 69,
     "metadata": {},
     "output_type": "execute_result"
    }
   ],
   "source": [
    "df.describe()"
   ]
  },
  {
   "cell_type": "markdown",
   "id": "a83b93d5",
   "metadata": {},
   "source": [
    "## Watchtime by year of release"
   ]
  },
  {
   "cell_type": "code",
   "execution_count": 70,
   "id": "7cea9771",
   "metadata": {},
   "outputs": [
    {
     "data": {
      "text/plain": [
       "Year of Release\n",
       "1920     76.000000\n",
       "1921     68.000000\n",
       "1922     94.000000\n",
       "1924     45.000000\n",
       "1925     85.000000\n",
       "           ...    \n",
       "2019    135.115385\n",
       "2020    119.666667\n",
       "2021    147.090909\n",
       "2022    141.833333\n",
       "2023    160.400000\n",
       "Name: Watch Time, Length: 102, dtype: float64"
      ]
     },
     "execution_count": 70,
     "metadata": {},
     "output_type": "execute_result"
    }
   ],
   "source": [
    "df.groupby('Year of Release')['Watch Time'].mean()"
   ]
  },
  {
   "cell_type": "markdown",
   "id": "5ab285df",
   "metadata": {},
   "source": [
    "## Movie Rating by year of release"
   ]
  },
  {
   "cell_type": "code",
   "execution_count": 71,
   "id": "99ea5e8f",
   "metadata": {},
   "outputs": [
    {
     "data": {
      "text/plain": [
       "Year of Release\n",
       "1920    8.000000\n",
       "1921    8.300000\n",
       "1922    7.900000\n",
       "1924    8.200000\n",
       "1925    8.000000\n",
       "          ...   \n",
       "2019    8.034615\n",
       "2020    8.088889\n",
       "2021    8.109091\n",
       "2022    8.072222\n",
       "2023    8.300000\n",
       "Name: Movie Rating, Length: 102, dtype: float64"
      ]
     },
     "execution_count": 71,
     "metadata": {},
     "output_type": "execute_result"
    }
   ],
   "source": [
    "df.groupby('Year of Release')['Movie Rating'].mean()"
   ]
  },
  {
   "cell_type": "markdown",
   "id": "5c44eb9d",
   "metadata": {},
   "source": [
    "## Metascore by year of release"
   ]
  },
  {
   "cell_type": "code",
   "execution_count": 72,
   "id": "0e81a506",
   "metadata": {},
   "outputs": [
    {
     "data": {
      "text/plain": [
       "Year of Release\n",
       "1920          NaN\n",
       "1921          NaN\n",
       "1922          NaN\n",
       "1924          NaN\n",
       "1925    97.000000\n",
       "          ...    \n",
       "2019    77.789474\n",
       "2020    83.875000\n",
       "2021    73.285714\n",
       "2022    77.454545\n",
       "2023    79.400000\n",
       "Name: Metascore of movie, Length: 102, dtype: float64"
      ]
     },
     "execution_count": 72,
     "metadata": {},
     "output_type": "execute_result"
    }
   ],
   "source": [
    "df.groupby('Year of Release')['Metascore of movie'].mean()"
   ]
  },
  {
   "cell_type": "markdown",
   "id": "1ebc07ef",
   "metadata": {},
   "source": [
    "# Heres some extra work"
   ]
  },
  {
   "cell_type": "code",
   "execution_count": 73,
   "id": "17f4e463",
   "metadata": {},
   "outputs": [],
   "source": [
    "genre_keys = {\n",
    "\n",
    "    28       :   \"Action\",\n",
    "    12       :   \"Adventure\",\n",
    "    16       :   \"Animation\",\n",
    "    35       :   \"Comedy\",\n",
    "    80       :   \"Crime\",\n",
    "    99       :   \"Documentary\",\n",
    "    18       :   \"Drama\",\n",
    "    10751    :   \"Family\",\n",
    "    14       :   \"Fantasy\",\n",
    "    36       :   \"History\",\n",
    "    27       :   \"Horror\",\n",
    "    10402    :   \"Music\",\n",
    "    9648     :   \"Mystery\",\n",
    "    10749    :   \"Romance\",\n",
    "    878      :   \"SciFi\",\n",
    "    10770    :   \"TV\",\n",
    "    53       :   \"Thriller\",\n",
    "    10752    :   \"War\",\n",
    "    37       :   \"Western\"\n",
    "    \n",
    "}"
   ]
  },
  {
   "cell_type": "markdown",
   "id": "2e07e4b2",
   "metadata": {},
   "source": [
    "## Total number of movies in each genre"
   ]
  },
  {
   "cell_type": "code",
   "execution_count": 74,
   "id": "fc27800f",
   "metadata": {},
   "outputs": [
    {
     "name": "stdout",
     "output_type": "stream",
     "text": [
      "Drama        670\n",
      "Comedy       219\n",
      "Thriller     200\n",
      "Crime        188\n",
      "Action       185\n",
      "Adventure    158\n",
      "Romance      157\n",
      "SciFi         91\n",
      "Fantasy       89\n",
      "Mystery       88\n",
      "History       85\n",
      "Animation     81\n",
      "Family        78\n",
      "War           76\n",
      "Horror        37\n",
      "Music         27\n",
      "Western       25\n",
      "Documentary    4\n",
      "TV             2\n"
     ]
    }
   ],
   "source": [
    "genre_totals = []\n",
    "for genre in genre_keys.values():\n",
    "    genre_totals.append((genre, df[genre].sum()))\n",
    "    \n",
    "genre_totals.sort(key = lambda x: x[1], reverse = True)\n",
    "for genre, total in genre_totals:\n",
    "    print(\"{:12s} {:3d}\".format(genre, total))"
   ]
  },
  {
   "cell_type": "markdown",
   "id": "df157888",
   "metadata": {},
   "source": [
    "## Total watchtime per genre"
   ]
  },
  {
   "cell_type": "code",
   "execution_count": 75,
   "id": "e1249ae8",
   "metadata": {},
   "outputs": [
    {
     "name": "stdout",
     "output_type": "stream",
     "text": [
      "Drama        85154\n",
      "Thriller     24869\n",
      "Action       24865\n",
      "Comedy       24726\n",
      "Crime        23735\n",
      "Adventure    20278\n",
      "Romance      19312\n",
      "History      12006\n",
      "SciFi        11150\n",
      "Mystery      10925\n",
      "Fantasy      10620\n",
      "War          10203\n",
      "Animation    8191\n",
      "Family       8150\n",
      "Horror       4033\n",
      "Music        3295\n",
      "Western      3255\n",
      "Documentary  512\n",
      "TV           277\n"
     ]
    }
   ],
   "source": [
    "genre_watchtime = []\n",
    "for genre in genre_keys.values():\n",
    "    genre_watchtime.append((genre, df.loc[df[genre] == 1]['Watch Time'].sum()))\n",
    "    \n",
    "genre_watchtime.sort(key = lambda x: x[1], reverse = True)\n",
    "for genre, total in genre_watchtime:\n",
    "    print(\"{:12s} {:3d}\".format(genre, total))"
   ]
  },
  {
   "cell_type": "markdown",
   "id": "83cccd3b",
   "metadata": {},
   "source": [
    "## Average watchtime per genre"
   ]
  },
  {
   "cell_type": "code",
   "execution_count": 76,
   "id": "e7d7b92d",
   "metadata": {},
   "outputs": [
    {
     "name": "stdout",
     "output_type": "stream",
     "text": [
      "History      141.25\n",
      "TV           138.50\n",
      "Action       134.41\n",
      "War          134.25\n",
      "Western      130.20\n",
      "Adventure    128.34\n",
      "Documentary  128.00\n",
      "Drama        127.10\n",
      "Crime        126.25\n",
      "Thriller     124.34\n",
      "Mystery      124.15\n",
      "Romance      123.01\n",
      "SciFi        122.53\n",
      "Music        122.04\n",
      "Fantasy      119.33\n",
      "Comedy       112.90\n",
      "Horror       109.00\n",
      "Family       104.49\n",
      "Animation    101.12\n"
     ]
    }
   ],
   "source": [
    "genre_watchtime_avg = []\n",
    "for genre in genre_keys.values():\n",
    "    genre_watchtime_avg.append((genre, df.loc[df[genre] == 1]['Watch Time'].mean()))\n",
    "    \n",
    "genre_watchtime_avg.sort(key = lambda x: x[1], reverse = True)\n",
    "for genre, total in genre_watchtime_avg:\n",
    "    print(\"{:12s} {:3.2f}\".format(genre, total))"
   ]
  },
  {
   "cell_type": "markdown",
   "id": "5ebd8f01",
   "metadata": {},
   "source": [
    "## Correlation between animation and Family"
   ]
  },
  {
   "cell_type": "code",
   "execution_count": 77,
   "id": "ab36eccd",
   "metadata": {},
   "outputs": [
    {
     "data": {
      "text/html": [
       "<div>\n",
       "<style scoped>\n",
       "    .dataframe tbody tr th:only-of-type {\n",
       "        vertical-align: middle;\n",
       "    }\n",
       "\n",
       "    .dataframe tbody tr th {\n",
       "        vertical-align: top;\n",
       "    }\n",
       "\n",
       "    .dataframe thead th {\n",
       "        text-align: right;\n",
       "    }\n",
       "</style>\n",
       "<table border=\"1\" class=\"dataframe\">\n",
       "  <thead>\n",
       "    <tr style=\"text-align: right;\">\n",
       "      <th></th>\n",
       "      <th>Family</th>\n",
       "      <th>Animation</th>\n",
       "    </tr>\n",
       "  </thead>\n",
       "  <tbody>\n",
       "    <tr>\n",
       "      <th>Family</th>\n",
       "      <td>1.000000</td>\n",
       "      <td>0.610688</td>\n",
       "    </tr>\n",
       "    <tr>\n",
       "      <th>Animation</th>\n",
       "      <td>0.610688</td>\n",
       "      <td>1.000000</td>\n",
       "    </tr>\n",
       "  </tbody>\n",
       "</table>\n",
       "</div>"
      ],
      "text/plain": [
       "             Family  Animation\n",
       "Family     1.000000   0.610688\n",
       "Animation  0.610688   1.000000"
      ]
     },
     "execution_count": 77,
     "metadata": {},
     "output_type": "execute_result"
    }
   ],
   "source": [
    "df[['Family', 'Animation']].corr()"
   ]
  },
  {
   "cell_type": "code",
   "execution_count": 78,
   "id": "0270bd07",
   "metadata": {},
   "outputs": [
    {
     "data": {
      "text/plain": [
       "27"
      ]
     },
     "execution_count": 78,
     "metadata": {},
     "output_type": "execute_result"
    }
   ],
   "source": [
    "df.loc[(df['Family'] == 1) & (df['Animation'] == 0)].shape[0]"
   ]
  },
  {
   "cell_type": "code",
   "execution_count": 79,
   "id": "5d8feb82",
   "metadata": {},
   "outputs": [],
   "source": [
    "from sklearn.metrics import confusion_matrix"
   ]
  },
  {
   "cell_type": "code",
   "execution_count": 80,
   "id": "b1132754",
   "metadata": {},
   "outputs": [
    {
     "name": "stdout",
     "output_type": "stream",
     "text": [
      "Not Animation, Not Familly:  892\n",
      "Yes Animation, Not Familly:  30\n",
      "Not Animation, Yes Familly:  27\n",
      "Yes Animation, Yes Familly:  51\n"
     ]
    }
   ],
   "source": [
    "conf = confusion_matrix(df['Family'], df['Animation'])\n",
    "print(\"Not Animation, Not Familly: \", conf[0][0])\n",
    "print(\"Yes Animation, Not Familly: \", conf[0][1])\n",
    "print(\"Not Animation, Yes Familly: \", conf[1][0])\n",
    "print(\"Yes Animation, Yes Familly: \", conf[1][1])"
   ]
  },
  {
   "cell_type": "markdown",
   "id": "43502b65",
   "metadata": {},
   "source": [
    "## Metascore vs Rating"
   ]
  },
  {
   "cell_type": "code",
   "execution_count": 81,
   "id": "897eb279",
   "metadata": {},
   "outputs": [
    {
     "name": "stdout",
     "output_type": "stream",
     "text": [
      "War          8.01\n",
      "Action       8.00\n",
      "Crime        7.99\n",
      "SciFi        7.99\n",
      "Adventure    7.99\n",
      "History      7.99\n",
      "Fantasy      7.98\n",
      "Drama        7.98\n",
      "Western      7.98\n",
      "Mystery      7.96\n",
      "Documentary  7.95\n",
      "Family       7.95\n",
      "Thriller     7.94\n",
      "Animation    7.94\n",
      "Horror       7.93\n",
      "Romance      7.93\n",
      "Comedy       7.92\n",
      "Music        7.91\n",
      "TV           7.80\n"
     ]
    }
   ],
   "source": [
    "genre_rating_avg = []\n",
    "for genre in genre_keys.values():\n",
    "    genre_rating_avg.append((genre, df.loc[df[genre] == 1]['Movie Rating'].mean()))\n",
    "    \n",
    "genre_rating_avg.sort(key = lambda x: x[1], reverse = True)\n",
    "for genre, total in genre_rating_avg:\n",
    "    print(\"{:12s} {:3.2f}\".format(genre, total))"
   ]
  },
  {
   "cell_type": "code",
   "execution_count": 82,
   "id": "91211bc1",
   "metadata": {},
   "outputs": [
    {
     "name": "stdout",
     "output_type": "stream",
     "text": [
      "Romance      80.96\n",
      "Western      80.96\n",
      "War          80.73\n",
      "Horror       80.58\n",
      "History      80.39\n",
      "Animation    80.35\n",
      "Family       80.29\n",
      "Drama        79.47\n",
      "Mystery      79.44\n",
      "Fantasy      78.97\n",
      "Comedy       78.84\n",
      "Thriller     77.59\n",
      "Adventure    77.52\n",
      "Crime        76.92\n",
      "Music        76.35\n",
      "SciFi        75.95\n",
      "Documentary  75.25\n",
      "Action       73.81\n",
      "TV           70.00\n"
     ]
    }
   ],
   "source": [
    "genre_metascore_avg = []\n",
    "for genre in genre_keys.values():\n",
    "    genre_metascore_avg.append((genre, df.loc[df[genre] == 1]['Metascore of movie'].mean()))\n",
    "    \n",
    "genre_metascore_avg.sort(key = lambda x: x[1], reverse = True)\n",
    "for genre, total in genre_metascore_avg:\n",
    "    print(\"{:12s} {:3.2f}\".format(genre, total))"
   ]
  },
  {
   "cell_type": "code",
   "execution_count": 83,
   "id": "e7c7e836",
   "metadata": {},
   "outputs": [
    {
     "data": {
      "text/html": [
       "<div>\n",
       "<style scoped>\n",
       "    .dataframe tbody tr th:only-of-type {\n",
       "        vertical-align: middle;\n",
       "    }\n",
       "\n",
       "    .dataframe tbody tr th {\n",
       "        vertical-align: top;\n",
       "    }\n",
       "\n",
       "    .dataframe thead th {\n",
       "        text-align: right;\n",
       "    }\n",
       "</style>\n",
       "<table border=\"1\" class=\"dataframe\">\n",
       "  <thead>\n",
       "    <tr style=\"text-align: right;\">\n",
       "      <th></th>\n",
       "      <th>Metascore of movie</th>\n",
       "      <th>Movie Rating</th>\n",
       "    </tr>\n",
       "  </thead>\n",
       "  <tbody>\n",
       "    <tr>\n",
       "      <th>Metascore of movie</th>\n",
       "      <td>1.00000</td>\n",
       "      <td>0.25697</td>\n",
       "    </tr>\n",
       "    <tr>\n",
       "      <th>Movie Rating</th>\n",
       "      <td>0.25697</td>\n",
       "      <td>1.00000</td>\n",
       "    </tr>\n",
       "  </tbody>\n",
       "</table>\n",
       "</div>"
      ],
      "text/plain": [
       "                    Metascore of movie  Movie Rating\n",
       "Metascore of movie             1.00000       0.25697\n",
       "Movie Rating                   0.25697       1.00000"
      ]
     },
     "execution_count": 83,
     "metadata": {},
     "output_type": "execute_result"
    }
   ],
   "source": [
    "df[['Metascore of movie', 'Movie Rating']].corr()"
   ]
  },
  {
   "cell_type": "code",
   "execution_count": 84,
   "id": "6314a273",
   "metadata": {},
   "outputs": [
    {
     "name": "stdout",
     "output_type": "stream",
     "text": [
      "Instances with Metascore greater than Rating:  424\n",
      "Instances with Metascore less than Rating:     391\n",
      "Instances with Metascore equal to Rating:      30\n"
     ]
    }
   ],
   "source": [
    "gt = df.loc[df['Metascore of movie'] > df['Movie Rating'] * 10].shape[0]\n",
    "lt = df.loc[df['Metascore of movie'] < df['Movie Rating'] * 10].shape[0]\n",
    "eq = df.loc[df['Metascore of movie'] == df['Movie Rating'] * 10].shape[0]\n",
    "\n",
    "print(\"Instances with Metascore greater than Rating:  {}\".format(gt))\n",
    "print(\"Instances with Metascore less than Rating:     {}\".format(lt))\n",
    "print(\"Instances with Metascore equal to Rating:      {}\".format(eq))"
   ]
  },
  {
   "cell_type": "markdown",
   "id": "8cf075da",
   "metadata": {},
   "source": [
    "# Genre by Year"
   ]
  },
  {
   "cell_type": "code",
   "execution_count": 85,
   "id": "8e257951",
   "metadata": {},
   "outputs": [],
   "source": [
    "def handleYears(value):\n",
    "    \n",
    "    try: \n",
    "        int(value)\n",
    "        return int(value)\n",
    "    except:\n",
    "        return int(value.split(sep=\" \")[1])\n",
    "\n",
    "df['Year of Release'] = df['Year of Release'].apply(handleYears)"
   ]
  },
  {
   "cell_type": "code",
   "execution_count": 86,
   "id": "3ac87cb1",
   "metadata": {},
   "outputs": [
    {
     "data": {
      "text/plain": [
       "2004    31\n",
       "2014    31\n",
       "2013    28\n",
       "2016    27\n",
       "2001    26\n",
       "        ..\n",
       "1930     1\n",
       "1922     1\n",
       "1921     1\n",
       "1924     1\n",
       "1943     1\n",
       "Name: Year of Release, Length: 102, dtype: int64"
      ]
     },
     "execution_count": 86,
     "metadata": {},
     "output_type": "execute_result"
    }
   ],
   "source": [
    "df['Year of Release'].value_counts()"
   ]
  },
  {
   "cell_type": "markdown",
   "id": "589e1640",
   "metadata": {},
   "source": [
    "## Top 3 genres by year"
   ]
  },
  {
   "cell_type": "code",
   "execution_count": 87,
   "id": "6a541c71",
   "metadata": {},
   "outputs": [],
   "source": [
    "def topK(genre_count):\n",
    "    return [t[0] for t in sorted(genre_count.items(), key = lambda x : x[1], reverse = True)[:3]]"
   ]
  },
  {
   "cell_type": "code",
   "execution_count": 88,
   "id": "20d0dc0e",
   "metadata": {},
   "outputs": [
    {
     "name": "stdout",
     "output_type": "stream",
     "text": [
      "Year: 1920 ['Crime', 'Drama', 'Horror']\n",
      "Year: 1921 ['Comedy', 'Family', 'Fantasy']\n",
      "Year: 1922 ['Drama', 'Fantasy', 'Horror']\n",
      "Year: 1923 ['Action', 'Adventure', 'Animation']\n",
      "Year: 1924 ['Action', 'Comedy', 'Mystery']\n",
      "Year: 1925 ['Drama', 'Adventure', 'Comedy']\n",
      "Year: 1926 ['Action', 'Adventure', 'Comedy']\n",
      "Year: 1927 ['Drama', 'Romance', 'SciFi']\n",
      "Year: 1928 ['Comedy', 'Drama', 'History']\n",
      "Year: 1929 ['Action', 'Adventure', 'Animation']\n",
      "Year: 1930 ['Drama', 'War', 'Action']\n",
      "Year: 1931 ['Drama', 'Comedy', 'Crime']\n",
      "Year: 1932 ['Drama', 'Action', 'Crime']\n",
      "Year: 1933 ['Action', 'Adventure', 'Comedy']\n",
      "Year: 1934 ['Comedy', 'Crime', 'Mystery']\n",
      "Year: 1935 ['Comedy', 'Drama', 'Horror']\n",
      "Year: 1936 ['Comedy', 'Drama', 'Action']\n",
      "Year: 1937 ['Animation', 'Drama', 'Family']\n",
      "Year: 1938 ['Comedy', 'Romance', 'Adventure']\n",
      "Year: 1939 ['Drama', 'Adventure', 'Comedy']\n",
      "Year: 1940 ['Comedy', 'Romance', 'Drama']\n",
      "Year: 1941 ['Mystery', 'Adventure', 'Comedy']\n",
      "Year: 1942 ['Comedy', 'Drama', 'Romance']\n",
      "Year: 1943 ['Crime', 'Thriller', 'Action']\n",
      "Year: 1944 ['Crime', 'Drama', 'Mystery']\n",
      "Year: 1945 ['Drama', 'Crime', 'History']\n",
      "Year: 1946 ['Drama', 'Romance', 'Fantasy']\n",
      "Year: 1947 ['Drama', 'Comedy', 'Crime']\n",
      "Year: 1948 ['Drama', 'Crime', 'Thriller']\n",
      "Year: 1949 ['Crime', 'Drama', 'Thriller']\n",
      "Year: 1950 ['Drama', 'Crime', 'Romance']\n",
      "Year: 1951 ['Drama', 'Thriller', 'Adventure']\n",
      "Year: 1952 ['Drama', 'Comedy', 'Romance']\n",
      "Year: 1953 ['Drama', 'Comedy', 'Romance']\n",
      "Year: 1954 ['Drama', 'Crime', 'Thriller']\n",
      "Year: 1955 ['Drama', 'Crime', 'Thriller']\n",
      "Year: 1956 ['Crime', 'Drama', 'Horror']\n",
      "Year: 1957 ['Drama', 'History', 'War']\n",
      "Year: 1958 ['Drama', 'Thriller', 'Crime']\n",
      "Year: 1959 ['Drama', 'Crime', 'History']\n",
      "Year: 1960 ['Drama', 'Adventure', 'Comedy']\n",
      "Year: 1961 ['Drama', 'Horror', 'Mystery']\n",
      "Year: 1962 ['Drama', 'Thriller', 'War']\n",
      "Year: 1963 ['Drama', 'Comedy', 'Mystery']\n",
      "Year: 1964 ['Drama', 'Comedy', 'Action']\n",
      "Year: 1965 ['Drama', 'Romance', 'Family']\n",
      "Year: 1966 ['Drama', 'History', 'War']\n",
      "Year: 1967 ['Drama', 'Crime', 'Romance']\n",
      "Year: 1968 ['Drama', 'Adventure', 'Horror']\n",
      "Year: 1969 ['Western', 'Action', 'Comedy']\n",
      "Year: 1970 ['Drama', 'Crime', 'History']\n",
      "Year: 1971 ['Drama', 'Action', 'Comedy']\n",
      "Year: 1972 ['Drama', 'Adventure', 'Mystery']\n",
      "Year: 1973 ['Drama', 'Crime', 'Comedy']\n",
      "Year: 1974 ['Crime', 'Drama', 'Comedy']\n",
      "Year: 1975 ['Drama', 'Adventure', 'Action']\n",
      "Year: 1976 ['Drama', 'History', 'Action']\n",
      "Year: 1977 ['Action', 'Adventure', 'Comedy']\n",
      "Year: 1978 ['Drama', 'Horror', 'Action']\n",
      "Year: 1979 ['Drama', 'Comedy', 'Horror']\n",
      "Year: 1980 ['Drama', 'Action', 'Comedy']\n",
      "Year: 1981 ['Action', 'Adventure', 'Drama']\n",
      "Year: 1982 ['Drama', 'Adventure', 'SciFi']\n",
      "Year: 1983 ['Drama', 'Action', 'Adventure']\n",
      "Year: 1984 ['Drama', 'Action', 'Comedy']\n",
      "Year: 1985 ['Comedy', 'Drama', 'Adventure']\n",
      "Year: 1986 ['Drama', 'Action', 'Comedy']\n",
      "Year: 1987 ['Drama', 'Thriller', 'Action']\n",
      "Year: 1988 ['Drama', 'Animation', 'Crime']\n",
      "Year: 1989 ['Drama', 'Adventure', 'Comedy']\n",
      "Year: 1990 ['Drama', 'Crime', 'Fantasy']\n",
      "Year: 1991 ['Drama', 'Comedy', 'Thriller']\n",
      "Year: 1992 ['Drama', 'Adventure', 'Comedy']\n",
      "Year: 1993 ['Drama', 'Action', 'Crime']\n",
      "Year: 1994 ['Drama', 'Comedy', 'Romance']\n",
      "Year: 1995 ['Drama', 'Crime', 'Romance']\n",
      "Year: 1996 ['Drama', 'Crime', 'Thriller']\n",
      "Year: 1997 ['Drama', 'Thriller', 'Crime']\n",
      "Year: 1998 ['Drama', 'Comedy', 'Crime']\n",
      "Year: 1999 ['Drama', 'Comedy', 'Animation']\n",
      "Year: 2000 ['Drama', 'Crime', 'Thriller']\n",
      "Year: 2001 ['Drama', 'Comedy', 'Romance']\n",
      "Year: 2002 ['Drama', 'Crime', 'Action']\n",
      "Year: 2003 ['Drama', 'Crime', 'Action']\n",
      "Year: 2004 ['Drama', 'Romance', 'Thriller']\n",
      "Year: 2005 ['Drama', 'Action', 'Romance']\n",
      "Year: 2006 ['Drama', 'Thriller', 'Action']\n",
      "Year: 2007 ['Drama', 'Crime', 'Mystery']\n",
      "Year: 2008 ['Drama', 'Action', 'Crime']\n",
      "Year: 2009 ['Drama', 'Comedy', 'SciFi']\n",
      "Year: 2010 ['Drama', 'Action', 'Thriller']\n",
      "Year: 2011 ['Drama', 'Comedy', 'Crime']\n",
      "Year: 2012 ['Drama', 'Comedy', 'Adventure']\n",
      "Year: 2013 ['Drama', 'Romance', 'Action']\n",
      "Year: 2014 ['Drama', 'Action', 'Comedy']\n",
      "Year: 2015 ['Drama', 'Action', 'Adventure']\n",
      "Year: 2016 ['Drama', 'Comedy', 'Adventure']\n",
      "Year: 2017 ['Drama', 'Action', 'Adventure']\n",
      "Year: 2018 ['Drama', 'Action', 'Adventure']\n",
      "Year: 2019 ['Drama', 'Comedy', 'Action']\n",
      "Year: 2020 ['Drama', 'Animation', 'Fantasy']\n",
      "Year: 2021 ['Drama', 'Action', 'Adventure']\n",
      "Year: 2022 ['Drama', 'Action', 'Adventure']\n",
      "Year: 2023 ['Action', 'Adventure', 'Thriller']\n"
     ]
    }
   ],
   "source": [
    "for year in range(1920, 2024):\n",
    "    genre_count = {genre: 0 for genre in genre_keys.values()}\n",
    "\n",
    "    for genre in genre_keys.values():\n",
    "        genre_count[genre] = df.loc[df['Year of Release'] == year][genre].sum()\n",
    "    \n",
    "    print(\"Year:\", year, topK(genre_count))"
   ]
  },
  {
   "cell_type": "markdown",
   "id": "3dea65fa",
   "metadata": {},
   "source": [
    "## Top 3 genres by decade"
   ]
  },
  {
   "cell_type": "code",
   "execution_count": 89,
   "id": "b8e332bb",
   "metadata": {},
   "outputs": [
    {
     "name": "stdout",
     "output_type": "stream",
     "text": [
      "Year: 1920 ['Action', 'Adventure', 'Thriller']\n",
      "Year: 1930 ['Drama', 'Comedy', 'Action']\n",
      "Year: 1940 ['Drama', 'Comedy', 'Romance']\n",
      "Year: 1950 ['Drama', 'Crime', 'Romance']\n",
      "Year: 1960 ['Drama', 'Thriller', 'Crime']\n",
      "Year: 1970 ['Drama', 'Comedy', 'Romance']\n",
      "Year: 1980 ['Drama', 'Comedy', 'Crime']\n",
      "Year: 1990 ['Drama', 'Comedy', 'Action']\n",
      "Year: 2000 ['Drama', 'Comedy', 'Crime']\n",
      "Year: 2010 ['Drama', 'Action', 'Thriller']\n",
      "Year: 2020 ['Drama', 'Comedy', 'Action']\n"
     ]
    }
   ],
   "source": [
    "for year in range(1920, 2024):\n",
    "    \n",
    "    if year%10 == 0:\n",
    "        \n",
    "        print(\"Year:\", year, topK(genre_count))\n",
    "        genre_count = {genre: 0 for genre in genre_keys.values()}\n",
    "        continue\n",
    "\n",
    "    for genre in genre_keys.values():\n",
    "        genre_count[genre] += df.loc[df['Year of Release'] == year][genre].sum()\n"
   ]
  },
  {
   "cell_type": "markdown",
   "id": "1cc5a233",
   "metadata": {},
   "source": [
    "# Bad Words"
   ]
  },
  {
   "cell_type": "code",
   "execution_count": 90,
   "id": "93b60503",
   "metadata": {},
   "outputs": [
    {
     "data": {
      "text/plain": [
       "29.392"
      ]
     },
     "execution_count": 90,
     "metadata": {},
     "output_type": "execute_result"
    }
   ],
   "source": [
    "df['Bad Words'].mean()"
   ]
  },
  {
   "cell_type": "code",
   "execution_count": 91,
   "id": "18c1bfd2",
   "metadata": {},
   "outputs": [
    {
     "data": {
      "text/plain": [
       "count    1000.000000\n",
       "mean       29.392000\n",
       "std        60.316236\n",
       "min        -1.000000\n",
       "25%         1.000000\n",
       "50%         7.000000\n",
       "75%        31.000000\n",
       "max       686.000000\n",
       "Name: Bad Words, dtype: float64"
      ]
     },
     "execution_count": 91,
     "metadata": {},
     "output_type": "execute_result"
    }
   ],
   "source": [
    "df['Bad Words'].describe()"
   ]
  },
  {
   "cell_type": "code",
   "execution_count": 92,
   "id": "e6cde8cf",
   "metadata": {},
   "outputs": [
    {
     "name": "stdout",
     "output_type": "stream",
     "text": [
      "Crime        58.05\n",
      "Music        54.67\n",
      "Western      46.44\n",
      "Thriller     37.48\n",
      "Action       32.85\n",
      "History      31.99\n",
      "Drama        31.82\n",
      "Comedy       28.71\n",
      "Mystery      21.16\n",
      "War          21.05\n",
      "Horror       20.19\n",
      "SciFi        20.10\n",
      "Romance      14.74\n",
      "Adventure    13.44\n",
      "Fantasy      10.79\n",
      "Animation    9.36\n",
      "Documentary  6.50\n",
      "TV           4.50\n",
      "Family       4.41\n"
     ]
    }
   ],
   "source": [
    "genre_bad_words_avg = []\n",
    "for genre in genre_keys.values():\n",
    "    genre_bad_words_avg.append((genre, df.loc[df[genre] == 1]['Bad Words'].mean()))\n",
    "    \n",
    "genre_bad_words_avg.sort(key = lambda x: x[1], reverse = True)\n",
    "for genre, total in genre_bad_words_avg:\n",
    "    print(\"{:12s} {:3.2f}\".format(genre, total))"
   ]
  }
 ],
 "metadata": {
  "kernelspec": {
   "display_name": "Python 3 (ipykernel)",
   "language": "python",
   "name": "python3"
  },
  "language_info": {
   "codemirror_mode": {
    "name": "ipython",
    "version": 3
   },
   "file_extension": ".py",
   "mimetype": "text/x-python",
   "name": "python",
   "nbconvert_exporter": "python",
   "pygments_lexer": "ipython3",
   "version": "3.10.9"
  }
 },
 "nbformat": 4,
 "nbformat_minor": 5
}
