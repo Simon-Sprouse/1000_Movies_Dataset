{
 "cells": [
  {
   "cell_type": "code",
   "execution_count": 21,
   "id": "ba908173",
   "metadata": {},
   "outputs": [],
   "source": [
    "import pandas as pd\n",
    "import numpy as np\n",
    "import matplotlib.pyplot as plt"
   ]
  },
  {
   "cell_type": "code",
   "execution_count": 5,
   "id": "d091d6f7",
   "metadata": {},
   "outputs": [],
   "source": [
    "column_names = [\n",
    "    \"Water\",\n",
    "    \"Food energy\",\n",
    "    \"Protein\",\n",
    "    \"Total lipids (fat)\",\n",
    "    \"Ash\",\n",
    "    \"Carbohydrate\",\n",
    "    \"Total dietary fiber\",\n",
    "    \"Total sugars\",\n",
    "    \"Calcium\",\n",
    "    \"Iron\",\n",
    "    \"Magnesium\",\n",
    "    \"Phosphorus\",\n",
    "    \"Potassium\",\n",
    "    \"Sodium\",\n",
    "    \"Zinc\",\n",
    "    \"Copper\",\n",
    "    \"Manganese\",\n",
    "    \"Selenium\",\n",
    "    \"Vitamin C\",\n",
    "    \"Thiamin\",\n",
    "    \"Riboflavin\",\n",
    "    \"Niacin\",\n",
    "    \"Pantothenic acid\",\n",
    "    \"Vitamin B6\",\n",
    "    \"Total Folate\",\n",
    "    \"Folic acid\",\n",
    "    \"Food Folate\",\n",
    "    \"Folate\",\n",
    "    \"Vitamin B12\",\n",
    "    \"Vitamin A\",\n",
    "    \"VitA\",\n",
    "    \"Retinol\",\n",
    "    \"Vitamin E\",\n",
    "    \"Vitamin K\",\n",
    "    \"Alpha-carotene\",\n",
    "    \"Beta-carotene\",\n",
    "    \"Beta-cryptoxanthin\",\n",
    "    \"Lycopene\",\n",
    "    \"Lutein + zeaxanthin\",\n",
    "    \"Saturated fatty acid\",\n",
    "    \"Monounsaturated fatty acids\",\n",
    "    \"Polyunsaturated fatty acids\",\n",
    "    \"Cholesterol\",\n",
    "    \"1st household weight from Weight file\",\n",
    "    \"2nd household weight from Weight file\",\n",
    "    \"Percent refuse\"\n",
    "]"
   ]
  },
  {
   "cell_type": "code",
   "execution_count": 7,
   "id": "8e28ae95",
   "metadata": {},
   "outputs": [],
   "source": [
    "x1 = pd.read_csv(\"x1.csv\", header=None, names=column_names)\n",
    "x2 = pd.read_csv(\"x2.csv\", header=None, names=column_names)\n",
    "x3 = pd.read_csv(\"x3.csv\", header=None, names=column_names)"
   ]
  },
  {
   "cell_type": "code",
   "execution_count": 8,
   "id": "efaf96c0",
   "metadata": {},
   "outputs": [
    {
     "name": "stdout",
     "output_type": "stream",
     "text": [
      "<class 'pandas.core.frame.DataFrame'>\n",
      "RangeIndex: 898 entries, 0 to 897\n",
      "Data columns (total 46 columns):\n",
      " #   Column                                 Non-Null Count  Dtype  \n",
      "---  ------                                 --------------  -----  \n",
      " 0   Water                                  898 non-null    float64\n",
      " 1   Food energy                            898 non-null    float64\n",
      " 2   Protein                                898 non-null    float64\n",
      " 3   Total lipids (fat)                     898 non-null    float64\n",
      " 4   Ash                                    898 non-null    float64\n",
      " 5   Carbohydrate                           898 non-null    float64\n",
      " 6   Total dietary fiber                    898 non-null    float64\n",
      " 7   Total sugars                           898 non-null    float64\n",
      " 8   Calcium                                898 non-null    float64\n",
      " 9   Iron                                   898 non-null    float64\n",
      " 10  Magnesium                              898 non-null    float64\n",
      " 11  Phosphorus                             898 non-null    float64\n",
      " 12  Potassium                              898 non-null    float64\n",
      " 13  Sodium                                 898 non-null    float64\n",
      " 14  Zinc                                   898 non-null    float64\n",
      " 15  Copper                                 898 non-null    float64\n",
      " 16  Manganese                              898 non-null    float64\n",
      " 17  Selenium                               898 non-null    float64\n",
      " 18  Vitamin C                              898 non-null    float64\n",
      " 19  Thiamin                                898 non-null    float64\n",
      " 20  Riboflavin                             898 non-null    float64\n",
      " 21  Niacin                                 898 non-null    float64\n",
      " 22  Pantothenic acid                       898 non-null    float64\n",
      " 23  Vitamin B6                             898 non-null    float64\n",
      " 24  Total Folate                           898 non-null    float64\n",
      " 25  Folic acid                             898 non-null    float64\n",
      " 26  Food Folate                            898 non-null    float64\n",
      " 27  Folate                                 898 non-null    float64\n",
      " 28  Vitamin B12                            898 non-null    float64\n",
      " 29  Vitamin A                              898 non-null    float64\n",
      " 30  VitA                                   898 non-null    float64\n",
      " 31  Retinol                                898 non-null    float64\n",
      " 32  Vitamin E                              898 non-null    float64\n",
      " 33  Vitamin K                              898 non-null    float64\n",
      " 34  Alpha-carotene                         898 non-null    float64\n",
      " 35  Beta-carotene                          898 non-null    float64\n",
      " 36  Beta-cryptoxanthin                     898 non-null    float64\n",
      " 37  Lycopene                               898 non-null    float64\n",
      " 38  Lutein + zeaxanthin                    898 non-null    float64\n",
      " 39  Saturated fatty acid                   898 non-null    float64\n",
      " 40  Monounsaturated fatty acids            898 non-null    float64\n",
      " 41  Polyunsaturated fatty acids            898 non-null    float64\n",
      " 42  Cholesterol                            898 non-null    float64\n",
      " 43  1st household weight from Weight file  898 non-null    float64\n",
      " 44  2nd household weight from Weight file  898 non-null    float64\n",
      " 45  Percent refuse                         898 non-null    float64\n",
      "dtypes: float64(46)\n",
      "memory usage: 322.8 KB\n"
     ]
    }
   ],
   "source": [
    "x1.info()"
   ]
  },
  {
   "cell_type": "code",
   "execution_count": 12,
   "id": "ee92babb",
   "metadata": {},
   "outputs": [
    {
     "data": {
      "text/html": [
       "<div>\n",
       "<style scoped>\n",
       "    .dataframe tbody tr th:only-of-type {\n",
       "        vertical-align: middle;\n",
       "    }\n",
       "\n",
       "    .dataframe tbody tr th {\n",
       "        vertical-align: top;\n",
       "    }\n",
       "\n",
       "    .dataframe thead th {\n",
       "        text-align: right;\n",
       "    }\n",
       "</style>\n",
       "<table border=\"1\" class=\"dataframe\">\n",
       "  <thead>\n",
       "    <tr style=\"text-align: right;\">\n",
       "      <th></th>\n",
       "      <th>Gt</th>\n",
       "    </tr>\n",
       "  </thead>\n",
       "  <tbody>\n",
       "    <tr>\n",
       "      <th>0</th>\n",
       "      <td>5</td>\n",
       "    </tr>\n",
       "    <tr>\n",
       "      <th>1</th>\n",
       "      <td>9</td>\n",
       "    </tr>\n",
       "    <tr>\n",
       "      <th>2</th>\n",
       "      <td>5</td>\n",
       "    </tr>\n",
       "    <tr>\n",
       "      <th>3</th>\n",
       "      <td>2</td>\n",
       "    </tr>\n",
       "    <tr>\n",
       "      <th>4</th>\n",
       "      <td>7</td>\n",
       "    </tr>\n",
       "    <tr>\n",
       "      <th>...</th>\n",
       "      <td>...</td>\n",
       "    </tr>\n",
       "    <tr>\n",
       "      <th>893</th>\n",
       "      <td>9</td>\n",
       "    </tr>\n",
       "    <tr>\n",
       "      <th>894</th>\n",
       "      <td>9</td>\n",
       "    </tr>\n",
       "    <tr>\n",
       "      <th>895</th>\n",
       "      <td>3</td>\n",
       "    </tr>\n",
       "    <tr>\n",
       "      <th>896</th>\n",
       "      <td>5</td>\n",
       "    </tr>\n",
       "    <tr>\n",
       "      <th>897</th>\n",
       "      <td>7</td>\n",
       "    </tr>\n",
       "  </tbody>\n",
       "</table>\n",
       "<p>898 rows × 1 columns</p>\n",
       "</div>"
      ],
      "text/plain": [
       "     Gt\n",
       "0     5\n",
       "1     9\n",
       "2     5\n",
       "3     2\n",
       "4     7\n",
       "..   ..\n",
       "893   9\n",
       "894   9\n",
       "895   3\n",
       "896   5\n",
       "897   7\n",
       "\n",
       "[898 rows x 1 columns]"
      ]
     },
     "execution_count": 12,
     "metadata": {},
     "output_type": "execute_result"
    }
   ],
   "source": [
    "c1 = pd.read_csv(\"c1.csv\", header=None, names=['Gt'])\n",
    "c1"
   ]
  },
  {
   "cell_type": "code",
   "execution_count": null,
   "id": "f3ff9d52",
   "metadata": {},
   "outputs": [],
   "source": []
  },
  {
   "cell_type": "code",
   "execution_count": null,
   "id": "12ac7b5f",
   "metadata": {},
   "outputs": [],
   "source": []
  },
  {
   "cell_type": "code",
   "execution_count": 13,
   "id": "98268f99",
   "metadata": {},
   "outputs": [],
   "source": [
    "from sklearn.decomposition import PCA"
   ]
  },
  {
   "cell_type": "code",
   "execution_count": 24,
   "id": "7f579709",
   "metadata": {},
   "outputs": [],
   "source": [
    "pca = PCA(n_components=2)\n",
    "principal_components = pca.fit_transform(x1)"
   ]
  },
  {
   "cell_type": "code",
   "execution_count": 39,
   "id": "175aa080",
   "metadata": {},
   "outputs": [
    {
     "data": {
      "image/png": "[encoded data removed]",
      "text/plain": [
       "<Figure size 640x480 with 1 Axes>"
      ]
     },
     "metadata": {},
     "output_type": "display_data"
    }
   ],
   "source": [
    "plt.scatter(principal_components[:, 0], principal_components[:, 1])\n",
    "\n",
    "plt.xlabel('Principal Component 1')\n",
    "plt.ylabel('Principal Component 2')\n",
    "plt.title('PCA')\n",
    "\n",
    "plt.xlim([-5, 20])\n",
    "plt.ylim([-5, 15])\n",
    "\n",
    "plt.show()"
   ]
  },
  {
   "cell_type": "code",
   "execution_count": null,
   "id": "6b97d40a",
   "metadata": {},
   "outputs": [],
   "source": []
  },
  {
   "cell_type": "code",
   "execution_count": null,
   "id": "4adfa1d2",
   "metadata": {},
   "outputs": [],
   "source": []
  },
  {
   "cell_type": "code",
   "execution_count": 45,
   "id": "61199f23",
   "metadata": {},
   "outputs": [
    {
     "data": {
      "image/png": "[encoded data removed]",
      "text/plain": [
       "<Figure size 640x480 with 1 Axes>"
      ]
     },
     "metadata": {},
     "output_type": "display_data"
    }
   ],
   "source": [
    "#define PCA model to use\n",
    "pca = PCA(n_components=8)\n",
    "\n",
    "#fit PCA model to data\n",
    "pca_fit = pca.fit(x1)\n",
    "\n",
    "PC_values = np.arange(pca.n_components_) + 1\n",
    "plt.plot(PC_values, pca.explained_variance_ratio_, 'o-', linewidth=2, color='blue')\n",
    "plt.title('Scree Plot')\n",
    "plt.xlabel('Principal Component')\n",
    "plt.ylabel('Variance Explained')\n",
    "plt.show()"
   ]
  }
 ],
 "metadata": {
  "kernelspec": {
   "display_name": "Python 3 (ipykernel)",
   "language": "python",
   "name": "python3"
  },
  "language_info": {
   "codemirror_mode": {
    "name": "ipython",
    "version": 3
   },
   "file_extension": ".py",
   "mimetype": "text/x-python",
   "name": "python",
   "nbconvert_exporter": "python",
   "pygments_lexer": "ipython3",
   "version": "3.10.9"
  }
 },
 "nbformat": 4,
 "nbformat_minor": 5
}
