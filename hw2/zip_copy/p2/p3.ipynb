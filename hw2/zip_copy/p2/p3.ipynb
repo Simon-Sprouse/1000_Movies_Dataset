{
 "cells": [
  {
   "cell_type": "code",
   "execution_count": 1,
   "id": "3405f462",
   "metadata": {},
   "outputs": [],
   "source": [
    "import pandas as pd\n",
    "import numpy as np\n",
    "import matplotlib.pyplot as plt\n"
   ]
  },
  {
   "cell_type": "code",
   "execution_count": 2,
   "id": "9dd52801",
   "metadata": {},
   "outputs": [],
   "source": [
    "column_names = [\n",
    "    \"Water\",\n",
    "    \"Food energy\",\n",
    "    \"Protein\",\n",
    "    \"Total lipids (fat)\",\n",
    "    \"Ash\",\n",
    "    \"Carbohydrate\",\n",
    "    \"Total dietary fiber\",\n",
    "    \"Total sugars\",\n",
    "    \"Calcium\",\n",
    "    \"Iron\",\n",
    "    \"Magnesium\",\n",
    "    \"Phosphorus\",\n",
    "    \"Potassium\",\n",
    "    \"Sodium\",\n",
    "    \"Zinc\",\n",
    "    \"Copper\",\n",
    "    \"Manganese\",\n",
    "    \"Selenium\",\n",
    "    \"Vitamin C\",\n",
    "    \"Thiamin\",\n",
    "    \"Riboflavin\",\n",
    "    \"Niacin\",\n",
    "    \"Pantothenic acid\",\n",
    "    \"Vitamin B6\",\n",
    "    \"Total Folate\",\n",
    "    \"Folic acid\",\n",
    "    \"Food Folate\",\n",
    "    \"Folate\",\n",
    "    \"Vitamin B12\",\n",
    "    \"Vitamin A\",\n",
    "    \"VitA\",\n",
    "    \"Retinol\",\n",
    "    \"Vitamin E\",\n",
    "    \"Vitamin K\",\n",
    "    \"Alpha-carotene\",\n",
    "    \"Beta-carotene\",\n",
    "    \"Beta-cryptoxanthin\",\n",
    "    \"Lycopene\",\n",
    "    \"Lutein + zeaxanthin\",\n",
    "    \"Saturated fatty acid\",\n",
    "    \"Monounsaturated fatty acids\",\n",
    "    \"Polyunsaturated fatty acids\",\n",
    "    \"Cholesterol\",\n",
    "    \"1st household weight from Weight file\",\n",
    "    \"2nd household weight from Weight file\",\n",
    "    \"Percent refuse\"\n",
    "]"
   ]
  },
  {
   "cell_type": "code",
   "execution_count": 3,
   "id": "b2ffebbd",
   "metadata": {},
   "outputs": [],
   "source": [
    "x1 = pd.read_csv(\"x1.csv\", header=None, names=column_names)\n",
    "x2 = pd.read_csv(\"x2.csv\", header=None, names=column_names)\n",
    "x3 = pd.read_csv(\"x3.csv\", header=None, names=column_names)"
   ]
  },
  {
   "cell_type": "code",
   "execution_count": 13,
   "id": "e735ce5d",
   "metadata": {},
   "outputs": [
    {
     "data": {
      "text/html": [
       "<div>\n",
       "<style scoped>\n",
       "    .dataframe tbody tr th:only-of-type {\n",
       "        vertical-align: middle;\n",
       "    }\n",
       "\n",
       "    .dataframe tbody tr th {\n",
       "        vertical-align: top;\n",
       "    }\n",
       "\n",
       "    .dataframe thead th {\n",
       "        text-align: right;\n",
       "    }\n",
       "</style>\n",
       "<table border=\"1\" class=\"dataframe\">\n",
       "  <thead>\n",
       "    <tr style=\"text-align: right;\">\n",
       "      <th></th>\n",
       "      <th>Gt</th>\n",
       "    </tr>\n",
       "  </thead>\n",
       "  <tbody>\n",
       "    <tr>\n",
       "      <th>0</th>\n",
       "      <td>5</td>\n",
       "    </tr>\n",
       "    <tr>\n",
       "      <th>1</th>\n",
       "      <td>9</td>\n",
       "    </tr>\n",
       "    <tr>\n",
       "      <th>2</th>\n",
       "      <td>5</td>\n",
       "    </tr>\n",
       "    <tr>\n",
       "      <th>3</th>\n",
       "      <td>2</td>\n",
       "    </tr>\n",
       "    <tr>\n",
       "      <th>4</th>\n",
       "      <td>7</td>\n",
       "    </tr>\n",
       "    <tr>\n",
       "      <th>...</th>\n",
       "      <td>...</td>\n",
       "    </tr>\n",
       "    <tr>\n",
       "      <th>893</th>\n",
       "      <td>9</td>\n",
       "    </tr>\n",
       "    <tr>\n",
       "      <th>894</th>\n",
       "      <td>9</td>\n",
       "    </tr>\n",
       "    <tr>\n",
       "      <th>895</th>\n",
       "      <td>3</td>\n",
       "    </tr>\n",
       "    <tr>\n",
       "      <th>896</th>\n",
       "      <td>5</td>\n",
       "    </tr>\n",
       "    <tr>\n",
       "      <th>897</th>\n",
       "      <td>7</td>\n",
       "    </tr>\n",
       "  </tbody>\n",
       "</table>\n",
       "<p>898 rows × 1 columns</p>\n",
       "</div>"
      ],
      "text/plain": [
       "     Gt\n",
       "0     5\n",
       "1     9\n",
       "2     5\n",
       "3     2\n",
       "4     7\n",
       "..   ..\n",
       "893   9\n",
       "894   9\n",
       "895   3\n",
       "896   5\n",
       "897   7\n",
       "\n",
       "[898 rows x 1 columns]"
      ]
     },
     "execution_count": 13,
     "metadata": {},
     "output_type": "execute_result"
    }
   ],
   "source": [
    "c1 = pd.read_csv(\"c1.csv\", header=None, names=['Gt'])\n",
    "c2 = pd.read_csv(\"c2.csv\", header=None, names=['Gt'])\n",
    "c1"
   ]
  },
  {
   "cell_type": "code",
   "execution_count": null,
   "id": "a744e2de",
   "metadata": {},
   "outputs": [],
   "source": []
  },
  {
   "cell_type": "code",
   "execution_count": 5,
   "id": "6862ecfc",
   "metadata": {},
   "outputs": [
    {
     "name": "stdout",
     "output_type": "stream",
     "text": [
      "<class 'pandas.core.frame.DataFrame'>\n",
      "RangeIndex: 898 entries, 0 to 897\n",
      "Data columns (total 46 columns):\n",
      " #   Column                                 Non-Null Count  Dtype  \n",
      "---  ------                                 --------------  -----  \n",
      " 0   Water                                  898 non-null    float64\n",
      " 1   Food energy                            898 non-null    float64\n",
      " 2   Protein                                898 non-null    float64\n",
      " 3   Total lipids (fat)                     898 non-null    float64\n",
      " 4   Ash                                    898 non-null    float64\n",
      " 5   Carbohydrate                           898 non-null    float64\n",
      " 6   Total dietary fiber                    898 non-null    float64\n",
      " 7   Total sugars                           898 non-null    float64\n",
      " 8   Calcium                                898 non-null    float64\n",
      " 9   Iron                                   898 non-null    float64\n",
      " 10  Magnesium                              898 non-null    float64\n",
      " 11  Phosphorus                             898 non-null    float64\n",
      " 12  Potassium                              898 non-null    float64\n",
      " 13  Sodium                                 898 non-null    float64\n",
      " 14  Zinc                                   898 non-null    float64\n",
      " 15  Copper                                 898 non-null    float64\n",
      " 16  Manganese                              898 non-null    float64\n",
      " 17  Selenium                               898 non-null    float64\n",
      " 18  Vitamin C                              898 non-null    float64\n",
      " 19  Thiamin                                898 non-null    float64\n",
      " 20  Riboflavin                             898 non-null    float64\n",
      " 21  Niacin                                 898 non-null    float64\n",
      " 22  Pantothenic acid                       898 non-null    float64\n",
      " 23  Vitamin B6                             898 non-null    float64\n",
      " 24  Total Folate                           898 non-null    float64\n",
      " 25  Folic acid                             898 non-null    float64\n",
      " 26  Food Folate                            898 non-null    float64\n",
      " 27  Folate                                 898 non-null    float64\n",
      " 28  Vitamin B12                            898 non-null    float64\n",
      " 29  Vitamin A                              898 non-null    float64\n",
      " 30  VitA                                   898 non-null    float64\n",
      " 31  Retinol                                898 non-null    float64\n",
      " 32  Vitamin E                              898 non-null    float64\n",
      " 33  Vitamin K                              898 non-null    float64\n",
      " 34  Alpha-carotene                         898 non-null    float64\n",
      " 35  Beta-carotene                          898 non-null    float64\n",
      " 36  Beta-cryptoxanthin                     898 non-null    float64\n",
      " 37  Lycopene                               898 non-null    float64\n",
      " 38  Lutein + zeaxanthin                    898 non-null    float64\n",
      " 39  Saturated fatty acid                   898 non-null    float64\n",
      " 40  Monounsaturated fatty acids            898 non-null    float64\n",
      " 41  Polyunsaturated fatty acids            898 non-null    float64\n",
      " 42  Cholesterol                            898 non-null    float64\n",
      " 43  1st household weight from Weight file  898 non-null    float64\n",
      " 44  2nd household weight from Weight file  898 non-null    float64\n",
      " 45  Percent refuse                         898 non-null    float64\n",
      "dtypes: float64(46)\n",
      "memory usage: 322.8 KB\n"
     ]
    }
   ],
   "source": [
    "x1.info()"
   ]
  },
  {
   "cell_type": "code",
   "execution_count": 6,
   "id": "5789ab7b",
   "metadata": {},
   "outputs": [
    {
     "name": "stdout",
     "output_type": "stream",
     "text": [
      "<class 'pandas.core.frame.DataFrame'>\n",
      "RangeIndex: 898 entries, 0 to 897\n",
      "Data columns (total 1 columns):\n",
      " #   Column  Non-Null Count  Dtype\n",
      "---  ------  --------------  -----\n",
      " 0   Gt      898 non-null    int64\n",
      "dtypes: int64(1)\n",
      "memory usage: 7.1 KB\n"
     ]
    }
   ],
   "source": [
    "c1.info()"
   ]
  },
  {
   "cell_type": "code",
   "execution_count": null,
   "id": "74d96d90",
   "metadata": {},
   "outputs": [],
   "source": []
  },
  {
   "cell_type": "code",
   "execution_count": null,
   "id": "d491c461",
   "metadata": {},
   "outputs": [],
   "source": []
  },
  {
   "cell_type": "code",
   "execution_count": 16,
   "id": "1ca12b36",
   "metadata": {},
   "outputs": [],
   "source": [
    "from sklearn.neighbors import KNeighborsClassifier\n",
    "from sklearn.metrics import accuracy_score, confusion_matrix\n",
    "## !pip install threadpoolctl==3.1.0"
   ]
  },
  {
   "cell_type": "code",
   "execution_count": 8,
   "id": "c5ce98c6",
   "metadata": {},
   "outputs": [
    {
     "data": {
      "text/html": [
       "<style>#sk-container-id-1 {color: black;background-color: white;}#sk-container-id-1 pre{padding: 0;}#sk-container-id-1 div.sk-toggleable {background-color: white;}#sk-container-id-1 label.sk-toggleable__label {cursor: pointer;display: block;width: 100%;margin-bottom: 0;padding: 0.3em;box-sizing: border-box;text-align: center;}#sk-container-id-1 label.sk-toggleable__label-arrow:before {content: \"▸\";float: left;margin-right: 0.25em;color: #696969;}#sk-container-id-1 label.sk-toggleable__label-arrow:hover:before {color: black;}#sk-container-id-1 div.sk-estimator:hover label.sk-toggleable__label-arrow:before {color: black;}#sk-container-id-1 div.sk-toggleable__content {max-height: 0;max-width: 0;overflow: hidden;text-align: left;background-color: #f0f8ff;}#sk-container-id-1 div.sk-toggleable__content pre {margin: 0.2em;color: black;border-radius: 0.25em;background-color: #f0f8ff;}#sk-container-id-1 input.sk-toggleable__control:checked~div.sk-toggleable__content {max-height: 200px;max-width: 100%;overflow: auto;}#sk-container-id-1 input.sk-toggleable__control:checked~label.sk-toggleable__label-arrow:before {content: \"▾\";}#sk-container-id-1 div.sk-estimator input.sk-toggleable__control:checked~label.sk-toggleable__label {background-color: #d4ebff;}#sk-container-id-1 div.sk-label input.sk-toggleable__control:checked~label.sk-toggleable__label {background-color: #d4ebff;}#sk-container-id-1 input.sk-hidden--visually {border: 0;clip: rect(1px 1px 1px 1px);clip: rect(1px, 1px, 1px, 1px);height: 1px;margin: -1px;overflow: hidden;padding: 0;position: absolute;width: 1px;}#sk-container-id-1 div.sk-estimator {font-family: monospace;background-color: #f0f8ff;border: 1px dotted black;border-radius: 0.25em;box-sizing: border-box;margin-bottom: 0.5em;}#sk-container-id-1 div.sk-estimator:hover {background-color: #d4ebff;}#sk-container-id-1 div.sk-parallel-item::after {content: \"\";width: 100%;border-bottom: 1px solid gray;flex-grow: 1;}#sk-container-id-1 div.sk-label:hover label.sk-toggleable__label {background-color: #d4ebff;}#sk-container-id-1 div.sk-serial::before {content: \"\";position: absolute;border-left: 1px solid gray;box-sizing: border-box;top: 0;bottom: 0;left: 50%;z-index: 0;}#sk-container-id-1 div.sk-serial {display: flex;flex-direction: column;align-items: center;background-color: white;padding-right: 0.2em;padding-left: 0.2em;position: relative;}#sk-container-id-1 div.sk-item {position: relative;z-index: 1;}#sk-container-id-1 div.sk-parallel {display: flex;align-items: stretch;justify-content: center;background-color: white;position: relative;}#sk-container-id-1 div.sk-item::before, #sk-container-id-1 div.sk-parallel-item::before {content: \"\";position: absolute;border-left: 1px solid gray;box-sizing: border-box;top: 0;bottom: 0;left: 50%;z-index: -1;}#sk-container-id-1 div.sk-parallel-item {display: flex;flex-direction: column;z-index: 1;position: relative;background-color: white;}#sk-container-id-1 div.sk-parallel-item:first-child::after {align-self: flex-end;width: 50%;}#sk-container-id-1 div.sk-parallel-item:last-child::after {align-self: flex-start;width: 50%;}#sk-container-id-1 div.sk-parallel-item:only-child::after {width: 0;}#sk-container-id-1 div.sk-dashed-wrapped {border: 1px dashed gray;margin: 0 0.4em 0.5em 0.4em;box-sizing: border-box;padding-bottom: 0.4em;background-color: white;}#sk-container-id-1 div.sk-label label {font-family: monospace;font-weight: bold;display: inline-block;line-height: 1.2em;}#sk-container-id-1 div.sk-label-container {text-align: center;}#sk-container-id-1 div.sk-container {/* jupyter's `normalize.less` sets `[hidden] { display: none; }` but bootstrap.min.css set `[hidden] { display: none !important; }` so we also need the `!important` here to be able to override the default hidden behavior on the sphinx rendered scikit-learn.org. See: https://github.com/scikit-learn/scikit-learn/issues/21755 */display: inline-block !important;position: relative;}#sk-container-id-1 div.sk-text-repr-fallback {display: none;}</style><div id=\"sk-container-id-1\" class=\"sk-top-container\"><div class=\"sk-text-repr-fallback\"><pre>KNeighborsClassifier(n_neighbors=1)</pre><b>In a Jupyter environment, please rerun this cell to show the HTML representation or trust the notebook. <br />On GitHub, the HTML representation is unable to render, please try loading this page with nbviewer.org.</b></div><div class=\"sk-container\" hidden><div class=\"sk-item\"><div class=\"sk-estimator sk-toggleable\"><input class=\"sk-toggleable__control sk-hidden--visually\" id=\"sk-estimator-id-1\" type=\"checkbox\" checked><label for=\"sk-estimator-id-1\" class=\"sk-toggleable__label sk-toggleable__label-arrow\">KNeighborsClassifier</label><div class=\"sk-toggleable__content\"><pre>KNeighborsClassifier(n_neighbors=1)</pre></div></div></div></div></div>"
      ],
      "text/plain": [
       "KNeighborsClassifier(n_neighbors=1)"
      ]
     },
     "execution_count": 8,
     "metadata": {},
     "output_type": "execute_result"
    }
   ],
   "source": [
    "knn = KNeighborsClassifier(n_neighbors = 1)\n",
    "knn.fit(x1, np.ravel(c1))\n"
   ]
  },
  {
   "cell_type": "code",
   "execution_count": 9,
   "id": "79a00374",
   "metadata": {},
   "outputs": [],
   "source": [
    "c_hat = knn.predict(x2)"
   ]
  },
  {
   "cell_type": "code",
   "execution_count": 15,
   "id": "327117ef",
   "metadata": {},
   "outputs": [
    {
     "name": "stdout",
     "output_type": "stream",
     "text": [
      "accuracy:  0.8504464285714286\n"
     ]
    }
   ],
   "source": [
    "accuracy = accuracy_score(c_hat, c2)\n",
    "print(\"accuracy: \", accuracy)"
   ]
  },
  {
   "cell_type": "code",
   "execution_count": 20,
   "id": "16305197",
   "metadata": {},
   "outputs": [
    {
     "data": {
      "text/plain": [
       "array([[ 87,   0,   4,   6,   5,   1,   2,   1,   0,   0],\n",
       "       [  0, 150,   2,   2,   0,   4,   2,   0,   0,   0],\n",
       "       [  1,   7,  61,   3,   2,   2,   0,   2,   0,   0],\n",
       "       [  3,   0,   1,  47,   1,   0,   1,   0,   0,   0],\n",
       "       [  4,   2,   0,   5,  55,   1,   0,   1,   1,   0],\n",
       "       [  0,   8,   1,   4,   2,  40,   1,   1,   0,   0],\n",
       "       [  2,   1,   1,   3,   0,   2,  73,   0,   0,   0],\n",
       "       [  0,   0,   0,   0,   2,   0,   0,  59,   4,   5],\n",
       "       [  0,   1,   0,   1,   1,   0,   0,   5, 146,  13],\n",
       "       [  0,   0,   0,   0,   0,   0,   1,   2,   7,  44]])"
      ]
     },
     "execution_count": 20,
     "metadata": {},
     "output_type": "execute_result"
    }
   ],
   "source": [
    "matrix = confusion_matrix(c_hat, c2)\n",
    "matrix"
   ]
  },
  {
   "cell_type": "code",
   "execution_count": 33,
   "id": "3d7360d1",
   "metadata": {},
   "outputs": [
    {
     "data": {
      "text/plain": [
       "<matplotlib.colorbar.Colorbar at 0x29c8ae140>"
      ]
     },
     "execution_count": 33,
     "metadata": {},
     "output_type": "execute_result"
    },
    {
     "data": {
      "image/png": "[encoded data removed]",
      "text/plain": [
       "<Figure size 800x600 with 2 Axes>"
      ]
     },
     "metadata": {},
     "output_type": "display_data"
    }
   ],
   "source": [
    "plt.figure(figsize=(8, 6))\n",
    "plt.imshow(matrix, interpolation='nearest', cmap ='winter_r')\n",
    "plt.title(\"Confusion Matrix\")\n",
    "plt.colorbar()"
   ]
  },
  {
   "cell_type": "code",
   "execution_count": null,
   "id": "035a31ca",
   "metadata": {},
   "outputs": [],
   "source": []
  },
  {
   "cell_type": "code",
   "execution_count": null,
   "id": "5c57bb5f",
   "metadata": {},
   "outputs": [],
   "source": []
  }
 ],
 "metadata": {
  "kernelspec": {
   "display_name": "Python 3 (ipykernel)",
   "language": "python",
   "name": "python3"
  },
  "language_info": {
   "codemirror_mode": {
    "name": "ipython",
    "version": 3
   },
   "file_extension": ".py",
   "mimetype": "text/x-python",
   "name": "python",
   "nbconvert_exporter": "python",
   "pygments_lexer": "ipython3",
   "version": "3.10.9"
  }
 },
 "nbformat": 4,
 "nbformat_minor": 5
}
