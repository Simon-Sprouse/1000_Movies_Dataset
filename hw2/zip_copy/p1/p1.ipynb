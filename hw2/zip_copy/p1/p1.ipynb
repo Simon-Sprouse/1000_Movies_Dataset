{
 "cells": [
  {
   "cell_type": "code",
   "execution_count": 33,
   "id": "7cbd2123",
   "metadata": {},
   "outputs": [],
   "source": [
    "import pandas as pd\n",
    "import numpy as np\n",
    "import matplotlib.pyplot as plt"
   ]
  },
  {
   "cell_type": "code",
   "execution_count": 34,
   "id": "8d85eae4",
   "metadata": {},
   "outputs": [],
   "source": [
    "column_names = [\n",
    "    \"Water\",\n",
    "    \"Food energy\",\n",
    "    \"Protein\",\n",
    "    \"Total lipids (fat)\",\n",
    "    \"Ash\",\n",
    "    \"Carbohydrate\",\n",
    "    \"Total dietary fiber\",\n",
    "    \"Total sugars\",\n",
    "    \"Calcium\",\n",
    "    \"Iron\",\n",
    "    \"Magnesium\",\n",
    "    \"Phosphorus\",\n",
    "    \"Potassium\",\n",
    "    \"Sodium\",\n",
    "    \"Zinc\",\n",
    "    \"Copper\",\n",
    "    \"Manganese\",\n",
    "    \"Selenium\",\n",
    "    \"Vitamin C\",\n",
    "    \"Thiamin\",\n",
    "    \"Riboflavin\",\n",
    "    \"Niacin\",\n",
    "    \"Pantothenic acid\",\n",
    "    \"Vitamin B6\",\n",
    "    \"Total Folate\",\n",
    "    \"Folic acid\",\n",
    "    \"Food Folate\",\n",
    "    \"Folate\",\n",
    "    \"Vitamin B12\",\n",
    "    \"Vitamin A\",\n",
    "    \"VitA\",\n",
    "    \"Retinol\",\n",
    "    \"Vitamin E\",\n",
    "    \"Vitamin K\",\n",
    "    \"Alpha-carotene\",\n",
    "    \"Beta-carotene\",\n",
    "    \"Beta-cryptoxanthin\",\n",
    "    \"Lycopene\",\n",
    "    \"Lutein + zeaxanthin\",\n",
    "    \"Saturated fatty acid\",\n",
    "    \"Monounsaturated fatty acids\",\n",
    "    \"Polyunsaturated fatty acids\",\n",
    "    \"Cholesterol\",\n",
    "    \"1st household weight from Weight file\",\n",
    "    \"2nd household weight from Weight file\",\n",
    "    \"Percent refuse\"\n",
    "]"
   ]
  },
  {
   "cell_type": "code",
   "execution_count": 35,
   "id": "9a704b52",
   "metadata": {},
   "outputs": [],
   "source": [
    "x1 = pd.read_csv(\"x1.csv\", header=None, names=column_names)\n",
    "x2 = pd.read_csv(\"x2.csv\", header=None, names=column_names)\n",
    "y1 = pd.read_csv(\"y1.csv\", header=None, names=[\"Gt\"])\n",
    "y2 = pd.read_csv(\"y2.csv\", header=None, names=[\"Gt\"])"
   ]
  },
  {
   "cell_type": "code",
   "execution_count": 36,
   "id": "8083b497",
   "metadata": {},
   "outputs": [
    {
     "data": {
      "text/plain": [
       "Water                                     0\n",
       "Food energy                               0\n",
       "Protein                                   0\n",
       "Total lipids (fat)                        0\n",
       "Ash                                       0\n",
       "Carbohydrate                              0\n",
       "Total dietary fiber                       0\n",
       "Total sugars                              0\n",
       "Calcium                                   0\n",
       "Iron                                      0\n",
       "Magnesium                                 0\n",
       "Phosphorus                                0\n",
       "Potassium                                 0\n",
       "Sodium                                    0\n",
       "Zinc                                      0\n",
       "Copper                                    0\n",
       "Manganese                                 0\n",
       "Selenium                                  0\n",
       "Vitamin C                                 0\n",
       "Thiamin                                   0\n",
       "Riboflavin                                0\n",
       "Niacin                                    0\n",
       "Pantothenic acid                          0\n",
       "Vitamin B6                                0\n",
       "Total Folate                              0\n",
       "Folic acid                                0\n",
       "Food Folate                              50\n",
       "Folate                                   50\n",
       "Vitamin B12                              50\n",
       "Vitamin A                                50\n",
       "VitA                                     50\n",
       "Retinol                                  50\n",
       "Vitamin E                                50\n",
       "Vitamin K                                50\n",
       "Alpha-carotene                           50\n",
       "Beta-carotene                            50\n",
       "Beta-cryptoxanthin                       50\n",
       "Lycopene                                 50\n",
       "Lutein + zeaxanthin                      50\n",
       "Saturated fatty acid                     50\n",
       "Monounsaturated fatty acids              50\n",
       "Polyunsaturated fatty acids              50\n",
       "Cholesterol                              50\n",
       "1st household weight from Weight file    50\n",
       "2nd household weight from Weight file    50\n",
       "Percent refuse                           50\n",
       "dtype: int64"
      ]
     },
     "execution_count": 36,
     "metadata": {},
     "output_type": "execute_result"
    }
   ],
   "source": [
    "x1.isna().sum()"
   ]
  },
  {
   "cell_type": "code",
   "execution_count": 37,
   "id": "0dcf865d",
   "metadata": {},
   "outputs": [],
   "source": [
    "x1.dropna(axis=1, inplace = True)\n",
    "x2.dropna(axis=1, inplace = True)"
   ]
  },
  {
   "cell_type": "code",
   "execution_count": 38,
   "id": "7c271e96",
   "metadata": {},
   "outputs": [
    {
     "data": {
      "text/html": [
       "<div>\n",
       "<style scoped>\n",
       "    .dataframe tbody tr th:only-of-type {\n",
       "        vertical-align: middle;\n",
       "    }\n",
       "\n",
       "    .dataframe tbody tr th {\n",
       "        vertical-align: top;\n",
       "    }\n",
       "\n",
       "    .dataframe thead th {\n",
       "        text-align: right;\n",
       "    }\n",
       "</style>\n",
       "<table border=\"1\" class=\"dataframe\">\n",
       "  <thead>\n",
       "    <tr style=\"text-align: right;\">\n",
       "      <th></th>\n",
       "      <th>Gt</th>\n",
       "    </tr>\n",
       "  </thead>\n",
       "  <tbody>\n",
       "    <tr>\n",
       "      <th>0</th>\n",
       "      <td>-0.767340</td>\n",
       "    </tr>\n",
       "    <tr>\n",
       "      <th>1</th>\n",
       "      <td>-0.072655</td>\n",
       "    </tr>\n",
       "    <tr>\n",
       "      <th>2</th>\n",
       "      <td>0.045429</td>\n",
       "    </tr>\n",
       "    <tr>\n",
       "      <th>3</th>\n",
       "      <td>-1.169300</td>\n",
       "    </tr>\n",
       "    <tr>\n",
       "      <th>4</th>\n",
       "      <td>0.552800</td>\n",
       "    </tr>\n",
       "  </tbody>\n",
       "</table>\n",
       "</div>"
      ],
      "text/plain": [
       "         Gt\n",
       "0 -0.767340\n",
       "1 -0.072655\n",
       "2  0.045429\n",
       "3 -1.169300\n",
       "4  0.552800"
      ]
     },
     "execution_count": 38,
     "metadata": {},
     "output_type": "execute_result"
    }
   ],
   "source": [
    "y1.head()"
   ]
  },
  {
   "cell_type": "code",
   "execution_count": 39,
   "id": "6289b3e0",
   "metadata": {},
   "outputs": [
    {
     "data": {
      "text/plain": [
       "(50, 26)"
      ]
     },
     "execution_count": 39,
     "metadata": {},
     "output_type": "execute_result"
    }
   ],
   "source": [
    "x1.shape"
   ]
  },
  {
   "cell_type": "code",
   "execution_count": 40,
   "id": "42fd8c93",
   "metadata": {},
   "outputs": [
    {
     "data": {
      "text/plain": [
       "(50, 1)"
      ]
     },
     "execution_count": 40,
     "metadata": {},
     "output_type": "execute_result"
    }
   ],
   "source": [
    "y1.shape"
   ]
  },
  {
   "cell_type": "code",
   "execution_count": 41,
   "id": "12dc59cf",
   "metadata": {},
   "outputs": [
    {
     "data": {
      "text/plain": [
       "(50, 26)"
      ]
     },
     "execution_count": 41,
     "metadata": {},
     "output_type": "execute_result"
    }
   ],
   "source": [
    "x2.shape"
   ]
  },
  {
   "cell_type": "code",
   "execution_count": 42,
   "id": "6dcac673",
   "metadata": {},
   "outputs": [
    {
     "data": {
      "text/html": [
       "<div>\n",
       "<style scoped>\n",
       "    .dataframe tbody tr th:only-of-type {\n",
       "        vertical-align: middle;\n",
       "    }\n",
       "\n",
       "    .dataframe tbody tr th {\n",
       "        vertical-align: top;\n",
       "    }\n",
       "\n",
       "    .dataframe thead th {\n",
       "        text-align: right;\n",
       "    }\n",
       "</style>\n",
       "<table border=\"1\" class=\"dataframe\">\n",
       "  <thead>\n",
       "    <tr style=\"text-align: right;\">\n",
       "      <th></th>\n",
       "      <th>Water</th>\n",
       "      <th>Food energy</th>\n",
       "      <th>Protein</th>\n",
       "      <th>Total lipids (fat)</th>\n",
       "      <th>Ash</th>\n",
       "      <th>Carbohydrate</th>\n",
       "      <th>Total dietary fiber</th>\n",
       "      <th>Total sugars</th>\n",
       "      <th>Calcium</th>\n",
       "      <th>Iron</th>\n",
       "      <th>...</th>\n",
       "      <th>Manganese</th>\n",
       "      <th>Selenium</th>\n",
       "      <th>Vitamin C</th>\n",
       "      <th>Thiamin</th>\n",
       "      <th>Riboflavin</th>\n",
       "      <th>Niacin</th>\n",
       "      <th>Pantothenic acid</th>\n",
       "      <th>Vitamin B6</th>\n",
       "      <th>Total Folate</th>\n",
       "      <th>Folic acid</th>\n",
       "    </tr>\n",
       "  </thead>\n",
       "  <tbody>\n",
       "    <tr>\n",
       "      <th>0</th>\n",
       "      <td>-1.472500</td>\n",
       "      <td>0.040221</td>\n",
       "      <td>-0.184030</td>\n",
       "      <td>-0.775260</td>\n",
       "      <td>-2.25400</td>\n",
       "      <td>-1.248900</td>\n",
       "      <td>0.076201</td>\n",
       "      <td>0.57249</td>\n",
       "      <td>-0.66675</td>\n",
       "      <td>0.63484</td>\n",
       "      <td>...</td>\n",
       "      <td>-0.48008</td>\n",
       "      <td>0.88803</td>\n",
       "      <td>2.549700</td>\n",
       "      <td>-0.797880</td>\n",
       "      <td>1</td>\n",
       "      <td>-0.49989</td>\n",
       "      <td>0.27105</td>\n",
       "      <td>0.82444</td>\n",
       "      <td>0.02131</td>\n",
       "      <td>-0.42288</td>\n",
       "    </tr>\n",
       "    <tr>\n",
       "      <th>1</th>\n",
       "      <td>1.068000</td>\n",
       "      <td>0.197180</td>\n",
       "      <td>-0.562430</td>\n",
       "      <td>-0.162000</td>\n",
       "      <td>1.23040</td>\n",
       "      <td>0.084049</td>\n",
       "      <td>0.807030</td>\n",
       "      <td>-0.88252</td>\n",
       "      <td>1.22520</td>\n",
       "      <td>0.37915</td>\n",
       "      <td>...</td>\n",
       "      <td>-1.29660</td>\n",
       "      <td>-0.27845</td>\n",
       "      <td>0.895210</td>\n",
       "      <td>-0.089012</td>\n",
       "      <td>1</td>\n",
       "      <td>0.38247</td>\n",
       "      <td>-0.36754</td>\n",
       "      <td>-0.40374</td>\n",
       "      <td>1.37010</td>\n",
       "      <td>-0.38080</td>\n",
       "    </tr>\n",
       "    <tr>\n",
       "      <th>2</th>\n",
       "      <td>0.046897</td>\n",
       "      <td>2.284600</td>\n",
       "      <td>-1.864900</td>\n",
       "      <td>1.466400</td>\n",
       "      <td>-0.63959</td>\n",
       "      <td>0.005554</td>\n",
       "      <td>-0.226670</td>\n",
       "      <td>-1.94150</td>\n",
       "      <td>-0.51689</td>\n",
       "      <td>0.33673</td>\n",
       "      <td>...</td>\n",
       "      <td>-0.43896</td>\n",
       "      <td>1.06600</td>\n",
       "      <td>-0.072292</td>\n",
       "      <td>-0.473980</td>\n",
       "      <td>1</td>\n",
       "      <td>-0.70156</td>\n",
       "      <td>0.19032</td>\n",
       "      <td>0.91833</td>\n",
       "      <td>1.15150</td>\n",
       "      <td>-2.19500</td>\n",
       "    </tr>\n",
       "    <tr>\n",
       "      <th>3</th>\n",
       "      <td>0.483440</td>\n",
       "      <td>1.463800</td>\n",
       "      <td>-0.013712</td>\n",
       "      <td>-0.037563</td>\n",
       "      <td>2.41740</td>\n",
       "      <td>-0.246470</td>\n",
       "      <td>-1.035800</td>\n",
       "      <td>0.56813</td>\n",
       "      <td>-0.70365</td>\n",
       "      <td>-2.16540</td>\n",
       "      <td>...</td>\n",
       "      <td>-1.32600</td>\n",
       "      <td>0.81510</td>\n",
       "      <td>-0.811230</td>\n",
       "      <td>0.231450</td>\n",
       "      <td>1</td>\n",
       "      <td>-2.59760</td>\n",
       "      <td>-0.51483</td>\n",
       "      <td>1.34540</td>\n",
       "      <td>-1.74290</td>\n",
       "      <td>0.57277</td>\n",
       "    </tr>\n",
       "    <tr>\n",
       "      <th>4</th>\n",
       "      <td>-1.848600</td>\n",
       "      <td>1.279400</td>\n",
       "      <td>-0.211740</td>\n",
       "      <td>0.198340</td>\n",
       "      <td>-0.83718</td>\n",
       "      <td>2.486100</td>\n",
       "      <td>1.897400</td>\n",
       "      <td>0.86957</td>\n",
       "      <td>-0.71522</td>\n",
       "      <td>1.28400</td>\n",
       "      <td>...</td>\n",
       "      <td>0.51365</td>\n",
       "      <td>0.15240</td>\n",
       "      <td>-0.340210</td>\n",
       "      <td>-1.307900</td>\n",
       "      <td>1</td>\n",
       "      <td>0.17259</td>\n",
       "      <td>-0.61924</td>\n",
       "      <td>0.82814</td>\n",
       "      <td>1.03530</td>\n",
       "      <td>2.20130</td>\n",
       "    </tr>\n",
       "  </tbody>\n",
       "</table>\n",
       "<p>5 rows × 26 columns</p>\n",
       "</div>"
      ],
      "text/plain": [
       "      Water  Food energy   Protein  Total lipids (fat)      Ash  Carbohydrate  \\\n",
       "0 -1.472500     0.040221 -0.184030           -0.775260 -2.25400     -1.248900   \n",
       "1  1.068000     0.197180 -0.562430           -0.162000  1.23040      0.084049   \n",
       "2  0.046897     2.284600 -1.864900            1.466400 -0.63959      0.005554   \n",
       "3  0.483440     1.463800 -0.013712           -0.037563  2.41740     -0.246470   \n",
       "4 -1.848600     1.279400 -0.211740            0.198340 -0.83718      2.486100   \n",
       "\n",
       "   Total dietary fiber  Total sugars  Calcium     Iron  ...  Manganese  \\\n",
       "0             0.076201       0.57249 -0.66675  0.63484  ...   -0.48008   \n",
       "1             0.807030      -0.88252  1.22520  0.37915  ...   -1.29660   \n",
       "2            -0.226670      -1.94150 -0.51689  0.33673  ...   -0.43896   \n",
       "3            -1.035800       0.56813 -0.70365 -2.16540  ...   -1.32600   \n",
       "4             1.897400       0.86957 -0.71522  1.28400  ...    0.51365   \n",
       "\n",
       "   Selenium  Vitamin C   Thiamin  Riboflavin   Niacin  Pantothenic acid  \\\n",
       "0   0.88803   2.549700 -0.797880           1 -0.49989           0.27105   \n",
       "1  -0.27845   0.895210 -0.089012           1  0.38247          -0.36754   \n",
       "2   1.06600  -0.072292 -0.473980           1 -0.70156           0.19032   \n",
       "3   0.81510  -0.811230  0.231450           1 -2.59760          -0.51483   \n",
       "4   0.15240  -0.340210 -1.307900           1  0.17259          -0.61924   \n",
       "\n",
       "   Vitamin B6  Total Folate  Folic acid  \n",
       "0     0.82444       0.02131    -0.42288  \n",
       "1    -0.40374       1.37010    -0.38080  \n",
       "2     0.91833       1.15150    -2.19500  \n",
       "3     1.34540      -1.74290     0.57277  \n",
       "4     0.82814       1.03530     2.20130  \n",
       "\n",
       "[5 rows x 26 columns]"
      ]
     },
     "execution_count": 42,
     "metadata": {},
     "output_type": "execute_result"
    }
   ],
   "source": [
    "x2.head()"
   ]
  },
  {
   "cell_type": "code",
   "execution_count": null,
   "id": "f80c1534",
   "metadata": {},
   "outputs": [],
   "source": []
  },
  {
   "cell_type": "code",
   "execution_count": null,
   "id": "07bcd1da",
   "metadata": {},
   "outputs": [],
   "source": []
  },
  {
   "cell_type": "code",
   "execution_count": null,
   "id": "07bda991",
   "metadata": {},
   "outputs": [],
   "source": []
  },
  {
   "cell_type": "markdown",
   "id": "8f2b823d",
   "metadata": {},
   "source": [
    "# Problem 1a - OLS Regression"
   ]
  },
  {
   "cell_type": "code",
   "execution_count": 43,
   "id": "2840416e",
   "metadata": {},
   "outputs": [],
   "source": [
    "from sklearn.linear_model import LinearRegression\n",
    "from sklearn.metrics import r2_score"
   ]
  },
  {
   "cell_type": "code",
   "execution_count": 44,
   "id": "82fee218",
   "metadata": {},
   "outputs": [
    {
     "data": {
      "text/html": [
       "<style>#sk-container-id-3 {color: black;background-color: white;}#sk-container-id-3 pre{padding: 0;}#sk-container-id-3 div.sk-toggleable {background-color: white;}#sk-container-id-3 label.sk-toggleable__label {cursor: pointer;display: block;width: 100%;margin-bottom: 0;padding: 0.3em;box-sizing: border-box;text-align: center;}#sk-container-id-3 label.sk-toggleable__label-arrow:before {content: \"▸\";float: left;margin-right: 0.25em;color: #696969;}#sk-container-id-3 label.sk-toggleable__label-arrow:hover:before {color: black;}#sk-container-id-3 div.sk-estimator:hover label.sk-toggleable__label-arrow:before {color: black;}#sk-container-id-3 div.sk-toggleable__content {max-height: 0;max-width: 0;overflow: hidden;text-align: left;background-color: #f0f8ff;}#sk-container-id-3 div.sk-toggleable__content pre {margin: 0.2em;color: black;border-radius: 0.25em;background-color: #f0f8ff;}#sk-container-id-3 input.sk-toggleable__control:checked~div.sk-toggleable__content {max-height: 200px;max-width: 100%;overflow: auto;}#sk-container-id-3 input.sk-toggleable__control:checked~label.sk-toggleable__label-arrow:before {content: \"▾\";}#sk-container-id-3 div.sk-estimator input.sk-toggleable__control:checked~label.sk-toggleable__label {background-color: #d4ebff;}#sk-container-id-3 div.sk-label input.sk-toggleable__control:checked~label.sk-toggleable__label {background-color: #d4ebff;}#sk-container-id-3 input.sk-hidden--visually {border: 0;clip: rect(1px 1px 1px 1px);clip: rect(1px, 1px, 1px, 1px);height: 1px;margin: -1px;overflow: hidden;padding: 0;position: absolute;width: 1px;}#sk-container-id-3 div.sk-estimator {font-family: monospace;background-color: #f0f8ff;border: 1px dotted black;border-radius: 0.25em;box-sizing: border-box;margin-bottom: 0.5em;}#sk-container-id-3 div.sk-estimator:hover {background-color: #d4ebff;}#sk-container-id-3 div.sk-parallel-item::after {content: \"\";width: 100%;border-bottom: 1px solid gray;flex-grow: 1;}#sk-container-id-3 div.sk-label:hover label.sk-toggleable__label {background-color: #d4ebff;}#sk-container-id-3 div.sk-serial::before {content: \"\";position: absolute;border-left: 1px solid gray;box-sizing: border-box;top: 0;bottom: 0;left: 50%;z-index: 0;}#sk-container-id-3 div.sk-serial {display: flex;flex-direction: column;align-items: center;background-color: white;padding-right: 0.2em;padding-left: 0.2em;position: relative;}#sk-container-id-3 div.sk-item {position: relative;z-index: 1;}#sk-container-id-3 div.sk-parallel {display: flex;align-items: stretch;justify-content: center;background-color: white;position: relative;}#sk-container-id-3 div.sk-item::before, #sk-container-id-3 div.sk-parallel-item::before {content: \"\";position: absolute;border-left: 1px solid gray;box-sizing: border-box;top: 0;bottom: 0;left: 50%;z-index: -1;}#sk-container-id-3 div.sk-parallel-item {display: flex;flex-direction: column;z-index: 1;position: relative;background-color: white;}#sk-container-id-3 div.sk-parallel-item:first-child::after {align-self: flex-end;width: 50%;}#sk-container-id-3 div.sk-parallel-item:last-child::after {align-self: flex-start;width: 50%;}#sk-container-id-3 div.sk-parallel-item:only-child::after {width: 0;}#sk-container-id-3 div.sk-dashed-wrapped {border: 1px dashed gray;margin: 0 0.4em 0.5em 0.4em;box-sizing: border-box;padding-bottom: 0.4em;background-color: white;}#sk-container-id-3 div.sk-label label {font-family: monospace;font-weight: bold;display: inline-block;line-height: 1.2em;}#sk-container-id-3 div.sk-label-container {text-align: center;}#sk-container-id-3 div.sk-container {/* jupyter's `normalize.less` sets `[hidden] { display: none; }` but bootstrap.min.css set `[hidden] { display: none !important; }` so we also need the `!important` here to be able to override the default hidden behavior on the sphinx rendered scikit-learn.org. See: https://github.com/scikit-learn/scikit-learn/issues/21755 */display: inline-block !important;position: relative;}#sk-container-id-3 div.sk-text-repr-fallback {display: none;}</style><div id=\"sk-container-id-3\" class=\"sk-top-container\"><div class=\"sk-text-repr-fallback\"><pre>LinearRegression()</pre><b>In a Jupyter environment, please rerun this cell to show the HTML representation or trust the notebook. <br />On GitHub, the HTML representation is unable to render, please try loading this page with nbviewer.org.</b></div><div class=\"sk-container\" hidden><div class=\"sk-item\"><div class=\"sk-estimator sk-toggleable\"><input class=\"sk-toggleable__control sk-hidden--visually\" id=\"sk-estimator-id-3\" type=\"checkbox\" checked><label for=\"sk-estimator-id-3\" class=\"sk-toggleable__label sk-toggleable__label-arrow\">LinearRegression</label><div class=\"sk-toggleable__content\"><pre>LinearRegression()</pre></div></div></div></div></div>"
      ],
      "text/plain": [
       "LinearRegression()"
      ]
     },
     "execution_count": 44,
     "metadata": {},
     "output_type": "execute_result"
    }
   ],
   "source": [
    "reg = LinearRegression()\n",
    "reg.fit(x1, y1)"
   ]
  },
  {
   "cell_type": "code",
   "execution_count": 45,
   "id": "e21c654a",
   "metadata": {},
   "outputs": [],
   "source": [
    "y_hat = reg.predict(x2)"
   ]
  },
  {
   "cell_type": "code",
   "execution_count": 46,
   "id": "fb3cbefb",
   "metadata": {},
   "outputs": [
    {
     "name": "stdout",
     "output_type": "stream",
     "text": [
      "R2:  0.9606822396194844\n"
     ]
    }
   ],
   "source": [
    "r2 = r2_score(y2, y_hat)\n",
    "print(\"R2: \", r2)"
   ]
  },
  {
   "cell_type": "code",
   "execution_count": 75,
   "id": "2472234d",
   "metadata": {},
   "outputs": [
    {
     "data": {
      "text/plain": [
       "Text(0.5, 1.0, 'Prediction vs Ground Truth')"
      ]
     },
     "execution_count": 75,
     "metadata": {},
     "output_type": "execute_result"
    },
    {
     "data": {
      "image/png": "[encoded data removed]",
      "text/plain": [
       "<Figure size 640x480 with 1 Axes>"
      ]
     },
     "metadata": {},
     "output_type": "display_data"
    }
   ],
   "source": [
    "plt.scatter(y2, y_hat)\n",
    "plt.title(\"Prediction vs Ground Truth\")"
   ]
  },
  {
   "cell_type": "markdown",
   "id": "b3342609",
   "metadata": {},
   "source": [
    "# Problem 1b - KFold Validation"
   ]
  },
  {
   "cell_type": "code",
   "execution_count": 84,
   "id": "daf49d90",
   "metadata": {},
   "outputs": [],
   "source": [
    "def shuffle():\n",
    "    merged_x = pd.concat([x1, x2], ignore_index=True)\n",
    "    merged_y = pd.concat([y1, y2], ignore_index=True)\n",
    "\n",
    "    merged_x['Gt'] = merged_y\n",
    "\n",
    "    shuffled_df = merged_x.sample(frac=1.0) \n",
    "\n",
    "    split_df_1 = shuffled_df.head(50)\n",
    "    split_df_2 = shuffled_df.tail(50)\n",
    "\n",
    "    split_y1 = split_df_1['Gt']\n",
    "    split_y2 = split_df_2['Gt']\n",
    "\n",
    "    split_x1 = split_df_1.drop(columns=[\"Gt\"])\n",
    "    split_x2 = split_df_2.drop(columns=[\"Gt\"])"
   ]
  },
  {
   "cell_type": "code",
   "execution_count": 85,
   "id": "6f7c249c",
   "metadata": {},
   "outputs": [],
   "source": [
    "def predict():\n",
    "    lr = LinearRegression()\n",
    "    lr.fit(split_x1, split_y1)\n",
    "\n",
    "    y_hat_split = lr.predict(split_x2)\n",
    "\n",
    "    r2 = r2_score(y_hat_split, split_y2)\n",
    "    print(\"R2: \", r2)\n",
    "\n",
    "    plt.scatter(y_hat_split, split_y2)\n",
    "    plt.title(\"Prediction vs Ground Truth\")"
   ]
  },
  {
   "cell_type": "code",
   "execution_count": 86,
   "id": "f8a6cb51",
   "metadata": {},
   "outputs": [
    {
     "name": "stdout",
     "output_type": "stream",
     "text": [
      "R2:  0.9263846459537334\n"
     ]
    },
    {
     "data": {
      "image/png": "[encoded data removed]",
      "text/plain": [
       "<Figure size 640x480 with 1 Axes>"
      ]
     },
     "metadata": {},
     "output_type": "display_data"
    }
   ],
   "source": [
    "shuffle()\n",
    "predict()"
   ]
  }
 ],
 "metadata": {
  "kernelspec": {
   "display_name": "Python 3 (ipykernel)",
   "language": "python",
   "name": "python3"
  },
  "language_info": {
   "codemirror_mode": {
    "name": "ipython",
    "version": 3
   },
   "file_extension": ".py",
   "mimetype": "text/x-python",
   "name": "python",
   "nbconvert_exporter": "python",
   "pygments_lexer": "ipython3",
   "version": "3.10.9"
  }
 },
 "nbformat": 4,
 "nbformat_minor": 5
}
