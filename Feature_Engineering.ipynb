{
 "cells": [
  {
   "cell_type": "code",
   "execution_count": 1,
   "id": "728896b2",
   "metadata": {},
   "outputs": [],
   "source": [
    "import pandas as pd\n",
    "import numpy as np"
   ]
  },
  {
   "cell_type": "code",
   "execution_count": 2,
   "id": "857a49f2",
   "metadata": {},
   "outputs": [],
   "source": [
    "df = pd.read_csv(\"Top_1000_IMDb_movies_New_version.csv\")"
   ]
  },
  {
   "cell_type": "code",
   "execution_count": 3,
   "id": "a5ea7bf5",
   "metadata": {
    "scrolled": false
   },
   "outputs": [
    {
     "data": {
      "text/html": [
       "<div>\n",
       "<style scoped>\n",
       "    .dataframe tbody tr th:only-of-type {\n",
       "        vertical-align: middle;\n",
       "    }\n",
       "\n",
       "    .dataframe tbody tr th {\n",
       "        vertical-align: top;\n",
       "    }\n",
       "\n",
       "    .dataframe thead th {\n",
       "        text-align: right;\n",
       "    }\n",
       "</style>\n",
       "<table border=\"1\" class=\"dataframe\">\n",
       "  <thead>\n",
       "    <tr style=\"text-align: right;\">\n",
       "      <th></th>\n",
       "      <th>Unnamed: 0</th>\n",
       "      <th>Movie Name</th>\n",
       "      <th>Year of Release</th>\n",
       "      <th>Watch Time</th>\n",
       "      <th>Movie Rating</th>\n",
       "      <th>Metascore of movie</th>\n",
       "      <th>Gross</th>\n",
       "      <th>Votes</th>\n",
       "      <th>Description</th>\n",
       "    </tr>\n",
       "  </thead>\n",
       "  <tbody>\n",
       "    <tr>\n",
       "      <th>0</th>\n",
       "      <td>0</td>\n",
       "      <td>The Shawshank Redemption</td>\n",
       "      <td>1994</td>\n",
       "      <td>142</td>\n",
       "      <td>9.3</td>\n",
       "      <td>82.0</td>\n",
       "      <td>28.34</td>\n",
       "      <td>27,77,378</td>\n",
       "      <td>Over the course of several years, two convicts...</td>\n",
       "    </tr>\n",
       "    <tr>\n",
       "      <th>1</th>\n",
       "      <td>1</td>\n",
       "      <td>The Godfather</td>\n",
       "      <td>1972</td>\n",
       "      <td>175</td>\n",
       "      <td>9.2</td>\n",
       "      <td>100.0</td>\n",
       "      <td>134.97</td>\n",
       "      <td>19,33,588</td>\n",
       "      <td>Don Vito Corleone, head of a mafia family, dec...</td>\n",
       "    </tr>\n",
       "    <tr>\n",
       "      <th>2</th>\n",
       "      <td>2</td>\n",
       "      <td>The Dark Knight</td>\n",
       "      <td>2008</td>\n",
       "      <td>152</td>\n",
       "      <td>9.0</td>\n",
       "      <td>84.0</td>\n",
       "      <td>534.86</td>\n",
       "      <td>27,54,087</td>\n",
       "      <td>When the menace known as the Joker wreaks havo...</td>\n",
       "    </tr>\n",
       "    <tr>\n",
       "      <th>3</th>\n",
       "      <td>3</td>\n",
       "      <td>Schindler's List</td>\n",
       "      <td>1993</td>\n",
       "      <td>195</td>\n",
       "      <td>9.0</td>\n",
       "      <td>95.0</td>\n",
       "      <td>96.9</td>\n",
       "      <td>13,97,886</td>\n",
       "      <td>In German-occupied Poland during World War II,...</td>\n",
       "    </tr>\n",
       "    <tr>\n",
       "      <th>4</th>\n",
       "      <td>4</td>\n",
       "      <td>12 Angry Men</td>\n",
       "      <td>1957</td>\n",
       "      <td>96</td>\n",
       "      <td>9.0</td>\n",
       "      <td>97.0</td>\n",
       "      <td>4.36</td>\n",
       "      <td>8,24,211</td>\n",
       "      <td>The jury in a New York City murder trial is fr...</td>\n",
       "    </tr>\n",
       "  </tbody>\n",
       "</table>\n",
       "</div>"
      ],
      "text/plain": [
       "   Unnamed: 0                Movie Name Year of Release  Watch Time  \\\n",
       "0           0  The Shawshank Redemption            1994         142   \n",
       "1           1             The Godfather            1972         175   \n",
       "2           2           The Dark Knight            2008         152   \n",
       "3           3          Schindler's List            1993         195   \n",
       "4           4              12 Angry Men            1957          96   \n",
       "\n",
       "   Movie Rating  Metascore of movie   Gross      Votes  \\\n",
       "0           9.3                82.0   28.34  27,77,378   \n",
       "1           9.2               100.0  134.97  19,33,588   \n",
       "2           9.0                84.0  534.86  27,54,087   \n",
       "3           9.0                95.0    96.9  13,97,886   \n",
       "4           9.0                97.0    4.36   8,24,211   \n",
       "\n",
       "                                         Description  \n",
       "0  Over the course of several years, two convicts...  \n",
       "1  Don Vito Corleone, head of a mafia family, dec...  \n",
       "2  When the menace known as the Joker wreaks havo...  \n",
       "3  In German-occupied Poland during World War II,...  \n",
       "4  The jury in a New York City murder trial is fr...  "
      ]
     },
     "execution_count": 3,
     "metadata": {},
     "output_type": "execute_result"
    }
   ],
   "source": [
    "df.head()"
   ]
  },
  {
   "cell_type": "code",
   "execution_count": 4,
   "id": "dec56807",
   "metadata": {
    "scrolled": false
   },
   "outputs": [
    {
     "data": {
      "text/html": [
       "<div>\n",
       "<style scoped>\n",
       "    .dataframe tbody tr th:only-of-type {\n",
       "        vertical-align: middle;\n",
       "    }\n",
       "\n",
       "    .dataframe tbody tr th {\n",
       "        vertical-align: top;\n",
       "    }\n",
       "\n",
       "    .dataframe thead th {\n",
       "        text-align: right;\n",
       "    }\n",
       "</style>\n",
       "<table border=\"1\" class=\"dataframe\">\n",
       "  <thead>\n",
       "    <tr style=\"text-align: right;\">\n",
       "      <th></th>\n",
       "      <th>Unnamed: 0</th>\n",
       "      <th>Movie Name</th>\n",
       "      <th>Year of Release</th>\n",
       "      <th>Watch Time</th>\n",
       "      <th>Movie Rating</th>\n",
       "      <th>Metascore of movie</th>\n",
       "      <th>Gross</th>\n",
       "      <th>Votes</th>\n",
       "      <th>Description</th>\n",
       "    </tr>\n",
       "  </thead>\n",
       "  <tbody>\n",
       "    <tr>\n",
       "      <th>0</th>\n",
       "      <td>0</td>\n",
       "      <td>The Shawshank Redemption</td>\n",
       "      <td>1994</td>\n",
       "      <td>142</td>\n",
       "      <td>9.3</td>\n",
       "      <td>82.0</td>\n",
       "      <td>28.34</td>\n",
       "      <td>27,77,378</td>\n",
       "      <td>Over the course of several years, two convicts...</td>\n",
       "    </tr>\n",
       "    <tr>\n",
       "      <th>8</th>\n",
       "      <td>8</td>\n",
       "      <td>Pulp Fiction</td>\n",
       "      <td>1994</td>\n",
       "      <td>154</td>\n",
       "      <td>8.9</td>\n",
       "      <td>95.0</td>\n",
       "      <td>107.93</td>\n",
       "      <td>21,31,189</td>\n",
       "      <td>The lives of two mob hitmen, a boxer, a gangst...</td>\n",
       "    </tr>\n",
       "    <tr>\n",
       "      <th>12</th>\n",
       "      <td>12</td>\n",
       "      <td>Forrest Gump</td>\n",
       "      <td>1994</td>\n",
       "      <td>142</td>\n",
       "      <td>8.8</td>\n",
       "      <td>82.0</td>\n",
       "      <td>330.25</td>\n",
       "      <td>21,60,038</td>\n",
       "      <td>The history of the United States from the 1950...</td>\n",
       "    </tr>\n",
       "    <tr>\n",
       "      <th>45</th>\n",
       "      <td>45</td>\n",
       "      <td>Léon</td>\n",
       "      <td>1994</td>\n",
       "      <td>110</td>\n",
       "      <td>8.5</td>\n",
       "      <td>64.0</td>\n",
       "      <td>19.5</td>\n",
       "      <td>12,00,839</td>\n",
       "      <td>12-year-old Mathilda is reluctantly taken in b...</td>\n",
       "    </tr>\n",
       "    <tr>\n",
       "      <th>48</th>\n",
       "      <td>48</td>\n",
       "      <td>The Lion King</td>\n",
       "      <td>1994</td>\n",
       "      <td>88</td>\n",
       "      <td>8.5</td>\n",
       "      <td>88.0</td>\n",
       "      <td>422.78</td>\n",
       "      <td>10,97,285</td>\n",
       "      <td>Lion prince Simba and his father are targeted ...</td>\n",
       "    </tr>\n",
       "    <tr>\n",
       "      <th>291</th>\n",
       "      <td>291</td>\n",
       "      <td>Trois couleurs: Rouge</td>\n",
       "      <td>1994</td>\n",
       "      <td>99</td>\n",
       "      <td>8.1</td>\n",
       "      <td>100.0</td>\n",
       "      <td>4.04</td>\n",
       "      <td>1,07,010</td>\n",
       "      <td>A model discovers a retired judge is keen on i...</td>\n",
       "    </tr>\n",
       "    <tr>\n",
       "      <th>393</th>\n",
       "      <td>393</td>\n",
       "      <td>Chung Hing sam lam</td>\n",
       "      <td>1994</td>\n",
       "      <td>102</td>\n",
       "      <td>8.0</td>\n",
       "      <td>78.0</td>\n",
       "      <td>0.6</td>\n",
       "      <td>89,420</td>\n",
       "      <td>Two melancholy Hong Kong policemen fall in lov...</td>\n",
       "    </tr>\n",
       "    <tr>\n",
       "      <th>471</th>\n",
       "      <td>471</td>\n",
       "      <td>Andaz Apna Apna</td>\n",
       "      <td>1994</td>\n",
       "      <td>160</td>\n",
       "      <td>8.0</td>\n",
       "      <td>NaN</td>\n",
       "      <td>NaN</td>\n",
       "      <td>54,402</td>\n",
       "      <td>Two slackers competing for the affections of a...</td>\n",
       "    </tr>\n",
       "    <tr>\n",
       "      <th>547</th>\n",
       "      <td>547</td>\n",
       "      <td>Once Were Warriors</td>\n",
       "      <td>1994</td>\n",
       "      <td>102</td>\n",
       "      <td>7.9</td>\n",
       "      <td>77.0</td>\n",
       "      <td>2.2</td>\n",
       "      <td>35,797</td>\n",
       "      <td>A family descended from Maori warriors is bede...</td>\n",
       "    </tr>\n",
       "    <tr>\n",
       "      <th>695</th>\n",
       "      <td>695</td>\n",
       "      <td>Ed Wood</td>\n",
       "      <td>1994</td>\n",
       "      <td>127</td>\n",
       "      <td>7.8</td>\n",
       "      <td>70.0</td>\n",
       "      <td>5.89</td>\n",
       "      <td>1,80,542</td>\n",
       "      <td>Ambitious but troubled movie director Edward D...</td>\n",
       "    </tr>\n",
       "    <tr>\n",
       "      <th>734</th>\n",
       "      <td>734</td>\n",
       "      <td>Il postino</td>\n",
       "      <td>1994</td>\n",
       "      <td>108</td>\n",
       "      <td>7.8</td>\n",
       "      <td>81.0</td>\n",
       "      <td>21.85</td>\n",
       "      <td>37,976</td>\n",
       "      <td>A simple Italian postman learns to love poetry...</td>\n",
       "    </tr>\n",
       "    <tr>\n",
       "      <th>847</th>\n",
       "      <td>847</td>\n",
       "      <td>Clerks</td>\n",
       "      <td>1994</td>\n",
       "      <td>92</td>\n",
       "      <td>7.7</td>\n",
       "      <td>70.0</td>\n",
       "      <td>3.15</td>\n",
       "      <td>2,28,218</td>\n",
       "      <td>A day in the lives of two convenience clerks n...</td>\n",
       "    </tr>\n",
       "  </tbody>\n",
       "</table>\n",
       "</div>"
      ],
      "text/plain": [
       "     Unnamed: 0                Movie Name Year of Release  Watch Time  \\\n",
       "0             0  The Shawshank Redemption            1994         142   \n",
       "8             8              Pulp Fiction            1994         154   \n",
       "12           12              Forrest Gump            1994         142   \n",
       "45           45                      Léon            1994         110   \n",
       "48           48             The Lion King            1994          88   \n",
       "291         291     Trois couleurs: Rouge            1994          99   \n",
       "393         393        Chung Hing sam lam            1994         102   \n",
       "471         471           Andaz Apna Apna            1994         160   \n",
       "547         547        Once Were Warriors            1994         102   \n",
       "695         695                   Ed Wood            1994         127   \n",
       "734         734                Il postino            1994         108   \n",
       "847         847                    Clerks            1994          92   \n",
       "\n",
       "     Movie Rating  Metascore of movie   Gross      Votes  \\\n",
       "0             9.3                82.0   28.34  27,77,378   \n",
       "8             8.9                95.0  107.93  21,31,189   \n",
       "12            8.8                82.0  330.25  21,60,038   \n",
       "45            8.5                64.0    19.5  12,00,839   \n",
       "48            8.5                88.0  422.78  10,97,285   \n",
       "291           8.1               100.0    4.04   1,07,010   \n",
       "393           8.0                78.0     0.6     89,420   \n",
       "471           8.0                 NaN     NaN     54,402   \n",
       "547           7.9                77.0     2.2     35,797   \n",
       "695           7.8                70.0    5.89   1,80,542   \n",
       "734           7.8                81.0   21.85     37,976   \n",
       "847           7.7                70.0    3.15   2,28,218   \n",
       "\n",
       "                                           Description  \n",
       "0    Over the course of several years, two convicts...  \n",
       "8    The lives of two mob hitmen, a boxer, a gangst...  \n",
       "12   The history of the United States from the 1950...  \n",
       "45   12-year-old Mathilda is reluctantly taken in b...  \n",
       "48   Lion prince Simba and his father are targeted ...  \n",
       "291  A model discovers a retired judge is keen on i...  \n",
       "393  Two melancholy Hong Kong policemen fall in lov...  \n",
       "471  Two slackers competing for the affections of a...  \n",
       "547  A family descended from Maori warriors is bede...  \n",
       "695  Ambitious but troubled movie director Edward D...  \n",
       "734  A simple Italian postman learns to love poetry...  \n",
       "847  A day in the lives of two convenience clerks n...  "
      ]
     },
     "execution_count": 4,
     "metadata": {},
     "output_type": "execute_result"
    }
   ],
   "source": [
    "df[df['Year of Release'] == \"1994\"]"
   ]
  },
  {
   "cell_type": "code",
   "execution_count": 5,
   "id": "c53f517f",
   "metadata": {},
   "outputs": [
    {
     "name": "stdout",
     "output_type": "stream",
     "text": [
      "(420818, [12, 18, 10751, 16])\n"
     ]
    }
   ],
   "source": [
    "from TMDB_query_single import getID"
   ]
  },
  {
   "cell_type": "code",
   "execution_count": 6,
   "id": "77cf56c0",
   "metadata": {},
   "outputs": [
    {
     "data": {
      "text/plain": [
       "(13, [35, 18, 10749])"
      ]
     },
     "execution_count": 6,
     "metadata": {},
     "output_type": "execute_result"
    }
   ],
   "source": [
    "getID('Forrest Gump')"
   ]
  },
  {
   "cell_type": "code",
   "execution_count": 7,
   "id": "bcdde48f",
   "metadata": {},
   "outputs": [],
   "source": [
    "genre_keys = {\n",
    "\n",
    "    28       :   \"Action\",\n",
    "    12       :   \"Adventure\",\n",
    "    16       :   \"Animation\",\n",
    "    35       :   \"Comedy\",\n",
    "    80       :   \"Crime\",\n",
    "    99       :   \"Documentary\",\n",
    "    18       :   \"Drama\",\n",
    "    10751    :   \"Family\",\n",
    "    14       :   \"Fantasy\",\n",
    "    36       :   \"History\",\n",
    "    27       :   \"Horror\",\n",
    "    10402    :   \"Music\",\n",
    "    9648     :   \"Mystery\",\n",
    "    10749    :   \"Romance\",\n",
    "    878      :   \"SciFi\",\n",
    "    10770    :   \"TV\",\n",
    "    53       :   \"Thriller\",\n",
    "    10752    :   \"War\",\n",
    "    37       :   \"Western\"\n",
    "    \n",
    "}"
   ]
  },
  {
   "cell_type": "code",
   "execution_count": 8,
   "id": "09681ccc",
   "metadata": {},
   "outputs": [
    {
     "name": "stdout",
     "output_type": "stream",
     "text": [
      "Comedy\n",
      "Drama\n",
      "Romance\n"
     ]
    }
   ],
   "source": [
    "for i in [35, 18, 10749]:\n",
    "    print(genre_keys[i])"
   ]
  },
  {
   "cell_type": "code",
   "execution_count": 9,
   "id": "07d53f8f",
   "metadata": {},
   "outputs": [],
   "source": [
    "df['Ids'] = df['Movie Name'].apply(getID)"
   ]
  },
  {
   "cell_type": "code",
   "execution_count": 10,
   "id": "75dbd79c",
   "metadata": {},
   "outputs": [
    {
     "data": {
      "text/plain": [
       "0                 (278, [18, 80])\n",
       "1                 (238, [18, 80])\n",
       "2         (155, [18, 28, 80, 53])\n",
       "3          (424, [18, 36, 10752])\n",
       "4                     (389, [18])\n",
       "                  ...            \n",
       "995                (205220, [18])\n",
       "996    (2841, [18, 10749, 10752])\n",
       "997                  (7863, [18])\n",
       "998      (1131438, [53, 27, 878])\n",
       "999         (33273, [28, 53, 18])\n",
       "Name: Ids, Length: 1000, dtype: object"
      ]
     },
     "execution_count": 10,
     "metadata": {},
     "output_type": "execute_result"
    }
   ],
   "source": [
    "df['Ids']"
   ]
  },
  {
   "cell_type": "code",
   "execution_count": 13,
   "id": "9ce88e10",
   "metadata": {},
   "outputs": [
    {
     "data": {
      "text/plain": [
       "tuple"
      ]
     },
     "execution_count": 13,
     "metadata": {},
     "output_type": "execute_result"
    }
   ],
   "source": []
  }
 ],
 "metadata": {
  "kernelspec": {
   "display_name": "Python 3 (ipykernel)",
   "language": "python",
   "name": "python3"
  },
  "language_info": {
   "codemirror_mode": {
    "name": "ipython",
    "version": 3
   },
   "file_extension": ".py",
   "mimetype": "text/x-python",
   "name": "python",
   "nbconvert_exporter": "python",
   "pygments_lexer": "ipython3",
   "version": "3.10.9"
  }
 },
 "nbformat": 4,
 "nbformat_minor": 5
}
