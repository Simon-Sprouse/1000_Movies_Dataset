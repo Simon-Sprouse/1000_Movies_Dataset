{
 "cells": [
  {
   "cell_type": "markdown",
   "id": "bc995a50",
   "metadata": {},
   "source": [
    "# Statistics"
   ]
  },
  {
   "cell_type": "code",
   "execution_count": 8,
   "id": "a7bc35ae",
   "metadata": {},
   "outputs": [],
   "source": [
    "import pandas as pd\n",
    "import numpy as np"
   ]
  },
  {
   "cell_type": "code",
   "execution_count": 9,
   "id": "7aa2000d",
   "metadata": {},
   "outputs": [],
   "source": [
    "df = pd.read_csv(\"added_features.csv\", index_col = False)"
   ]
  },
  {
   "cell_type": "code",
   "execution_count": 10,
   "id": "a03b1196",
   "metadata": {},
   "outputs": [
    {
     "data": {
      "text/html": [
       "<div>\n",
       "<style scoped>\n",
       "    .dataframe tbody tr th:only-of-type {\n",
       "        vertical-align: middle;\n",
       "    }\n",
       "\n",
       "    .dataframe tbody tr th {\n",
       "        vertical-align: top;\n",
       "    }\n",
       "\n",
       "    .dataframe thead th {\n",
       "        text-align: right;\n",
       "    }\n",
       "</style>\n",
       "<table border=\"1\" class=\"dataframe\">\n",
       "  <thead>\n",
       "    <tr style=\"text-align: right;\">\n",
       "      <th></th>\n",
       "      <th>Movie Name</th>\n",
       "      <th>Year of Release</th>\n",
       "      <th>Watch Time</th>\n",
       "      <th>Movie Rating</th>\n",
       "      <th>Metascore of movie</th>\n",
       "      <th>Gross</th>\n",
       "      <th>Votes</th>\n",
       "      <th>Description</th>\n",
       "      <th>Ids</th>\n",
       "      <th>TMDB_Id</th>\n",
       "      <th>...</th>\n",
       "      <th>Horror</th>\n",
       "      <th>Music</th>\n",
       "      <th>Mystery</th>\n",
       "      <th>Romance</th>\n",
       "      <th>SciFi</th>\n",
       "      <th>TV</th>\n",
       "      <th>Thriller</th>\n",
       "      <th>War</th>\n",
       "      <th>Western</th>\n",
       "      <th>Bad Words</th>\n",
       "    </tr>\n",
       "  </thead>\n",
       "  <tbody>\n",
       "    <tr>\n",
       "      <th>0</th>\n",
       "      <td>The Shawshank Redemption</td>\n",
       "      <td>1994</td>\n",
       "      <td>142</td>\n",
       "      <td>9.3</td>\n",
       "      <td>82.0</td>\n",
       "      <td>28.34</td>\n",
       "      <td>27,77,378</td>\n",
       "      <td>Over the course of several years, two convicts...</td>\n",
       "      <td>(278, [18, 80])</td>\n",
       "      <td>278.0</td>\n",
       "      <td>...</td>\n",
       "      <td>0</td>\n",
       "      <td>0</td>\n",
       "      <td>0</td>\n",
       "      <td>0</td>\n",
       "      <td>0</td>\n",
       "      <td>0</td>\n",
       "      <td>0</td>\n",
       "      <td>0</td>\n",
       "      <td>0</td>\n",
       "      <td>100</td>\n",
       "    </tr>\n",
       "    <tr>\n",
       "      <th>1</th>\n",
       "      <td>The Godfather</td>\n",
       "      <td>1972</td>\n",
       "      <td>175</td>\n",
       "      <td>9.2</td>\n",
       "      <td>100.0</td>\n",
       "      <td>134.97</td>\n",
       "      <td>19,33,588</td>\n",
       "      <td>Don Vito Corleone, head of a mafia family, dec...</td>\n",
       "      <td>(238, [18, 80])</td>\n",
       "      <td>238.0</td>\n",
       "      <td>...</td>\n",
       "      <td>0</td>\n",
       "      <td>0</td>\n",
       "      <td>0</td>\n",
       "      <td>0</td>\n",
       "      <td>0</td>\n",
       "      <td>0</td>\n",
       "      <td>0</td>\n",
       "      <td>0</td>\n",
       "      <td>0</td>\n",
       "      <td>20</td>\n",
       "    </tr>\n",
       "    <tr>\n",
       "      <th>2</th>\n",
       "      <td>The Dark Knight</td>\n",
       "      <td>2008</td>\n",
       "      <td>152</td>\n",
       "      <td>9.0</td>\n",
       "      <td>84.0</td>\n",
       "      <td>534.86</td>\n",
       "      <td>27,54,087</td>\n",
       "      <td>When the menace known as the Joker wreaks havo...</td>\n",
       "      <td>(155, [18, 28, 80, 53])</td>\n",
       "      <td>155.0</td>\n",
       "      <td>...</td>\n",
       "      <td>0</td>\n",
       "      <td>0</td>\n",
       "      <td>0</td>\n",
       "      <td>0</td>\n",
       "      <td>0</td>\n",
       "      <td>0</td>\n",
       "      <td>1</td>\n",
       "      <td>0</td>\n",
       "      <td>0</td>\n",
       "      <td>5</td>\n",
       "    </tr>\n",
       "    <tr>\n",
       "      <th>3</th>\n",
       "      <td>Schindler's List</td>\n",
       "      <td>1993</td>\n",
       "      <td>195</td>\n",
       "      <td>9.0</td>\n",
       "      <td>95.0</td>\n",
       "      <td>96.9</td>\n",
       "      <td>13,97,886</td>\n",
       "      <td>In German-occupied Poland during World War II,...</td>\n",
       "      <td>(424, [18, 36, 10752])</td>\n",
       "      <td>424.0</td>\n",
       "      <td>...</td>\n",
       "      <td>0</td>\n",
       "      <td>0</td>\n",
       "      <td>0</td>\n",
       "      <td>0</td>\n",
       "      <td>0</td>\n",
       "      <td>0</td>\n",
       "      <td>0</td>\n",
       "      <td>1</td>\n",
       "      <td>0</td>\n",
       "      <td>16</td>\n",
       "    </tr>\n",
       "    <tr>\n",
       "      <th>4</th>\n",
       "      <td>12 Angry Men</td>\n",
       "      <td>1957</td>\n",
       "      <td>96</td>\n",
       "      <td>9.0</td>\n",
       "      <td>97.0</td>\n",
       "      <td>4.36</td>\n",
       "      <td>8,24,211</td>\n",
       "      <td>The jury in a New York City murder trial is fr...</td>\n",
       "      <td>(389, [18])</td>\n",
       "      <td>389.0</td>\n",
       "      <td>...</td>\n",
       "      <td>0</td>\n",
       "      <td>0</td>\n",
       "      <td>0</td>\n",
       "      <td>0</td>\n",
       "      <td>0</td>\n",
       "      <td>0</td>\n",
       "      <td>0</td>\n",
       "      <td>0</td>\n",
       "      <td>0</td>\n",
       "      <td>1</td>\n",
       "    </tr>\n",
       "  </tbody>\n",
       "</table>\n",
       "<p>5 rows × 31 columns</p>\n",
       "</div>"
      ],
      "text/plain": [
       "                 Movie Name  Year of Release  Watch Time  Movie Rating  \\\n",
       "0  The Shawshank Redemption             1994         142           9.3   \n",
       "1             The Godfather             1972         175           9.2   \n",
       "2           The Dark Knight             2008         152           9.0   \n",
       "3          Schindler's List             1993         195           9.0   \n",
       "4              12 Angry Men             1957          96           9.0   \n",
       "\n",
       "   Metascore of movie   Gross      Votes  \\\n",
       "0                82.0   28.34  27,77,378   \n",
       "1               100.0  134.97  19,33,588   \n",
       "2                84.0  534.86  27,54,087   \n",
       "3                95.0    96.9  13,97,886   \n",
       "4                97.0    4.36   8,24,211   \n",
       "\n",
       "                                         Description                      Ids  \\\n",
       "0  Over the course of several years, two convicts...          (278, [18, 80])   \n",
       "1  Don Vito Corleone, head of a mafia family, dec...          (238, [18, 80])   \n",
       "2  When the menace known as the Joker wreaks havo...  (155, [18, 28, 80, 53])   \n",
       "3  In German-occupied Poland during World War II,...   (424, [18, 36, 10752])   \n",
       "4  The jury in a New York City murder trial is fr...              (389, [18])   \n",
       "\n",
       "   TMDB_Id  ... Horror  Music  Mystery  Romance  SciFi  TV  Thriller  War  \\\n",
       "0    278.0  ...      0      0        0        0      0   0         0    0   \n",
       "1    238.0  ...      0      0        0        0      0   0         0    0   \n",
       "2    155.0  ...      0      0        0        0      0   0         1    0   \n",
       "3    424.0  ...      0      0        0        0      0   0         0    1   \n",
       "4    389.0  ...      0      0        0        0      0   0         0    0   \n",
       "\n",
       "   Western  Bad Words  \n",
       "0        0        100  \n",
       "1        0         20  \n",
       "2        0          5  \n",
       "3        0         16  \n",
       "4        0          1  \n",
       "\n",
       "[5 rows x 31 columns]"
      ]
     },
     "execution_count": 10,
     "metadata": {},
     "output_type": "execute_result"
    }
   ],
   "source": [
    "df.head()"
   ]
  },
  {
   "cell_type": "code",
   "execution_count": 11,
   "id": "5a4f341f",
   "metadata": {},
   "outputs": [
    {
     "data": {
      "text/html": [
       "<div>\n",
       "<style scoped>\n",
       "    .dataframe tbody tr th:only-of-type {\n",
       "        vertical-align: middle;\n",
       "    }\n",
       "\n",
       "    .dataframe tbody tr th {\n",
       "        vertical-align: top;\n",
       "    }\n",
       "\n",
       "    .dataframe thead th {\n",
       "        text-align: right;\n",
       "    }\n",
       "</style>\n",
       "<table border=\"1\" class=\"dataframe\">\n",
       "  <thead>\n",
       "    <tr style=\"text-align: right;\">\n",
       "      <th></th>\n",
       "      <th>Year of Release</th>\n",
       "      <th>Watch Time</th>\n",
       "      <th>Movie Rating</th>\n",
       "      <th>Metascore of movie</th>\n",
       "      <th>TMDB_Id</th>\n",
       "      <th>Action</th>\n",
       "      <th>Adventure</th>\n",
       "      <th>Animation</th>\n",
       "      <th>Comedy</th>\n",
       "      <th>Crime</th>\n",
       "      <th>...</th>\n",
       "      <th>Horror</th>\n",
       "      <th>Music</th>\n",
       "      <th>Mystery</th>\n",
       "      <th>Romance</th>\n",
       "      <th>SciFi</th>\n",
       "      <th>TV</th>\n",
       "      <th>Thriller</th>\n",
       "      <th>War</th>\n",
       "      <th>Western</th>\n",
       "      <th>Bad Words</th>\n",
       "    </tr>\n",
       "  </thead>\n",
       "  <tbody>\n",
       "    <tr>\n",
       "      <th>count</th>\n",
       "      <td>1000.000000</td>\n",
       "      <td>1000.000000</td>\n",
       "      <td>1000.000000</td>\n",
       "      <td>845.000000</td>\n",
       "      <td>9.930000e+02</td>\n",
       "      <td>1000.000000</td>\n",
       "      <td>1000.000000</td>\n",
       "      <td>1000.000000</td>\n",
       "      <td>1000.000000</td>\n",
       "      <td>1000.000000</td>\n",
       "      <td>...</td>\n",
       "      <td>1000.000000</td>\n",
       "      <td>1000.000000</td>\n",
       "      <td>1000.000000</td>\n",
       "      <td>1000.000000</td>\n",
       "      <td>1000.000000</td>\n",
       "      <td>1000.000000</td>\n",
       "      <td>1000.0000</td>\n",
       "      <td>1000.000000</td>\n",
       "      <td>1000.000000</td>\n",
       "      <td>1000.000000</td>\n",
       "    </tr>\n",
       "    <tr>\n",
       "      <th>mean</th>\n",
       "      <td>1991.666000</td>\n",
       "      <td>124.253000</td>\n",
       "      <td>7.970200</td>\n",
       "      <td>79.011834</td>\n",
       "      <td>1.149451e+05</td>\n",
       "      <td>0.185000</td>\n",
       "      <td>0.158000</td>\n",
       "      <td>0.081000</td>\n",
       "      <td>0.219000</td>\n",
       "      <td>0.188000</td>\n",
       "      <td>...</td>\n",
       "      <td>0.037000</td>\n",
       "      <td>0.027000</td>\n",
       "      <td>0.088000</td>\n",
       "      <td>0.157000</td>\n",
       "      <td>0.091000</td>\n",
       "      <td>0.002000</td>\n",
       "      <td>0.2000</td>\n",
       "      <td>0.076000</td>\n",
       "      <td>0.025000</td>\n",
       "      <td>29.392000</td>\n",
       "    </tr>\n",
       "    <tr>\n",
       "      <th>std</th>\n",
       "      <td>24.188045</td>\n",
       "      <td>28.800355</td>\n",
       "      <td>0.275732</td>\n",
       "      <td>11.973800</td>\n",
       "      <td>2.152426e+05</td>\n",
       "      <td>0.388492</td>\n",
       "      <td>0.364924</td>\n",
       "      <td>0.272972</td>\n",
       "      <td>0.413776</td>\n",
       "      <td>0.390908</td>\n",
       "      <td>...</td>\n",
       "      <td>0.188856</td>\n",
       "      <td>0.162164</td>\n",
       "      <td>0.283437</td>\n",
       "      <td>0.363983</td>\n",
       "      <td>0.287753</td>\n",
       "      <td>0.044699</td>\n",
       "      <td>0.4002</td>\n",
       "      <td>0.265131</td>\n",
       "      <td>0.156203</td>\n",
       "      <td>60.316236</td>\n",
       "    </tr>\n",
       "    <tr>\n",
       "      <th>min</th>\n",
       "      <td>1920.000000</td>\n",
       "      <td>45.000000</td>\n",
       "      <td>7.600000</td>\n",
       "      <td>28.000000</td>\n",
       "      <td>1.100000e+01</td>\n",
       "      <td>0.000000</td>\n",
       "      <td>0.000000</td>\n",
       "      <td>0.000000</td>\n",
       "      <td>0.000000</td>\n",
       "      <td>0.000000</td>\n",
       "      <td>...</td>\n",
       "      <td>0.000000</td>\n",
       "      <td>0.000000</td>\n",
       "      <td>0.000000</td>\n",
       "      <td>0.000000</td>\n",
       "      <td>0.000000</td>\n",
       "      <td>0.000000</td>\n",
       "      <td>0.0000</td>\n",
       "      <td>0.000000</td>\n",
       "      <td>0.000000</td>\n",
       "      <td>-1.000000</td>\n",
       "    </tr>\n",
       "    <tr>\n",
       "      <th>25%</th>\n",
       "      <td>1975.000000</td>\n",
       "      <td>103.000000</td>\n",
       "      <td>7.800000</td>\n",
       "      <td>71.000000</td>\n",
       "      <td>8.570000e+02</td>\n",
       "      <td>0.000000</td>\n",
       "      <td>0.000000</td>\n",
       "      <td>0.000000</td>\n",
       "      <td>0.000000</td>\n",
       "      <td>0.000000</td>\n",
       "      <td>...</td>\n",
       "      <td>0.000000</td>\n",
       "      <td>0.000000</td>\n",
       "      <td>0.000000</td>\n",
       "      <td>0.000000</td>\n",
       "      <td>0.000000</td>\n",
       "      <td>0.000000</td>\n",
       "      <td>0.0000</td>\n",
       "      <td>0.000000</td>\n",
       "      <td>0.000000</td>\n",
       "      <td>1.000000</td>\n",
       "    </tr>\n",
       "    <tr>\n",
       "      <th>50%</th>\n",
       "      <td>1999.000000</td>\n",
       "      <td>120.000000</td>\n",
       "      <td>7.900000</td>\n",
       "      <td>80.000000</td>\n",
       "      <td>1.031500e+04</td>\n",
       "      <td>0.000000</td>\n",
       "      <td>0.000000</td>\n",
       "      <td>0.000000</td>\n",
       "      <td>0.000000</td>\n",
       "      <td>0.000000</td>\n",
       "      <td>...</td>\n",
       "      <td>0.000000</td>\n",
       "      <td>0.000000</td>\n",
       "      <td>0.000000</td>\n",
       "      <td>0.000000</td>\n",
       "      <td>0.000000</td>\n",
       "      <td>0.000000</td>\n",
       "      <td>0.0000</td>\n",
       "      <td>0.000000</td>\n",
       "      <td>0.000000</td>\n",
       "      <td>7.000000</td>\n",
       "    </tr>\n",
       "    <tr>\n",
       "      <th>75%</th>\n",
       "      <td>2011.000000</td>\n",
       "      <td>139.000000</td>\n",
       "      <td>8.100000</td>\n",
       "      <td>88.000000</td>\n",
       "      <td>1.004020e+05</td>\n",
       "      <td>0.000000</td>\n",
       "      <td>0.000000</td>\n",
       "      <td>0.000000</td>\n",
       "      <td>0.000000</td>\n",
       "      <td>0.000000</td>\n",
       "      <td>...</td>\n",
       "      <td>0.000000</td>\n",
       "      <td>0.000000</td>\n",
       "      <td>0.000000</td>\n",
       "      <td>0.000000</td>\n",
       "      <td>0.000000</td>\n",
       "      <td>0.000000</td>\n",
       "      <td>0.0000</td>\n",
       "      <td>0.000000</td>\n",
       "      <td>0.000000</td>\n",
       "      <td>31.000000</td>\n",
       "    </tr>\n",
       "    <tr>\n",
       "      <th>max</th>\n",
       "      <td>2023.000000</td>\n",
       "      <td>321.000000</td>\n",
       "      <td>9.300000</td>\n",
       "      <td>100.000000</td>\n",
       "      <td>1.131438e+06</td>\n",
       "      <td>1.000000</td>\n",
       "      <td>1.000000</td>\n",
       "      <td>1.000000</td>\n",
       "      <td>1.000000</td>\n",
       "      <td>1.000000</td>\n",
       "      <td>...</td>\n",
       "      <td>1.000000</td>\n",
       "      <td>1.000000</td>\n",
       "      <td>1.000000</td>\n",
       "      <td>1.000000</td>\n",
       "      <td>1.000000</td>\n",
       "      <td>1.000000</td>\n",
       "      <td>1.0000</td>\n",
       "      <td>1.000000</td>\n",
       "      <td>1.000000</td>\n",
       "      <td>686.000000</td>\n",
       "    </tr>\n",
       "  </tbody>\n",
       "</table>\n",
       "<p>8 rows × 25 columns</p>\n",
       "</div>"
      ],
      "text/plain": [
       "       Year of Release   Watch Time  Movie Rating  Metascore of movie  \\\n",
       "count      1000.000000  1000.000000   1000.000000          845.000000   \n",
       "mean       1991.666000   124.253000      7.970200           79.011834   \n",
       "std          24.188045    28.800355      0.275732           11.973800   \n",
       "min        1920.000000    45.000000      7.600000           28.000000   \n",
       "25%        1975.000000   103.000000      7.800000           71.000000   \n",
       "50%        1999.000000   120.000000      7.900000           80.000000   \n",
       "75%        2011.000000   139.000000      8.100000           88.000000   \n",
       "max        2023.000000   321.000000      9.300000          100.000000   \n",
       "\n",
       "            TMDB_Id       Action    Adventure    Animation       Comedy  \\\n",
       "count  9.930000e+02  1000.000000  1000.000000  1000.000000  1000.000000   \n",
       "mean   1.149451e+05     0.185000     0.158000     0.081000     0.219000   \n",
       "std    2.152426e+05     0.388492     0.364924     0.272972     0.413776   \n",
       "min    1.100000e+01     0.000000     0.000000     0.000000     0.000000   \n",
       "25%    8.570000e+02     0.000000     0.000000     0.000000     0.000000   \n",
       "50%    1.031500e+04     0.000000     0.000000     0.000000     0.000000   \n",
       "75%    1.004020e+05     0.000000     0.000000     0.000000     0.000000   \n",
       "max    1.131438e+06     1.000000     1.000000     1.000000     1.000000   \n",
       "\n",
       "             Crime  ...       Horror        Music      Mystery      Romance  \\\n",
       "count  1000.000000  ...  1000.000000  1000.000000  1000.000000  1000.000000   \n",
       "mean      0.188000  ...     0.037000     0.027000     0.088000     0.157000   \n",
       "std       0.390908  ...     0.188856     0.162164     0.283437     0.363983   \n",
       "min       0.000000  ...     0.000000     0.000000     0.000000     0.000000   \n",
       "25%       0.000000  ...     0.000000     0.000000     0.000000     0.000000   \n",
       "50%       0.000000  ...     0.000000     0.000000     0.000000     0.000000   \n",
       "75%       0.000000  ...     0.000000     0.000000     0.000000     0.000000   \n",
       "max       1.000000  ...     1.000000     1.000000     1.000000     1.000000   \n",
       "\n",
       "             SciFi           TV   Thriller          War      Western  \\\n",
       "count  1000.000000  1000.000000  1000.0000  1000.000000  1000.000000   \n",
       "mean      0.091000     0.002000     0.2000     0.076000     0.025000   \n",
       "std       0.287753     0.044699     0.4002     0.265131     0.156203   \n",
       "min       0.000000     0.000000     0.0000     0.000000     0.000000   \n",
       "25%       0.000000     0.000000     0.0000     0.000000     0.000000   \n",
       "50%       0.000000     0.000000     0.0000     0.000000     0.000000   \n",
       "75%       0.000000     0.000000     0.0000     0.000000     0.000000   \n",
       "max       1.000000     1.000000     1.0000     1.000000     1.000000   \n",
       "\n",
       "         Bad Words  \n",
       "count  1000.000000  \n",
       "mean     29.392000  \n",
       "std      60.316236  \n",
       "min      -1.000000  \n",
       "25%       1.000000  \n",
       "50%       7.000000  \n",
       "75%      31.000000  \n",
       "max     686.000000  \n",
       "\n",
       "[8 rows x 25 columns]"
      ]
     },
     "execution_count": 11,
     "metadata": {},
     "output_type": "execute_result"
    }
   ],
   "source": [
    "df.describe()"
   ]
  },
  {
   "cell_type": "markdown",
   "id": "dbc30a7e",
   "metadata": {},
   "source": [
    "## Watchtime by year of release"
   ]
  },
  {
   "cell_type": "code",
   "execution_count": 12,
   "id": "705d57ca",
   "metadata": {},
   "outputs": [
    {
     "data": {
      "text/plain": [
       "Year of Release\n",
       "1920     76.000000\n",
       "1921     68.000000\n",
       "1922     94.000000\n",
       "1924     45.000000\n",
       "1925     85.000000\n",
       "           ...    \n",
       "2019    135.115385\n",
       "2020    119.666667\n",
       "2021    147.090909\n",
       "2022    141.833333\n",
       "2023    160.400000\n",
       "Name: Watch Time, Length: 102, dtype: float64"
      ]
     },
     "execution_count": 12,
     "metadata": {},
     "output_type": "execute_result"
    }
   ],
   "source": [
    "df.groupby('Year of Release')['Watch Time'].mean()"
   ]
  },
  {
   "cell_type": "code",
   "execution_count": 51,
   "id": "b00ba8c5",
   "metadata": {},
   "outputs": [
    {
     "data": {
      "text/plain": [
       "Year of Release\n",
       "1920    8.000000\n",
       "1921    8.300000\n",
       "1922    7.900000\n",
       "1924    8.200000\n",
       "1925    8.000000\n",
       "          ...   \n",
       "2019    8.034615\n",
       "2020    8.088889\n",
       "2021    8.109091\n",
       "2022    8.072222\n",
       "2023    8.300000\n",
       "Name: Movie Rating, Length: 102, dtype: float64"
      ]
     },
     "execution_count": 51,
     "metadata": {},
     "output_type": "execute_result"
    }
   ],
   "source": [
    "df.groupby('Year of Release')['Movie Rating'].mean()"
   ]
  },
  {
   "cell_type": "code",
   "execution_count": 53,
   "id": "fcfa5d3c",
   "metadata": {},
   "outputs": [
    {
     "data": {
      "text/plain": [
       "Year of Release\n",
       "1920          NaN\n",
       "1921          NaN\n",
       "1922          NaN\n",
       "1924          NaN\n",
       "1925    97.000000\n",
       "          ...    \n",
       "2019    77.789474\n",
       "2020    83.875000\n",
       "2021    73.285714\n",
       "2022    77.454545\n",
       "2023    79.400000\n",
       "Name: Metascore of movie, Length: 102, dtype: float64"
      ]
     },
     "execution_count": 53,
     "metadata": {},
     "output_type": "execute_result"
    }
   ],
   "source": [
    "df.groupby('Year of Release')['Metascore of movie'].mean()"
   ]
  },
  {
   "cell_type": "code",
   "execution_count": 54,
   "id": "60201f32",
   "metadata": {},
   "outputs": [
    {
     "ename": "TypeError",
     "evalue": "Could not convert 5.450.05 to numeric",
     "output_type": "error",
     "traceback": [
      "\u001b[0;31m---------------------------------------------------------------------------\u001b[0m",
      "\u001b[0;31mNotImplementedError\u001b[0m                       Traceback (most recent call last)",
      "File \u001b[0;32m~/anaconda3/lib/python3.10/site-packages/pandas/core/groupby/groupby.py:1791\u001b[0m, in \u001b[0;36mGroupBy._cython_agg_general.<locals>.array_func\u001b[0;34m(values)\u001b[0m\n\u001b[1;32m   1790\u001b[0m \u001b[38;5;28;01mtry\u001b[39;00m:\n\u001b[0;32m-> 1791\u001b[0m     result \u001b[38;5;241m=\u001b[39m \u001b[38;5;28;43mself\u001b[39;49m\u001b[38;5;241;43m.\u001b[39;49m\u001b[43mgrouper\u001b[49m\u001b[38;5;241;43m.\u001b[39;49m\u001b[43m_cython_operation\u001b[49m\u001b[43m(\u001b[49m\n\u001b[1;32m   1792\u001b[0m \u001b[43m        \u001b[49m\u001b[38;5;124;43m\"\u001b[39;49m\u001b[38;5;124;43maggregate\u001b[39;49m\u001b[38;5;124;43m\"\u001b[39;49m\u001b[43m,\u001b[49m\n\u001b[1;32m   1793\u001b[0m \u001b[43m        \u001b[49m\u001b[43mvalues\u001b[49m\u001b[43m,\u001b[49m\n\u001b[1;32m   1794\u001b[0m \u001b[43m        \u001b[49m\u001b[43mhow\u001b[49m\u001b[43m,\u001b[49m\n\u001b[1;32m   1795\u001b[0m \u001b[43m        \u001b[49m\u001b[43maxis\u001b[49m\u001b[38;5;241;43m=\u001b[39;49m\u001b[43mdata\u001b[49m\u001b[38;5;241;43m.\u001b[39;49m\u001b[43mndim\u001b[49m\u001b[43m \u001b[49m\u001b[38;5;241;43m-\u001b[39;49m\u001b[43m \u001b[49m\u001b[38;5;241;43m1\u001b[39;49m\u001b[43m,\u001b[49m\n\u001b[1;32m   1796\u001b[0m \u001b[43m        \u001b[49m\u001b[43mmin_count\u001b[49m\u001b[38;5;241;43m=\u001b[39;49m\u001b[43mmin_count\u001b[49m\u001b[43m,\u001b[49m\n\u001b[1;32m   1797\u001b[0m \u001b[43m        \u001b[49m\u001b[38;5;241;43m*\u001b[39;49m\u001b[38;5;241;43m*\u001b[39;49m\u001b[43mkwargs\u001b[49m\u001b[43m,\u001b[49m\n\u001b[1;32m   1798\u001b[0m \u001b[43m    \u001b[49m\u001b[43m)\u001b[49m\n\u001b[1;32m   1799\u001b[0m \u001b[38;5;28;01mexcept\u001b[39;00m \u001b[38;5;167;01mNotImplementedError\u001b[39;00m:\n\u001b[1;32m   1800\u001b[0m     \u001b[38;5;66;03m# generally if we have numeric_only=False\u001b[39;00m\n\u001b[1;32m   1801\u001b[0m     \u001b[38;5;66;03m# and non-applicable functions\u001b[39;00m\n\u001b[1;32m   1802\u001b[0m     \u001b[38;5;66;03m# try to python agg\u001b[39;00m\n\u001b[1;32m   1803\u001b[0m     \u001b[38;5;66;03m# TODO: shouldn't min_count matter?\u001b[39;00m\n",
      "File \u001b[0;32m~/anaconda3/lib/python3.10/site-packages/pandas/core/groupby/ops.py:1039\u001b[0m, in \u001b[0;36mBaseGrouper._cython_operation\u001b[0;34m(self, kind, values, how, axis, min_count, **kwargs)\u001b[0m\n\u001b[1;32m   1038\u001b[0m ngroups \u001b[38;5;241m=\u001b[39m \u001b[38;5;28mself\u001b[39m\u001b[38;5;241m.\u001b[39mngroups\n\u001b[0;32m-> 1039\u001b[0m \u001b[38;5;28;01mreturn\u001b[39;00m \u001b[43mcy_op\u001b[49m\u001b[38;5;241;43m.\u001b[39;49m\u001b[43mcython_operation\u001b[49m\u001b[43m(\u001b[49m\n\u001b[1;32m   1040\u001b[0m \u001b[43m    \u001b[49m\u001b[43mvalues\u001b[49m\u001b[38;5;241;43m=\u001b[39;49m\u001b[43mvalues\u001b[49m\u001b[43m,\u001b[49m\n\u001b[1;32m   1041\u001b[0m \u001b[43m    \u001b[49m\u001b[43maxis\u001b[49m\u001b[38;5;241;43m=\u001b[39;49m\u001b[43maxis\u001b[49m\u001b[43m,\u001b[49m\n\u001b[1;32m   1042\u001b[0m \u001b[43m    \u001b[49m\u001b[43mmin_count\u001b[49m\u001b[38;5;241;43m=\u001b[39;49m\u001b[43mmin_count\u001b[49m\u001b[43m,\u001b[49m\n\u001b[1;32m   1043\u001b[0m \u001b[43m    \u001b[49m\u001b[43mcomp_ids\u001b[49m\u001b[38;5;241;43m=\u001b[39;49m\u001b[43mids\u001b[49m\u001b[43m,\u001b[49m\n\u001b[1;32m   1044\u001b[0m \u001b[43m    \u001b[49m\u001b[43mngroups\u001b[49m\u001b[38;5;241;43m=\u001b[39;49m\u001b[43mngroups\u001b[49m\u001b[43m,\u001b[49m\n\u001b[1;32m   1045\u001b[0m \u001b[43m    \u001b[49m\u001b[38;5;241;43m*\u001b[39;49m\u001b[38;5;241;43m*\u001b[39;49m\u001b[43mkwargs\u001b[49m\u001b[43m,\u001b[49m\n\u001b[1;32m   1046\u001b[0m \u001b[43m\u001b[49m\u001b[43m)\u001b[49m\n",
      "File \u001b[0;32m~/anaconda3/lib/python3.10/site-packages/pandas/core/groupby/ops.py:708\u001b[0m, in \u001b[0;36mWrappedCythonOp.cython_operation\u001b[0;34m(self, values, axis, min_count, comp_ids, ngroups, **kwargs)\u001b[0m\n\u001b[1;32m    700\u001b[0m     \u001b[38;5;28;01mreturn\u001b[39;00m \u001b[38;5;28mself\u001b[39m\u001b[38;5;241m.\u001b[39m_ea_wrap_cython_operation(\n\u001b[1;32m    701\u001b[0m         values,\n\u001b[1;32m    702\u001b[0m         min_count\u001b[38;5;241m=\u001b[39mmin_count,\n\u001b[0;32m   (...)\u001b[0m\n\u001b[1;32m    705\u001b[0m         \u001b[38;5;241m*\u001b[39m\u001b[38;5;241m*\u001b[39mkwargs,\n\u001b[1;32m    706\u001b[0m     )\n\u001b[0;32m--> 708\u001b[0m \u001b[38;5;28;01mreturn\u001b[39;00m \u001b[38;5;28;43mself\u001b[39;49m\u001b[38;5;241;43m.\u001b[39;49m\u001b[43m_cython_op_ndim_compat\u001b[49m\u001b[43m(\u001b[49m\n\u001b[1;32m    709\u001b[0m \u001b[43m    \u001b[49m\u001b[43mvalues\u001b[49m\u001b[43m,\u001b[49m\n\u001b[1;32m    710\u001b[0m \u001b[43m    \u001b[49m\u001b[43mmin_count\u001b[49m\u001b[38;5;241;43m=\u001b[39;49m\u001b[43mmin_count\u001b[49m\u001b[43m,\u001b[49m\n\u001b[1;32m    711\u001b[0m \u001b[43m    \u001b[49m\u001b[43mngroups\u001b[49m\u001b[38;5;241;43m=\u001b[39;49m\u001b[43mngroups\u001b[49m\u001b[43m,\u001b[49m\n\u001b[1;32m    712\u001b[0m \u001b[43m    \u001b[49m\u001b[43mcomp_ids\u001b[49m\u001b[38;5;241;43m=\u001b[39;49m\u001b[43mcomp_ids\u001b[49m\u001b[43m,\u001b[49m\n\u001b[1;32m    713\u001b[0m \u001b[43m    \u001b[49m\u001b[43mmask\u001b[49m\u001b[38;5;241;43m=\u001b[39;49m\u001b[38;5;28;43;01mNone\u001b[39;49;00m\u001b[43m,\u001b[49m\n\u001b[1;32m    714\u001b[0m \u001b[43m    \u001b[49m\u001b[38;5;241;43m*\u001b[39;49m\u001b[38;5;241;43m*\u001b[39;49m\u001b[43mkwargs\u001b[49m\u001b[43m,\u001b[49m\n\u001b[1;32m    715\u001b[0m \u001b[43m\u001b[49m\u001b[43m)\u001b[49m\n",
      "File \u001b[0;32m~/anaconda3/lib/python3.10/site-packages/pandas/core/groupby/ops.py:512\u001b[0m, in \u001b[0;36mWrappedCythonOp._cython_op_ndim_compat\u001b[0;34m(self, values, min_count, ngroups, comp_ids, mask, result_mask, **kwargs)\u001b[0m\n\u001b[1;32m    511\u001b[0m     result_mask \u001b[38;5;241m=\u001b[39m result_mask[\u001b[38;5;28;01mNone\u001b[39;00m, :]\n\u001b[0;32m--> 512\u001b[0m res \u001b[38;5;241m=\u001b[39m \u001b[38;5;28;43mself\u001b[39;49m\u001b[38;5;241;43m.\u001b[39;49m\u001b[43m_call_cython_op\u001b[49m\u001b[43m(\u001b[49m\n\u001b[1;32m    513\u001b[0m \u001b[43m    \u001b[49m\u001b[43mvalues2d\u001b[49m\u001b[43m,\u001b[49m\n\u001b[1;32m    514\u001b[0m \u001b[43m    \u001b[49m\u001b[43mmin_count\u001b[49m\u001b[38;5;241;43m=\u001b[39;49m\u001b[43mmin_count\u001b[49m\u001b[43m,\u001b[49m\n\u001b[1;32m    515\u001b[0m \u001b[43m    \u001b[49m\u001b[43mngroups\u001b[49m\u001b[38;5;241;43m=\u001b[39;49m\u001b[43mngroups\u001b[49m\u001b[43m,\u001b[49m\n\u001b[1;32m    516\u001b[0m \u001b[43m    \u001b[49m\u001b[43mcomp_ids\u001b[49m\u001b[38;5;241;43m=\u001b[39;49m\u001b[43mcomp_ids\u001b[49m\u001b[43m,\u001b[49m\n\u001b[1;32m    517\u001b[0m \u001b[43m    \u001b[49m\u001b[43mmask\u001b[49m\u001b[38;5;241;43m=\u001b[39;49m\u001b[43mmask\u001b[49m\u001b[43m,\u001b[49m\n\u001b[1;32m    518\u001b[0m \u001b[43m    \u001b[49m\u001b[43mresult_mask\u001b[49m\u001b[38;5;241;43m=\u001b[39;49m\u001b[43mresult_mask\u001b[49m\u001b[43m,\u001b[49m\n\u001b[1;32m    519\u001b[0m \u001b[43m    \u001b[49m\u001b[38;5;241;43m*\u001b[39;49m\u001b[38;5;241;43m*\u001b[39;49m\u001b[43mkwargs\u001b[49m\u001b[43m,\u001b[49m\n\u001b[1;32m    520\u001b[0m \u001b[43m\u001b[49m\u001b[43m)\u001b[49m\n\u001b[1;32m    521\u001b[0m \u001b[38;5;28;01mif\u001b[39;00m res\u001b[38;5;241m.\u001b[39mshape[\u001b[38;5;241m0\u001b[39m] \u001b[38;5;241m==\u001b[39m \u001b[38;5;241m1\u001b[39m:\n",
      "File \u001b[0;32m~/anaconda3/lib/python3.10/site-packages/pandas/core/groupby/ops.py:571\u001b[0m, in \u001b[0;36mWrappedCythonOp._call_cython_op\u001b[0;34m(self, values, min_count, ngroups, comp_ids, mask, result_mask, **kwargs)\u001b[0m\n\u001b[1;32m    570\u001b[0m out_shape \u001b[38;5;241m=\u001b[39m \u001b[38;5;28mself\u001b[39m\u001b[38;5;241m.\u001b[39m_get_output_shape(ngroups, values)\n\u001b[0;32m--> 571\u001b[0m func \u001b[38;5;241m=\u001b[39m \u001b[38;5;28;43mself\u001b[39;49m\u001b[38;5;241;43m.\u001b[39;49m\u001b[43m_get_cython_function\u001b[49m\u001b[43m(\u001b[49m\u001b[38;5;28;43mself\u001b[39;49m\u001b[38;5;241;43m.\u001b[39;49m\u001b[43mkind\u001b[49m\u001b[43m,\u001b[49m\u001b[43m \u001b[49m\u001b[38;5;28;43mself\u001b[39;49m\u001b[38;5;241;43m.\u001b[39;49m\u001b[43mhow\u001b[49m\u001b[43m,\u001b[49m\u001b[43m \u001b[49m\u001b[43mvalues\u001b[49m\u001b[38;5;241;43m.\u001b[39;49m\u001b[43mdtype\u001b[49m\u001b[43m,\u001b[49m\u001b[43m \u001b[49m\u001b[43mis_numeric\u001b[49m\u001b[43m)\u001b[49m\n\u001b[1;32m    572\u001b[0m values \u001b[38;5;241m=\u001b[39m \u001b[38;5;28mself\u001b[39m\u001b[38;5;241m.\u001b[39m_get_cython_vals(values)\n",
      "File \u001b[0;32m~/anaconda3/lib/python3.10/site-packages/pandas/core/groupby/ops.py:192\u001b[0m, in \u001b[0;36mWrappedCythonOp._get_cython_function\u001b[0;34m(cls, kind, how, dtype, is_numeric)\u001b[0m\n\u001b[1;32m    190\u001b[0m \u001b[38;5;28;01melif\u001b[39;00m \u001b[38;5;124m\"\u001b[39m\u001b[38;5;124mobject\u001b[39m\u001b[38;5;124m\"\u001b[39m \u001b[38;5;129;01mnot\u001b[39;00m \u001b[38;5;129;01min\u001b[39;00m f\u001b[38;5;241m.\u001b[39m__signatures__:\n\u001b[1;32m    191\u001b[0m     \u001b[38;5;66;03m# raise NotImplementedError here rather than TypeError later\u001b[39;00m\n\u001b[0;32m--> 192\u001b[0m     \u001b[38;5;28;01mraise\u001b[39;00m \u001b[38;5;167;01mNotImplementedError\u001b[39;00m(\n\u001b[1;32m    193\u001b[0m         \u001b[38;5;124mf\u001b[39m\u001b[38;5;124m\"\u001b[39m\u001b[38;5;124mfunction is not implemented for this dtype: \u001b[39m\u001b[38;5;124m\"\u001b[39m\n\u001b[1;32m    194\u001b[0m         \u001b[38;5;124mf\u001b[39m\u001b[38;5;124m\"\u001b[39m\u001b[38;5;124m[how->\u001b[39m\u001b[38;5;132;01m{\u001b[39;00mhow\u001b[38;5;132;01m}\u001b[39;00m\u001b[38;5;124m,dtype->\u001b[39m\u001b[38;5;132;01m{\u001b[39;00mdtype_str\u001b[38;5;132;01m}\u001b[39;00m\u001b[38;5;124m]\u001b[39m\u001b[38;5;124m\"\u001b[39m\n\u001b[1;32m    195\u001b[0m     )\n\u001b[1;32m    196\u001b[0m \u001b[38;5;28;01mreturn\u001b[39;00m f\n",
      "\u001b[0;31mNotImplementedError\u001b[0m: function is not implemented for this dtype: [how->mean,dtype->object]",
      "\nDuring handling of the above exception, another exception occurred:\n",
      "\u001b[0;31mValueError\u001b[0m                                Traceback (most recent call last)",
      "File \u001b[0;32m~/anaconda3/lib/python3.10/site-packages/pandas/core/nanops.py:1630\u001b[0m, in \u001b[0;36m_ensure_numeric\u001b[0;34m(x)\u001b[0m\n\u001b[1;32m   1629\u001b[0m \u001b[38;5;28;01mtry\u001b[39;00m:\n\u001b[0;32m-> 1630\u001b[0m     x \u001b[38;5;241m=\u001b[39m \u001b[38;5;28;43mfloat\u001b[39;49m\u001b[43m(\u001b[49m\u001b[43mx\u001b[49m\u001b[43m)\u001b[49m\n\u001b[1;32m   1631\u001b[0m \u001b[38;5;28;01mexcept\u001b[39;00m (\u001b[38;5;167;01mTypeError\u001b[39;00m, \u001b[38;5;167;01mValueError\u001b[39;00m):\n\u001b[1;32m   1632\u001b[0m     \u001b[38;5;66;03m# e.g. \"1+1j\" or \"foo\"\u001b[39;00m\n",
      "\u001b[0;31mValueError\u001b[0m: could not convert string to float: '5.450.05'",
      "\nDuring handling of the above exception, another exception occurred:\n",
      "\u001b[0;31mValueError\u001b[0m                                Traceback (most recent call last)",
      "File \u001b[0;32m~/anaconda3/lib/python3.10/site-packages/pandas/core/nanops.py:1634\u001b[0m, in \u001b[0;36m_ensure_numeric\u001b[0;34m(x)\u001b[0m\n\u001b[1;32m   1633\u001b[0m \u001b[38;5;28;01mtry\u001b[39;00m:\n\u001b[0;32m-> 1634\u001b[0m     x \u001b[38;5;241m=\u001b[39m \u001b[38;5;28;43mcomplex\u001b[39;49m\u001b[43m(\u001b[49m\u001b[43mx\u001b[49m\u001b[43m)\u001b[49m\n\u001b[1;32m   1635\u001b[0m \u001b[38;5;28;01mexcept\u001b[39;00m \u001b[38;5;167;01mValueError\u001b[39;00m \u001b[38;5;28;01mas\u001b[39;00m err:\n\u001b[1;32m   1636\u001b[0m     \u001b[38;5;66;03m# e.g. \"foo\"\u001b[39;00m\n",
      "\u001b[0;31mValueError\u001b[0m: complex() arg is a malformed string",
      "\nThe above exception was the direct cause of the following exception:\n",
      "\u001b[0;31mTypeError\u001b[0m                                 Traceback (most recent call last)",
      "Cell \u001b[0;32mIn[54], line 1\u001b[0m\n\u001b[0;32m----> 1\u001b[0m \u001b[43mdf\u001b[49m\u001b[38;5;241;43m.\u001b[39;49m\u001b[43mgroupby\u001b[49m\u001b[43m(\u001b[49m\u001b[38;5;124;43m'\u001b[39;49m\u001b[38;5;124;43mYear of Release\u001b[39;49m\u001b[38;5;124;43m'\u001b[39;49m\u001b[43m)\u001b[49m\u001b[43m[\u001b[49m\u001b[38;5;124;43m'\u001b[39;49m\u001b[38;5;124;43mGross\u001b[39;49m\u001b[38;5;124;43m'\u001b[39;49m\u001b[43m]\u001b[49m\u001b[38;5;241;43m.\u001b[39;49m\u001b[43mmean\u001b[49m\u001b[43m(\u001b[49m\u001b[43m)\u001b[49m\n",
      "File \u001b[0;32m~/anaconda3/lib/python3.10/site-packages/pandas/core/groupby/groupby.py:2183\u001b[0m, in \u001b[0;36mGroupBy.mean\u001b[0;34m(self, numeric_only, engine, engine_kwargs)\u001b[0m\n\u001b[1;32m   2181\u001b[0m     \u001b[38;5;28;01mreturn\u001b[39;00m \u001b[38;5;28mself\u001b[39m\u001b[38;5;241m.\u001b[39m_numba_agg_general(sliding_mean, engine_kwargs)\n\u001b[1;32m   2182\u001b[0m \u001b[38;5;28;01melse\u001b[39;00m:\n\u001b[0;32m-> 2183\u001b[0m     result \u001b[38;5;241m=\u001b[39m \u001b[38;5;28;43mself\u001b[39;49m\u001b[38;5;241;43m.\u001b[39;49m\u001b[43m_cython_agg_general\u001b[49m\u001b[43m(\u001b[49m\n\u001b[1;32m   2184\u001b[0m \u001b[43m        \u001b[49m\u001b[38;5;124;43m\"\u001b[39;49m\u001b[38;5;124;43mmean\u001b[39;49m\u001b[38;5;124;43m\"\u001b[39;49m\u001b[43m,\u001b[49m\n\u001b[1;32m   2185\u001b[0m \u001b[43m        \u001b[49m\u001b[43malt\u001b[49m\u001b[38;5;241;43m=\u001b[39;49m\u001b[38;5;28;43;01mlambda\u001b[39;49;00m\u001b[43m \u001b[49m\u001b[43mx\u001b[49m\u001b[43m:\u001b[49m\u001b[43m \u001b[49m\u001b[43mSeries\u001b[49m\u001b[43m(\u001b[49m\u001b[43mx\u001b[49m\u001b[43m)\u001b[49m\u001b[38;5;241;43m.\u001b[39;49m\u001b[43mmean\u001b[49m\u001b[43m(\u001b[49m\u001b[43mnumeric_only\u001b[49m\u001b[38;5;241;43m=\u001b[39;49m\u001b[43mnumeric_only_bool\u001b[49m\u001b[43m)\u001b[49m\u001b[43m,\u001b[49m\n\u001b[1;32m   2186\u001b[0m \u001b[43m        \u001b[49m\u001b[43mnumeric_only\u001b[49m\u001b[38;5;241;43m=\u001b[39;49m\u001b[43mnumeric_only\u001b[49m\u001b[43m,\u001b[49m\n\u001b[1;32m   2187\u001b[0m \u001b[43m    \u001b[49m\u001b[43m)\u001b[49m\n\u001b[1;32m   2188\u001b[0m     \u001b[38;5;28;01mreturn\u001b[39;00m result\u001b[38;5;241m.\u001b[39m__finalize__(\u001b[38;5;28mself\u001b[39m\u001b[38;5;241m.\u001b[39mobj, method\u001b[38;5;241m=\u001b[39m\u001b[38;5;124m\"\u001b[39m\u001b[38;5;124mgroupby\u001b[39m\u001b[38;5;124m\"\u001b[39m)\n",
      "File \u001b[0;32m~/anaconda3/lib/python3.10/site-packages/pandas/core/groupby/groupby.py:1810\u001b[0m, in \u001b[0;36mGroupBy._cython_agg_general\u001b[0;34m(self, how, alt, numeric_only, min_count, ignore_failures, **kwargs)\u001b[0m\n\u001b[1;32m   1806\u001b[0m     \u001b[38;5;28;01mreturn\u001b[39;00m result\n\u001b[1;32m   1808\u001b[0m \u001b[38;5;66;03m# TypeError -> we may have an exception in trying to aggregate\u001b[39;00m\n\u001b[1;32m   1809\u001b[0m \u001b[38;5;66;03m#  continue and exclude the block\u001b[39;00m\n\u001b[0;32m-> 1810\u001b[0m new_mgr \u001b[38;5;241m=\u001b[39m \u001b[43mdata\u001b[49m\u001b[38;5;241;43m.\u001b[39;49m\u001b[43mgrouped_reduce\u001b[49m\u001b[43m(\u001b[49m\u001b[43marray_func\u001b[49m\u001b[43m,\u001b[49m\u001b[43m \u001b[49m\u001b[43mignore_failures\u001b[49m\u001b[38;5;241;43m=\u001b[39;49m\u001b[43mignore_failures\u001b[49m\u001b[43m)\u001b[49m\n\u001b[1;32m   1812\u001b[0m \u001b[38;5;28;01mif\u001b[39;00m \u001b[38;5;129;01mnot\u001b[39;00m is_ser \u001b[38;5;129;01mand\u001b[39;00m \u001b[38;5;28mlen\u001b[39m(new_mgr) \u001b[38;5;241m<\u001b[39m orig_len:\n\u001b[1;32m   1813\u001b[0m     warn_dropping_nuisance_columns_deprecated(\u001b[38;5;28mtype\u001b[39m(\u001b[38;5;28mself\u001b[39m), how, numeric_only)\n",
      "File \u001b[0;32m~/anaconda3/lib/python3.10/site-packages/pandas/core/internals/base.py:199\u001b[0m, in \u001b[0;36mSingleDataManager.grouped_reduce\u001b[0;34m(self, func, ignore_failures)\u001b[0m\n\u001b[1;32m    193\u001b[0m \u001b[38;5;124;03m\"\"\"\u001b[39;00m\n\u001b[1;32m    194\u001b[0m \u001b[38;5;124;03mignore_failures : bool, default False\u001b[39;00m\n\u001b[1;32m    195\u001b[0m \u001b[38;5;124;03m    Not used; for compatibility with ArrayManager/BlockManager.\u001b[39;00m\n\u001b[1;32m    196\u001b[0m \u001b[38;5;124;03m\"\"\"\u001b[39;00m\n\u001b[1;32m    198\u001b[0m arr \u001b[38;5;241m=\u001b[39m \u001b[38;5;28mself\u001b[39m\u001b[38;5;241m.\u001b[39marray\n\u001b[0;32m--> 199\u001b[0m res \u001b[38;5;241m=\u001b[39m \u001b[43mfunc\u001b[49m\u001b[43m(\u001b[49m\u001b[43marr\u001b[49m\u001b[43m)\u001b[49m\n\u001b[1;32m    200\u001b[0m index \u001b[38;5;241m=\u001b[39m default_index(\u001b[38;5;28mlen\u001b[39m(res))\n\u001b[1;32m    202\u001b[0m mgr \u001b[38;5;241m=\u001b[39m \u001b[38;5;28mtype\u001b[39m(\u001b[38;5;28mself\u001b[39m)\u001b[38;5;241m.\u001b[39mfrom_array(res, index)\n",
      "File \u001b[0;32m~/anaconda3/lib/python3.10/site-packages/pandas/core/groupby/groupby.py:1804\u001b[0m, in \u001b[0;36mGroupBy._cython_agg_general.<locals>.array_func\u001b[0;34m(values)\u001b[0m\n\u001b[1;32m   1791\u001b[0m     result \u001b[38;5;241m=\u001b[39m \u001b[38;5;28mself\u001b[39m\u001b[38;5;241m.\u001b[39mgrouper\u001b[38;5;241m.\u001b[39m_cython_operation(\n\u001b[1;32m   1792\u001b[0m         \u001b[38;5;124m\"\u001b[39m\u001b[38;5;124maggregate\u001b[39m\u001b[38;5;124m\"\u001b[39m,\n\u001b[1;32m   1793\u001b[0m         values,\n\u001b[0;32m   (...)\u001b[0m\n\u001b[1;32m   1797\u001b[0m         \u001b[38;5;241m*\u001b[39m\u001b[38;5;241m*\u001b[39mkwargs,\n\u001b[1;32m   1798\u001b[0m     )\n\u001b[1;32m   1799\u001b[0m \u001b[38;5;28;01mexcept\u001b[39;00m \u001b[38;5;167;01mNotImplementedError\u001b[39;00m:\n\u001b[1;32m   1800\u001b[0m     \u001b[38;5;66;03m# generally if we have numeric_only=False\u001b[39;00m\n\u001b[1;32m   1801\u001b[0m     \u001b[38;5;66;03m# and non-applicable functions\u001b[39;00m\n\u001b[1;32m   1802\u001b[0m     \u001b[38;5;66;03m# try to python agg\u001b[39;00m\n\u001b[1;32m   1803\u001b[0m     \u001b[38;5;66;03m# TODO: shouldn't min_count matter?\u001b[39;00m\n\u001b[0;32m-> 1804\u001b[0m     result \u001b[38;5;241m=\u001b[39m \u001b[38;5;28;43mself\u001b[39;49m\u001b[38;5;241;43m.\u001b[39;49m\u001b[43m_agg_py_fallback\u001b[49m\u001b[43m(\u001b[49m\u001b[43mvalues\u001b[49m\u001b[43m,\u001b[49m\u001b[43m \u001b[49m\u001b[43mndim\u001b[49m\u001b[38;5;241;43m=\u001b[39;49m\u001b[43mdata\u001b[49m\u001b[38;5;241;43m.\u001b[39;49m\u001b[43mndim\u001b[49m\u001b[43m,\u001b[49m\u001b[43m \u001b[49m\u001b[43malt\u001b[49m\u001b[38;5;241;43m=\u001b[39;49m\u001b[43malt\u001b[49m\u001b[43m)\u001b[49m\n\u001b[1;32m   1806\u001b[0m \u001b[38;5;28;01mreturn\u001b[39;00m result\n",
      "File \u001b[0;32m~/anaconda3/lib/python3.10/site-packages/pandas/core/groupby/groupby.py:1745\u001b[0m, in \u001b[0;36mGroupBy._agg_py_fallback\u001b[0;34m(self, values, ndim, alt)\u001b[0m\n\u001b[1;32m   1740\u001b[0m     ser \u001b[38;5;241m=\u001b[39m df\u001b[38;5;241m.\u001b[39miloc[:, \u001b[38;5;241m0\u001b[39m]\n\u001b[1;32m   1742\u001b[0m \u001b[38;5;66;03m# We do not get here with UDFs, so we know that our dtype\u001b[39;00m\n\u001b[1;32m   1743\u001b[0m \u001b[38;5;66;03m#  should always be preserved by the implemented aggregations\u001b[39;00m\n\u001b[1;32m   1744\u001b[0m \u001b[38;5;66;03m# TODO: Is this exactly right; see WrappedCythonOp get_result_dtype?\u001b[39;00m\n\u001b[0;32m-> 1745\u001b[0m res_values \u001b[38;5;241m=\u001b[39m \u001b[38;5;28;43mself\u001b[39;49m\u001b[38;5;241;43m.\u001b[39;49m\u001b[43mgrouper\u001b[49m\u001b[38;5;241;43m.\u001b[39;49m\u001b[43magg_series\u001b[49m\u001b[43m(\u001b[49m\u001b[43mser\u001b[49m\u001b[43m,\u001b[49m\u001b[43m \u001b[49m\u001b[43malt\u001b[49m\u001b[43m,\u001b[49m\u001b[43m \u001b[49m\u001b[43mpreserve_dtype\u001b[49m\u001b[38;5;241;43m=\u001b[39;49m\u001b[38;5;28;43;01mTrue\u001b[39;49;00m\u001b[43m)\u001b[49m\n\u001b[1;32m   1747\u001b[0m \u001b[38;5;28;01mif\u001b[39;00m \u001b[38;5;28misinstance\u001b[39m(values, Categorical):\n\u001b[1;32m   1748\u001b[0m     \u001b[38;5;66;03m# Because we only get here with known dtype-preserving\u001b[39;00m\n\u001b[1;32m   1749\u001b[0m     \u001b[38;5;66;03m#  reductions, we cast back to Categorical.\u001b[39;00m\n\u001b[1;32m   1750\u001b[0m     \u001b[38;5;66;03m# TODO: if we ever get \"rank\" working, exclude it here.\u001b[39;00m\n\u001b[1;32m   1751\u001b[0m     res_values \u001b[38;5;241m=\u001b[39m \u001b[38;5;28mtype\u001b[39m(values)\u001b[38;5;241m.\u001b[39m_from_sequence(res_values, dtype\u001b[38;5;241m=\u001b[39mvalues\u001b[38;5;241m.\u001b[39mdtype)\n",
      "File \u001b[0;32m~/anaconda3/lib/python3.10/site-packages/pandas/core/groupby/ops.py:1081\u001b[0m, in \u001b[0;36mBaseGrouper.agg_series\u001b[0;34m(self, obj, func, preserve_dtype)\u001b[0m\n\u001b[1;32m   1078\u001b[0m     preserve_dtype \u001b[38;5;241m=\u001b[39m \u001b[38;5;28;01mTrue\u001b[39;00m\n\u001b[1;32m   1080\u001b[0m \u001b[38;5;28;01melse\u001b[39;00m:\n\u001b[0;32m-> 1081\u001b[0m     result \u001b[38;5;241m=\u001b[39m \u001b[38;5;28;43mself\u001b[39;49m\u001b[38;5;241;43m.\u001b[39;49m\u001b[43m_aggregate_series_pure_python\u001b[49m\u001b[43m(\u001b[49m\u001b[43mobj\u001b[49m\u001b[43m,\u001b[49m\u001b[43m \u001b[49m\u001b[43mfunc\u001b[49m\u001b[43m)\u001b[49m\n\u001b[1;32m   1083\u001b[0m npvalues \u001b[38;5;241m=\u001b[39m lib\u001b[38;5;241m.\u001b[39mmaybe_convert_objects(result, try_float\u001b[38;5;241m=\u001b[39m\u001b[38;5;28;01mFalse\u001b[39;00m)\n\u001b[1;32m   1084\u001b[0m \u001b[38;5;28;01mif\u001b[39;00m preserve_dtype:\n",
      "File \u001b[0;32m~/anaconda3/lib/python3.10/site-packages/pandas/core/groupby/ops.py:1104\u001b[0m, in \u001b[0;36mBaseGrouper._aggregate_series_pure_python\u001b[0;34m(self, obj, func)\u001b[0m\n\u001b[1;32m   1101\u001b[0m splitter \u001b[38;5;241m=\u001b[39m get_splitter(obj, ids, ngroups, axis\u001b[38;5;241m=\u001b[39m\u001b[38;5;241m0\u001b[39m)\n\u001b[1;32m   1103\u001b[0m \u001b[38;5;28;01mfor\u001b[39;00m i, group \u001b[38;5;129;01min\u001b[39;00m \u001b[38;5;28menumerate\u001b[39m(splitter):\n\u001b[0;32m-> 1104\u001b[0m     res \u001b[38;5;241m=\u001b[39m \u001b[43mfunc\u001b[49m\u001b[43m(\u001b[49m\u001b[43mgroup\u001b[49m\u001b[43m)\u001b[49m\n\u001b[1;32m   1105\u001b[0m     res \u001b[38;5;241m=\u001b[39m libreduction\u001b[38;5;241m.\u001b[39mextract_result(res)\n\u001b[1;32m   1107\u001b[0m     \u001b[38;5;28;01mif\u001b[39;00m \u001b[38;5;129;01mnot\u001b[39;00m initialized:\n\u001b[1;32m   1108\u001b[0m         \u001b[38;5;66;03m# We only do this validation on the first iteration\u001b[39;00m\n",
      "File \u001b[0;32m~/anaconda3/lib/python3.10/site-packages/pandas/core/groupby/groupby.py:2185\u001b[0m, in \u001b[0;36mGroupBy.mean.<locals>.<lambda>\u001b[0;34m(x)\u001b[0m\n\u001b[1;32m   2181\u001b[0m     \u001b[38;5;28;01mreturn\u001b[39;00m \u001b[38;5;28mself\u001b[39m\u001b[38;5;241m.\u001b[39m_numba_agg_general(sliding_mean, engine_kwargs)\n\u001b[1;32m   2182\u001b[0m \u001b[38;5;28;01melse\u001b[39;00m:\n\u001b[1;32m   2183\u001b[0m     result \u001b[38;5;241m=\u001b[39m \u001b[38;5;28mself\u001b[39m\u001b[38;5;241m.\u001b[39m_cython_agg_general(\n\u001b[1;32m   2184\u001b[0m         \u001b[38;5;124m\"\u001b[39m\u001b[38;5;124mmean\u001b[39m\u001b[38;5;124m\"\u001b[39m,\n\u001b[0;32m-> 2185\u001b[0m         alt\u001b[38;5;241m=\u001b[39m\u001b[38;5;28;01mlambda\u001b[39;00m x: \u001b[43mSeries\u001b[49m\u001b[43m(\u001b[49m\u001b[43mx\u001b[49m\u001b[43m)\u001b[49m\u001b[38;5;241;43m.\u001b[39;49m\u001b[43mmean\u001b[49m\u001b[43m(\u001b[49m\u001b[43mnumeric_only\u001b[49m\u001b[38;5;241;43m=\u001b[39;49m\u001b[43mnumeric_only_bool\u001b[49m\u001b[43m)\u001b[49m,\n\u001b[1;32m   2186\u001b[0m         numeric_only\u001b[38;5;241m=\u001b[39mnumeric_only,\n\u001b[1;32m   2187\u001b[0m     )\n\u001b[1;32m   2188\u001b[0m     \u001b[38;5;28;01mreturn\u001b[39;00m result\u001b[38;5;241m.\u001b[39m__finalize__(\u001b[38;5;28mself\u001b[39m\u001b[38;5;241m.\u001b[39mobj, method\u001b[38;5;241m=\u001b[39m\u001b[38;5;124m\"\u001b[39m\u001b[38;5;124mgroupby\u001b[39m\u001b[38;5;124m\"\u001b[39m)\n",
      "File \u001b[0;32m~/anaconda3/lib/python3.10/site-packages/pandas/core/generic.py:11847\u001b[0m, in \u001b[0;36mNDFrame._add_numeric_operations.<locals>.mean\u001b[0;34m(self, axis, skipna, level, numeric_only, **kwargs)\u001b[0m\n\u001b[1;32m  11829\u001b[0m \u001b[38;5;129m@doc\u001b[39m(\n\u001b[1;32m  11830\u001b[0m     _num_doc,\n\u001b[1;32m  11831\u001b[0m     desc\u001b[38;5;241m=\u001b[39m\u001b[38;5;124m\"\u001b[39m\u001b[38;5;124mReturn the mean of the values over the requested axis.\u001b[39m\u001b[38;5;124m\"\u001b[39m,\n\u001b[0;32m   (...)\u001b[0m\n\u001b[1;32m  11845\u001b[0m     \u001b[38;5;241m*\u001b[39m\u001b[38;5;241m*\u001b[39mkwargs,\n\u001b[1;32m  11846\u001b[0m ):\n\u001b[0;32m> 11847\u001b[0m     \u001b[38;5;28;01mreturn\u001b[39;00m \u001b[43mNDFrame\u001b[49m\u001b[38;5;241;43m.\u001b[39;49m\u001b[43mmean\u001b[49m\u001b[43m(\u001b[49m\u001b[38;5;28;43mself\u001b[39;49m\u001b[43m,\u001b[49m\u001b[43m \u001b[49m\u001b[43maxis\u001b[49m\u001b[43m,\u001b[49m\u001b[43m \u001b[49m\u001b[43mskipna\u001b[49m\u001b[43m,\u001b[49m\u001b[43m \u001b[49m\u001b[43mlevel\u001b[49m\u001b[43m,\u001b[49m\u001b[43m \u001b[49m\u001b[43mnumeric_only\u001b[49m\u001b[43m,\u001b[49m\u001b[43m \u001b[49m\u001b[38;5;241;43m*\u001b[39;49m\u001b[38;5;241;43m*\u001b[39;49m\u001b[43mkwargs\u001b[49m\u001b[43m)\u001b[49m\n",
      "File \u001b[0;32m~/anaconda3/lib/python3.10/site-packages/pandas/core/generic.py:11401\u001b[0m, in \u001b[0;36mNDFrame.mean\u001b[0;34m(self, axis, skipna, level, numeric_only, **kwargs)\u001b[0m\n\u001b[1;32m  11393\u001b[0m \u001b[38;5;28;01mdef\u001b[39;00m \u001b[38;5;21mmean\u001b[39m(\n\u001b[1;32m  11394\u001b[0m     \u001b[38;5;28mself\u001b[39m,\n\u001b[1;32m  11395\u001b[0m     axis: Axis \u001b[38;5;241m|\u001b[39m \u001b[38;5;28;01mNone\u001b[39;00m \u001b[38;5;241m|\u001b[39m lib\u001b[38;5;241m.\u001b[39mNoDefault \u001b[38;5;241m=\u001b[39m lib\u001b[38;5;241m.\u001b[39mno_default,\n\u001b[0;32m   (...)\u001b[0m\n\u001b[1;32m  11399\u001b[0m     \u001b[38;5;241m*\u001b[39m\u001b[38;5;241m*\u001b[39mkwargs,\n\u001b[1;32m  11400\u001b[0m ) \u001b[38;5;241m-\u001b[39m\u001b[38;5;241m>\u001b[39m Series \u001b[38;5;241m|\u001b[39m \u001b[38;5;28mfloat\u001b[39m:\n\u001b[0;32m> 11401\u001b[0m     \u001b[38;5;28;01mreturn\u001b[39;00m \u001b[38;5;28;43mself\u001b[39;49m\u001b[38;5;241;43m.\u001b[39;49m\u001b[43m_stat_function\u001b[49m\u001b[43m(\u001b[49m\n\u001b[1;32m  11402\u001b[0m \u001b[43m        \u001b[49m\u001b[38;5;124;43m\"\u001b[39;49m\u001b[38;5;124;43mmean\u001b[39;49m\u001b[38;5;124;43m\"\u001b[39;49m\u001b[43m,\u001b[49m\u001b[43m \u001b[49m\u001b[43mnanops\u001b[49m\u001b[38;5;241;43m.\u001b[39;49m\u001b[43mnanmean\u001b[49m\u001b[43m,\u001b[49m\u001b[43m \u001b[49m\u001b[43maxis\u001b[49m\u001b[43m,\u001b[49m\u001b[43m \u001b[49m\u001b[43mskipna\u001b[49m\u001b[43m,\u001b[49m\u001b[43m \u001b[49m\u001b[43mlevel\u001b[49m\u001b[43m,\u001b[49m\u001b[43m \u001b[49m\u001b[43mnumeric_only\u001b[49m\u001b[43m,\u001b[49m\u001b[43m \u001b[49m\u001b[38;5;241;43m*\u001b[39;49m\u001b[38;5;241;43m*\u001b[39;49m\u001b[43mkwargs\u001b[49m\n\u001b[1;32m  11403\u001b[0m \u001b[43m    \u001b[49m\u001b[43m)\u001b[49m\n",
      "File \u001b[0;32m~/anaconda3/lib/python3.10/site-packages/pandas/core/generic.py:11353\u001b[0m, in \u001b[0;36mNDFrame._stat_function\u001b[0;34m(self, name, func, axis, skipna, level, numeric_only, **kwargs)\u001b[0m\n\u001b[1;32m  11343\u001b[0m     warnings\u001b[38;5;241m.\u001b[39mwarn(\n\u001b[1;32m  11344\u001b[0m         \u001b[38;5;124m\"\u001b[39m\u001b[38;5;124mUsing the level keyword in DataFrame and Series aggregations is \u001b[39m\u001b[38;5;124m\"\u001b[39m\n\u001b[1;32m  11345\u001b[0m         \u001b[38;5;124m\"\u001b[39m\u001b[38;5;124mdeprecated and will be removed in a future version. Use groupby \u001b[39m\u001b[38;5;124m\"\u001b[39m\n\u001b[0;32m   (...)\u001b[0m\n\u001b[1;32m  11348\u001b[0m         stacklevel\u001b[38;5;241m=\u001b[39mfind_stack_level(),\n\u001b[1;32m  11349\u001b[0m     )\n\u001b[1;32m  11350\u001b[0m     \u001b[38;5;28;01mreturn\u001b[39;00m \u001b[38;5;28mself\u001b[39m\u001b[38;5;241m.\u001b[39m_agg_by_level(\n\u001b[1;32m  11351\u001b[0m         name, axis\u001b[38;5;241m=\u001b[39maxis, level\u001b[38;5;241m=\u001b[39mlevel, skipna\u001b[38;5;241m=\u001b[39mskipna, numeric_only\u001b[38;5;241m=\u001b[39mnumeric_only\n\u001b[1;32m  11352\u001b[0m     )\n\u001b[0;32m> 11353\u001b[0m \u001b[38;5;28;01mreturn\u001b[39;00m \u001b[38;5;28;43mself\u001b[39;49m\u001b[38;5;241;43m.\u001b[39;49m\u001b[43m_reduce\u001b[49m\u001b[43m(\u001b[49m\n\u001b[1;32m  11354\u001b[0m \u001b[43m    \u001b[49m\u001b[43mfunc\u001b[49m\u001b[43m,\u001b[49m\u001b[43m \u001b[49m\u001b[43mname\u001b[49m\u001b[38;5;241;43m=\u001b[39;49m\u001b[43mname\u001b[49m\u001b[43m,\u001b[49m\u001b[43m \u001b[49m\u001b[43maxis\u001b[49m\u001b[38;5;241;43m=\u001b[39;49m\u001b[43maxis\u001b[49m\u001b[43m,\u001b[49m\u001b[43m \u001b[49m\u001b[43mskipna\u001b[49m\u001b[38;5;241;43m=\u001b[39;49m\u001b[43mskipna\u001b[49m\u001b[43m,\u001b[49m\u001b[43m \u001b[49m\u001b[43mnumeric_only\u001b[49m\u001b[38;5;241;43m=\u001b[39;49m\u001b[43mnumeric_only\u001b[49m\n\u001b[1;32m  11355\u001b[0m \u001b[43m\u001b[49m\u001b[43m)\u001b[49m\n",
      "File \u001b[0;32m~/anaconda3/lib/python3.10/site-packages/pandas/core/series.py:4816\u001b[0m, in \u001b[0;36mSeries._reduce\u001b[0;34m(self, op, name, axis, skipna, numeric_only, filter_type, **kwds)\u001b[0m\n\u001b[1;32m   4812\u001b[0m     \u001b[38;5;28;01mraise\u001b[39;00m \u001b[38;5;167;01mNotImplementedError\u001b[39;00m(\n\u001b[1;32m   4813\u001b[0m         \u001b[38;5;124mf\u001b[39m\u001b[38;5;124m\"\u001b[39m\u001b[38;5;124mSeries.\u001b[39m\u001b[38;5;132;01m{\u001b[39;00mname\u001b[38;5;132;01m}\u001b[39;00m\u001b[38;5;124m does not implement \u001b[39m\u001b[38;5;132;01m{\u001b[39;00mkwd_name\u001b[38;5;132;01m}\u001b[39;00m\u001b[38;5;124m.\u001b[39m\u001b[38;5;124m\"\u001b[39m\n\u001b[1;32m   4814\u001b[0m     )\n\u001b[1;32m   4815\u001b[0m \u001b[38;5;28;01mwith\u001b[39;00m np\u001b[38;5;241m.\u001b[39merrstate(\u001b[38;5;28mall\u001b[39m\u001b[38;5;241m=\u001b[39m\u001b[38;5;124m\"\u001b[39m\u001b[38;5;124mignore\u001b[39m\u001b[38;5;124m\"\u001b[39m):\n\u001b[0;32m-> 4816\u001b[0m     \u001b[38;5;28;01mreturn\u001b[39;00m \u001b[43mop\u001b[49m\u001b[43m(\u001b[49m\u001b[43mdelegate\u001b[49m\u001b[43m,\u001b[49m\u001b[43m \u001b[49m\u001b[43mskipna\u001b[49m\u001b[38;5;241;43m=\u001b[39;49m\u001b[43mskipna\u001b[49m\u001b[43m,\u001b[49m\u001b[43m \u001b[49m\u001b[38;5;241;43m*\u001b[39;49m\u001b[38;5;241;43m*\u001b[39;49m\u001b[43mkwds\u001b[49m\u001b[43m)\u001b[49m\n",
      "File \u001b[0;32m~/anaconda3/lib/python3.10/site-packages/pandas/core/nanops.py:93\u001b[0m, in \u001b[0;36mdisallow.__call__.<locals>._f\u001b[0;34m(*args, **kwargs)\u001b[0m\n\u001b[1;32m     91\u001b[0m \u001b[38;5;28;01mtry\u001b[39;00m:\n\u001b[1;32m     92\u001b[0m     \u001b[38;5;28;01mwith\u001b[39;00m np\u001b[38;5;241m.\u001b[39merrstate(invalid\u001b[38;5;241m=\u001b[39m\u001b[38;5;124m\"\u001b[39m\u001b[38;5;124mignore\u001b[39m\u001b[38;5;124m\"\u001b[39m):\n\u001b[0;32m---> 93\u001b[0m         \u001b[38;5;28;01mreturn\u001b[39;00m \u001b[43mf\u001b[49m\u001b[43m(\u001b[49m\u001b[38;5;241;43m*\u001b[39;49m\u001b[43margs\u001b[49m\u001b[43m,\u001b[49m\u001b[43m \u001b[49m\u001b[38;5;241;43m*\u001b[39;49m\u001b[38;5;241;43m*\u001b[39;49m\u001b[43mkwargs\u001b[49m\u001b[43m)\u001b[49m\n\u001b[1;32m     94\u001b[0m \u001b[38;5;28;01mexcept\u001b[39;00m \u001b[38;5;167;01mValueError\u001b[39;00m \u001b[38;5;28;01mas\u001b[39;00m e:\n\u001b[1;32m     95\u001b[0m     \u001b[38;5;66;03m# we want to transform an object array\u001b[39;00m\n\u001b[1;32m     96\u001b[0m     \u001b[38;5;66;03m# ValueError message to the more typical TypeError\u001b[39;00m\n\u001b[1;32m     97\u001b[0m     \u001b[38;5;66;03m# e.g. this is normally a disallowed function on\u001b[39;00m\n\u001b[1;32m     98\u001b[0m     \u001b[38;5;66;03m# object arrays that contain strings\u001b[39;00m\n\u001b[1;32m     99\u001b[0m     \u001b[38;5;28;01mif\u001b[39;00m is_object_dtype(args[\u001b[38;5;241m0\u001b[39m]):\n",
      "File \u001b[0;32m~/anaconda3/lib/python3.10/site-packages/pandas/core/nanops.py:155\u001b[0m, in \u001b[0;36mbottleneck_switch.__call__.<locals>.f\u001b[0;34m(values, axis, skipna, **kwds)\u001b[0m\n\u001b[1;32m    153\u001b[0m         result \u001b[38;5;241m=\u001b[39m alt(values, axis\u001b[38;5;241m=\u001b[39maxis, skipna\u001b[38;5;241m=\u001b[39mskipna, \u001b[38;5;241m*\u001b[39m\u001b[38;5;241m*\u001b[39mkwds)\n\u001b[1;32m    154\u001b[0m \u001b[38;5;28;01melse\u001b[39;00m:\n\u001b[0;32m--> 155\u001b[0m     result \u001b[38;5;241m=\u001b[39m \u001b[43malt\u001b[49m\u001b[43m(\u001b[49m\u001b[43mvalues\u001b[49m\u001b[43m,\u001b[49m\u001b[43m \u001b[49m\u001b[43maxis\u001b[49m\u001b[38;5;241;43m=\u001b[39;49m\u001b[43maxis\u001b[49m\u001b[43m,\u001b[49m\u001b[43m \u001b[49m\u001b[43mskipna\u001b[49m\u001b[38;5;241;43m=\u001b[39;49m\u001b[43mskipna\u001b[49m\u001b[43m,\u001b[49m\u001b[43m \u001b[49m\u001b[38;5;241;43m*\u001b[39;49m\u001b[38;5;241;43m*\u001b[39;49m\u001b[43mkwds\u001b[49m\u001b[43m)\u001b[49m\n\u001b[1;32m    157\u001b[0m \u001b[38;5;28;01mreturn\u001b[39;00m result\n",
      "File \u001b[0;32m~/anaconda3/lib/python3.10/site-packages/pandas/core/nanops.py:418\u001b[0m, in \u001b[0;36m_datetimelike_compat.<locals>.new_func\u001b[0;34m(values, axis, skipna, mask, **kwargs)\u001b[0m\n\u001b[1;32m    415\u001b[0m \u001b[38;5;28;01mif\u001b[39;00m datetimelike \u001b[38;5;129;01mand\u001b[39;00m mask \u001b[38;5;129;01mis\u001b[39;00m \u001b[38;5;28;01mNone\u001b[39;00m:\n\u001b[1;32m    416\u001b[0m     mask \u001b[38;5;241m=\u001b[39m isna(values)\n\u001b[0;32m--> 418\u001b[0m result \u001b[38;5;241m=\u001b[39m \u001b[43mfunc\u001b[49m\u001b[43m(\u001b[49m\u001b[43mvalues\u001b[49m\u001b[43m,\u001b[49m\u001b[43m \u001b[49m\u001b[43maxis\u001b[49m\u001b[38;5;241;43m=\u001b[39;49m\u001b[43maxis\u001b[49m\u001b[43m,\u001b[49m\u001b[43m \u001b[49m\u001b[43mskipna\u001b[49m\u001b[38;5;241;43m=\u001b[39;49m\u001b[43mskipna\u001b[49m\u001b[43m,\u001b[49m\u001b[43m \u001b[49m\u001b[43mmask\u001b[49m\u001b[38;5;241;43m=\u001b[39;49m\u001b[43mmask\u001b[49m\u001b[43m,\u001b[49m\u001b[43m \u001b[49m\u001b[38;5;241;43m*\u001b[39;49m\u001b[38;5;241;43m*\u001b[39;49m\u001b[43mkwargs\u001b[49m\u001b[43m)\u001b[49m\n\u001b[1;32m    420\u001b[0m \u001b[38;5;28;01mif\u001b[39;00m datetimelike:\n\u001b[1;32m    421\u001b[0m     result \u001b[38;5;241m=\u001b[39m _wrap_results(result, orig_values\u001b[38;5;241m.\u001b[39mdtype, fill_value\u001b[38;5;241m=\u001b[39miNaT)\n",
      "File \u001b[0;32m~/anaconda3/lib/python3.10/site-packages/pandas/core/nanops.py:706\u001b[0m, in \u001b[0;36mnanmean\u001b[0;34m(values, axis, skipna, mask)\u001b[0m\n\u001b[1;32m    703\u001b[0m     dtype_count \u001b[38;5;241m=\u001b[39m dtype\n\u001b[1;32m    705\u001b[0m count \u001b[38;5;241m=\u001b[39m _get_counts(values\u001b[38;5;241m.\u001b[39mshape, mask, axis, dtype\u001b[38;5;241m=\u001b[39mdtype_count)\n\u001b[0;32m--> 706\u001b[0m the_sum \u001b[38;5;241m=\u001b[39m \u001b[43m_ensure_numeric\u001b[49m\u001b[43m(\u001b[49m\u001b[43mvalues\u001b[49m\u001b[38;5;241;43m.\u001b[39;49m\u001b[43msum\u001b[49m\u001b[43m(\u001b[49m\u001b[43maxis\u001b[49m\u001b[43m,\u001b[49m\u001b[43m \u001b[49m\u001b[43mdtype\u001b[49m\u001b[38;5;241;43m=\u001b[39;49m\u001b[43mdtype_sum\u001b[49m\u001b[43m)\u001b[49m\u001b[43m)\u001b[49m\n\u001b[1;32m    708\u001b[0m \u001b[38;5;28;01mif\u001b[39;00m axis \u001b[38;5;129;01mis\u001b[39;00m \u001b[38;5;129;01mnot\u001b[39;00m \u001b[38;5;28;01mNone\u001b[39;00m \u001b[38;5;129;01mand\u001b[39;00m \u001b[38;5;28mgetattr\u001b[39m(the_sum, \u001b[38;5;124m\"\u001b[39m\u001b[38;5;124mndim\u001b[39m\u001b[38;5;124m\"\u001b[39m, \u001b[38;5;28;01mFalse\u001b[39;00m):\n\u001b[1;32m    709\u001b[0m     count \u001b[38;5;241m=\u001b[39m cast(np\u001b[38;5;241m.\u001b[39mndarray, count)\n",
      "File \u001b[0;32m~/anaconda3/lib/python3.10/site-packages/pandas/core/nanops.py:1637\u001b[0m, in \u001b[0;36m_ensure_numeric\u001b[0;34m(x)\u001b[0m\n\u001b[1;32m   1634\u001b[0m             x \u001b[38;5;241m=\u001b[39m \u001b[38;5;28mcomplex\u001b[39m(x)\n\u001b[1;32m   1635\u001b[0m         \u001b[38;5;28;01mexcept\u001b[39;00m \u001b[38;5;167;01mValueError\u001b[39;00m \u001b[38;5;28;01mas\u001b[39;00m err:\n\u001b[1;32m   1636\u001b[0m             \u001b[38;5;66;03m# e.g. \"foo\"\u001b[39;00m\n\u001b[0;32m-> 1637\u001b[0m             \u001b[38;5;28;01mraise\u001b[39;00m \u001b[38;5;167;01mTypeError\u001b[39;00m(\u001b[38;5;124mf\u001b[39m\u001b[38;5;124m\"\u001b[39m\u001b[38;5;124mCould not convert \u001b[39m\u001b[38;5;132;01m{\u001b[39;00mx\u001b[38;5;132;01m}\u001b[39;00m\u001b[38;5;124m to numeric\u001b[39m\u001b[38;5;124m\"\u001b[39m) \u001b[38;5;28;01mfrom\u001b[39;00m \u001b[38;5;21;01merr\u001b[39;00m\n\u001b[1;32m   1638\u001b[0m \u001b[38;5;28;01mreturn\u001b[39;00m x\n",
      "\u001b[0;31mTypeError\u001b[0m: Could not convert 5.450.05 to numeric"
     ]
    }
   ],
   "source": [
    "df.groupby('Year of Release')['Gross'].mean()"
   ]
  },
  {
   "cell_type": "code",
   "execution_count": 13,
   "id": "adff98c2",
   "metadata": {},
   "outputs": [
    {
     "data": {
      "text/plain": [
       "219"
      ]
     },
     "execution_count": 13,
     "metadata": {},
     "output_type": "execute_result"
    }
   ],
   "source": [
    "df['Comedy'].sum()"
   ]
  },
  {
   "cell_type": "code",
   "execution_count": 14,
   "id": "17f4e463",
   "metadata": {},
   "outputs": [],
   "source": [
    "genre_keys = {\n",
    "\n",
    "    28       :   \"Action\",\n",
    "    12       :   \"Adventure\",\n",
    "    16       :   \"Animation\",\n",
    "    35       :   \"Comedy\",\n",
    "    80       :   \"Crime\",\n",
    "    99       :   \"Documentary\",\n",
    "    18       :   \"Drama\",\n",
    "    10751    :   \"Family\",\n",
    "    14       :   \"Fantasy\",\n",
    "    36       :   \"History\",\n",
    "    27       :   \"Horror\",\n",
    "    10402    :   \"Music\",\n",
    "    9648     :   \"Mystery\",\n",
    "    10749    :   \"Romance\",\n",
    "    878      :   \"SciFi\",\n",
    "    10770    :   \"TV\",\n",
    "    53       :   \"Thriller\",\n",
    "    10752    :   \"War\",\n",
    "    37       :   \"Western\"\n",
    "    \n",
    "}"
   ]
  },
  {
   "cell_type": "markdown",
   "id": "2e07e4b2",
   "metadata": {},
   "source": [
    "## Total number of movies in each genre"
   ]
  },
  {
   "cell_type": "code",
   "execution_count": 15,
   "id": "fc27800f",
   "metadata": {},
   "outputs": [
    {
     "name": "stdout",
     "output_type": "stream",
     "text": [
      "Drama        670\n",
      "Comedy       219\n",
      "Thriller     200\n",
      "Crime        188\n",
      "Action       185\n",
      "Adventure    158\n",
      "Romance      157\n",
      "SciFi         91\n",
      "Fantasy       89\n",
      "Mystery       88\n",
      "History       85\n",
      "Animation     81\n",
      "Family        78\n",
      "War           76\n",
      "Horror        37\n",
      "Music         27\n",
      "Western       25\n",
      "Documentary    4\n",
      "TV             2\n"
     ]
    }
   ],
   "source": [
    "genre_totals = []\n",
    "for genre in genre_keys.values():\n",
    "    genre_totals.append((genre, df[genre].sum()))\n",
    "    \n",
    "genre_totals.sort(key = lambda x: x[1], reverse = True)\n",
    "for genre, total in genre_totals:\n",
    "    print(\"{:12s} {:3d}\".format(genre, total))"
   ]
  },
  {
   "cell_type": "code",
   "execution_count": 16,
   "id": "d1567edb",
   "metadata": {},
   "outputs": [
    {
     "data": {
      "text/html": [
       "<div>\n",
       "<style scoped>\n",
       "    .dataframe tbody tr th:only-of-type {\n",
       "        vertical-align: middle;\n",
       "    }\n",
       "\n",
       "    .dataframe tbody tr th {\n",
       "        vertical-align: top;\n",
       "    }\n",
       "\n",
       "    .dataframe thead th {\n",
       "        text-align: right;\n",
       "    }\n",
       "</style>\n",
       "<table border=\"1\" class=\"dataframe\">\n",
       "  <thead>\n",
       "    <tr style=\"text-align: right;\">\n",
       "      <th></th>\n",
       "      <th>Movie Name</th>\n",
       "      <th>Year of Release</th>\n",
       "      <th>Watch Time</th>\n",
       "      <th>Movie Rating</th>\n",
       "      <th>Metascore of movie</th>\n",
       "      <th>Gross</th>\n",
       "      <th>Votes</th>\n",
       "      <th>Description</th>\n",
       "      <th>Ids</th>\n",
       "      <th>TMDB_Id</th>\n",
       "      <th>...</th>\n",
       "      <th>Horror</th>\n",
       "      <th>Music</th>\n",
       "      <th>Mystery</th>\n",
       "      <th>Romance</th>\n",
       "      <th>SciFi</th>\n",
       "      <th>TV</th>\n",
       "      <th>Thriller</th>\n",
       "      <th>War</th>\n",
       "      <th>Western</th>\n",
       "      <th>Bad Words</th>\n",
       "    </tr>\n",
       "  </thead>\n",
       "  <tbody>\n",
       "    <tr>\n",
       "      <th>485</th>\n",
       "      <td>Mulholland Dr.</td>\n",
       "      <td>2001</td>\n",
       "      <td>147</td>\n",
       "      <td>7.9</td>\n",
       "      <td>86.0</td>\n",
       "      <td>7.22</td>\n",
       "      <td>3,70,038</td>\n",
       "      <td>After a car wreck on the winding Mulholland Dr...</td>\n",
       "      <td>(185789, [53, 10770, 18, 9648])</td>\n",
       "      <td>185789.0</td>\n",
       "      <td>...</td>\n",
       "      <td>0</td>\n",
       "      <td>0</td>\n",
       "      <td>1</td>\n",
       "      <td>0</td>\n",
       "      <td>0</td>\n",
       "      <td>1</td>\n",
       "      <td>1</td>\n",
       "      <td>0</td>\n",
       "      <td>0</td>\n",
       "      <td>8</td>\n",
       "    </tr>\n",
       "    <tr>\n",
       "      <th>842</th>\n",
       "      <td>Der Name der Rose</td>\n",
       "      <td>1986</td>\n",
       "      <td>130</td>\n",
       "      <td>7.7</td>\n",
       "      <td>54.0</td>\n",
       "      <td>7.15</td>\n",
       "      <td>1,12,550</td>\n",
       "      <td>An intellectually nonconformist friar investig...</td>\n",
       "      <td>(776669, [99, 10770])</td>\n",
       "      <td>776669.0</td>\n",
       "      <td>...</td>\n",
       "      <td>0</td>\n",
       "      <td>0</td>\n",
       "      <td>0</td>\n",
       "      <td>0</td>\n",
       "      <td>0</td>\n",
       "      <td>1</td>\n",
       "      <td>0</td>\n",
       "      <td>0</td>\n",
       "      <td>0</td>\n",
       "      <td>1</td>\n",
       "    </tr>\n",
       "  </tbody>\n",
       "</table>\n",
       "<p>2 rows × 31 columns</p>\n",
       "</div>"
      ],
      "text/plain": [
       "            Movie Name  Year of Release  Watch Time  Movie Rating  \\\n",
       "485     Mulholland Dr.             2001         147           7.9   \n",
       "842  Der Name der Rose             1986         130           7.7   \n",
       "\n",
       "     Metascore of movie Gross     Votes  \\\n",
       "485                86.0  7.22  3,70,038   \n",
       "842                54.0  7.15  1,12,550   \n",
       "\n",
       "                                           Description  \\\n",
       "485  After a car wreck on the winding Mulholland Dr...   \n",
       "842  An intellectually nonconformist friar investig...   \n",
       "\n",
       "                                 Ids   TMDB_Id  ... Horror  Music  Mystery  \\\n",
       "485  (185789, [53, 10770, 18, 9648])  185789.0  ...      0      0        1   \n",
       "842            (776669, [99, 10770])  776669.0  ...      0      0        0   \n",
       "\n",
       "     Romance  SciFi  TV  Thriller  War  Western  Bad Words  \n",
       "485        0      0   1         1    0        0          8  \n",
       "842        0      0   1         0    0        0          1  \n",
       "\n",
       "[2 rows x 31 columns]"
      ]
     },
     "execution_count": 16,
     "metadata": {},
     "output_type": "execute_result"
    }
   ],
   "source": [
    "df.loc[df['TV'] == 1]"
   ]
  },
  {
   "cell_type": "code",
   "execution_count": 17,
   "id": "5989ed10",
   "metadata": {},
   "outputs": [
    {
     "data": {
      "text/plain": [
       "85154"
      ]
     },
     "execution_count": 17,
     "metadata": {},
     "output_type": "execute_result"
    }
   ],
   "source": [
    "df.loc[df['Drama'] == 1]['Watch Time'].sum()"
   ]
  },
  {
   "cell_type": "markdown",
   "id": "df157888",
   "metadata": {},
   "source": [
    "## Total watchtime per genre"
   ]
  },
  {
   "cell_type": "code",
   "execution_count": 18,
   "id": "e1249ae8",
   "metadata": {},
   "outputs": [
    {
     "name": "stdout",
     "output_type": "stream",
     "text": [
      "Drama        85154\n",
      "Thriller     24869\n",
      "Action       24865\n",
      "Comedy       24726\n",
      "Crime        23735\n",
      "Adventure    20278\n",
      "Romance      19312\n",
      "History      12006\n",
      "SciFi        11150\n",
      "Mystery      10925\n",
      "Fantasy      10620\n",
      "War          10203\n",
      "Animation    8191\n",
      "Family       8150\n",
      "Horror       4033\n",
      "Music        3295\n",
      "Western      3255\n",
      "Documentary  512\n",
      "TV           277\n"
     ]
    }
   ],
   "source": [
    "genre_watchtime = []\n",
    "for genre in genre_keys.values():\n",
    "    genre_watchtime.append((genre, df.loc[df[genre] == 1]['Watch Time'].sum()))\n",
    "    \n",
    "genre_watchtime.sort(key = lambda x: x[1], reverse = True)\n",
    "for genre, total in genre_watchtime:\n",
    "    print(\"{:12s} {:3d}\".format(genre, total))"
   ]
  },
  {
   "cell_type": "code",
   "execution_count": 19,
   "id": "1e51b0b3",
   "metadata": {},
   "outputs": [
    {
     "data": {
      "text/plain": [
       "124253"
      ]
     },
     "execution_count": 19,
     "metadata": {},
     "output_type": "execute_result"
    }
   ],
   "source": [
    "df[\"Watch Time\"].sum()"
   ]
  },
  {
   "cell_type": "code",
   "execution_count": 20,
   "id": "f6099ebb",
   "metadata": {},
   "outputs": [
    {
     "data": {
      "text/plain": [
       "134.40540540540542"
      ]
     },
     "execution_count": 20,
     "metadata": {},
     "output_type": "execute_result"
    }
   ],
   "source": [
    "df.loc[df['Action'] == 1][\"Watch Time\"].mean()"
   ]
  },
  {
   "cell_type": "markdown",
   "id": "83cccd3b",
   "metadata": {},
   "source": [
    "## Average watchtime per genre"
   ]
  },
  {
   "cell_type": "code",
   "execution_count": 21,
   "id": "e7d7b92d",
   "metadata": {},
   "outputs": [
    {
     "name": "stdout",
     "output_type": "stream",
     "text": [
      "History      141.25\n",
      "TV           138.50\n",
      "Action       134.41\n",
      "War          134.25\n",
      "Western      130.20\n",
      "Adventure    128.34\n",
      "Documentary  128.00\n",
      "Drama        127.10\n",
      "Crime        126.25\n",
      "Thriller     124.34\n",
      "Mystery      124.15\n",
      "Romance      123.01\n",
      "SciFi        122.53\n",
      "Music        122.04\n",
      "Fantasy      119.33\n",
      "Comedy       112.90\n",
      "Horror       109.00\n",
      "Family       104.49\n",
      "Animation    101.12\n"
     ]
    }
   ],
   "source": [
    "genre_watchtime_avg = []\n",
    "for genre in genre_keys.values():\n",
    "    genre_watchtime_avg.append((genre, df.loc[df[genre] == 1]['Watch Time'].mean()))\n",
    "    \n",
    "genre_watchtime_avg.sort(key = lambda x: x[1], reverse = True)\n",
    "for genre, total in genre_watchtime_avg:\n",
    "    print(\"{:12s} {:3.2f}\".format(genre, total))"
   ]
  },
  {
   "cell_type": "markdown",
   "id": "5ebd8f01",
   "metadata": {},
   "source": [
    "## Correlation between animation and Family"
   ]
  },
  {
   "cell_type": "code",
   "execution_count": 22,
   "id": "ab36eccd",
   "metadata": {},
   "outputs": [
    {
     "data": {
      "text/html": [
       "<div>\n",
       "<style scoped>\n",
       "    .dataframe tbody tr th:only-of-type {\n",
       "        vertical-align: middle;\n",
       "    }\n",
       "\n",
       "    .dataframe tbody tr th {\n",
       "        vertical-align: top;\n",
       "    }\n",
       "\n",
       "    .dataframe thead th {\n",
       "        text-align: right;\n",
       "    }\n",
       "</style>\n",
       "<table border=\"1\" class=\"dataframe\">\n",
       "  <thead>\n",
       "    <tr style=\"text-align: right;\">\n",
       "      <th></th>\n",
       "      <th>Family</th>\n",
       "      <th>Animation</th>\n",
       "    </tr>\n",
       "  </thead>\n",
       "  <tbody>\n",
       "    <tr>\n",
       "      <th>Family</th>\n",
       "      <td>1.000000</td>\n",
       "      <td>0.610688</td>\n",
       "    </tr>\n",
       "    <tr>\n",
       "      <th>Animation</th>\n",
       "      <td>0.610688</td>\n",
       "      <td>1.000000</td>\n",
       "    </tr>\n",
       "  </tbody>\n",
       "</table>\n",
       "</div>"
      ],
      "text/plain": [
       "             Family  Animation\n",
       "Family     1.000000   0.610688\n",
       "Animation  0.610688   1.000000"
      ]
     },
     "execution_count": 22,
     "metadata": {},
     "output_type": "execute_result"
    }
   ],
   "source": [
    "df[['Family', 'Animation']].corr()"
   ]
  },
  {
   "cell_type": "code",
   "execution_count": 23,
   "id": "0270bd07",
   "metadata": {},
   "outputs": [
    {
     "data": {
      "text/plain": [
       "27"
      ]
     },
     "execution_count": 23,
     "metadata": {},
     "output_type": "execute_result"
    }
   ],
   "source": [
    "df.loc[(df['Family'] == 1) & (df['Animation'] == 0)].shape[0]"
   ]
  },
  {
   "cell_type": "code",
   "execution_count": 24,
   "id": "5d8feb82",
   "metadata": {},
   "outputs": [],
   "source": [
    "from sklearn.metrics import confusion_matrix"
   ]
  },
  {
   "cell_type": "code",
   "execution_count": 25,
   "id": "b1132754",
   "metadata": {},
   "outputs": [
    {
     "name": "stdout",
     "output_type": "stream",
     "text": [
      "Not Animation, Not Familly:  892\n",
      "Yes Animation, Not Familly:  30\n",
      "Not Animation, Yes Familly:  27\n",
      "Yes Animation, Yes Familly:  51\n"
     ]
    }
   ],
   "source": [
    "conf = confusion_matrix(df['Family'], df['Animation'])\n",
    "print(\"Not Animation, Not Familly: \", conf[0][0])\n",
    "print(\"Yes Animation, Not Familly: \", conf[0][1])\n",
    "print(\"Not Animation, Yes Familly: \", conf[1][0])\n",
    "print(\"Yes Animation, Yes Familly: \", conf[1][1])"
   ]
  },
  {
   "cell_type": "markdown",
   "id": "43502b65",
   "metadata": {},
   "source": [
    "## Metascore vs Rating"
   ]
  },
  {
   "cell_type": "code",
   "execution_count": 26,
   "id": "897eb279",
   "metadata": {},
   "outputs": [
    {
     "name": "stdout",
     "output_type": "stream",
     "text": [
      "War          8.01\n",
      "Action       8.00\n",
      "Crime        7.99\n",
      "SciFi        7.99\n",
      "Adventure    7.99\n",
      "History      7.99\n",
      "Fantasy      7.98\n",
      "Drama        7.98\n",
      "Western      7.98\n",
      "Mystery      7.96\n",
      "Documentary  7.95\n",
      "Family       7.95\n",
      "Thriller     7.94\n",
      "Animation    7.94\n",
      "Horror       7.93\n",
      "Romance      7.93\n",
      "Comedy       7.92\n",
      "Music        7.91\n",
      "TV           7.80\n"
     ]
    }
   ],
   "source": [
    "genre_rating_avg = []\n",
    "for genre in genre_keys.values():\n",
    "    genre_rating_avg.append((genre, df.loc[df[genre] == 1]['Movie Rating'].mean()))\n",
    "    \n",
    "genre_rating_avg.sort(key = lambda x: x[1], reverse = True)\n",
    "for genre, total in genre_rating_avg:\n",
    "    print(\"{:12s} {:3.2f}\".format(genre, total))"
   ]
  },
  {
   "cell_type": "code",
   "execution_count": 27,
   "id": "91211bc1",
   "metadata": {},
   "outputs": [
    {
     "name": "stdout",
     "output_type": "stream",
     "text": [
      "Romance      80.96\n",
      "Western      80.96\n",
      "War          80.73\n",
      "Horror       80.58\n",
      "History      80.39\n",
      "Animation    80.35\n",
      "Family       80.29\n",
      "Drama        79.47\n",
      "Mystery      79.44\n",
      "Fantasy      78.97\n",
      "Comedy       78.84\n",
      "Thriller     77.59\n",
      "Adventure    77.52\n",
      "Crime        76.92\n",
      "Music        76.35\n",
      "SciFi        75.95\n",
      "Documentary  75.25\n",
      "Action       73.81\n",
      "TV           70.00\n"
     ]
    }
   ],
   "source": [
    "genre_metascore_avg = []\n",
    "for genre in genre_keys.values():\n",
    "    genre_metascore_avg.append((genre, df.loc[df[genre] == 1]['Metascore of movie'].mean()))\n",
    "    \n",
    "genre_metascore_avg.sort(key = lambda x: x[1], reverse = True)\n",
    "for genre, total in genre_metascore_avg:\n",
    "    print(\"{:12s} {:3.2f}\".format(genre, total))"
   ]
  },
  {
   "cell_type": "code",
   "execution_count": 28,
   "id": "e7c7e836",
   "metadata": {},
   "outputs": [
    {
     "data": {
      "text/html": [
       "<div>\n",
       "<style scoped>\n",
       "    .dataframe tbody tr th:only-of-type {\n",
       "        vertical-align: middle;\n",
       "    }\n",
       "\n",
       "    .dataframe tbody tr th {\n",
       "        vertical-align: top;\n",
       "    }\n",
       "\n",
       "    .dataframe thead th {\n",
       "        text-align: right;\n",
       "    }\n",
       "</style>\n",
       "<table border=\"1\" class=\"dataframe\">\n",
       "  <thead>\n",
       "    <tr style=\"text-align: right;\">\n",
       "      <th></th>\n",
       "      <th>Metascore of movie</th>\n",
       "      <th>Movie Rating</th>\n",
       "    </tr>\n",
       "  </thead>\n",
       "  <tbody>\n",
       "    <tr>\n",
       "      <th>Metascore of movie</th>\n",
       "      <td>1.00000</td>\n",
       "      <td>0.25697</td>\n",
       "    </tr>\n",
       "    <tr>\n",
       "      <th>Movie Rating</th>\n",
       "      <td>0.25697</td>\n",
       "      <td>1.00000</td>\n",
       "    </tr>\n",
       "  </tbody>\n",
       "</table>\n",
       "</div>"
      ],
      "text/plain": [
       "                    Metascore of movie  Movie Rating\n",
       "Metascore of movie             1.00000       0.25697\n",
       "Movie Rating                   0.25697       1.00000"
      ]
     },
     "execution_count": 28,
     "metadata": {},
     "output_type": "execute_result"
    }
   ],
   "source": [
    "df[['Metascore of movie', 'Movie Rating']].corr()"
   ]
  },
  {
   "cell_type": "code",
   "execution_count": 29,
   "id": "6314a273",
   "metadata": {},
   "outputs": [
    {
     "name": "stdout",
     "output_type": "stream",
     "text": [
      "Instances with Metascore greater than Rating:  424\n",
      "Instances with Metascore less than Rating:     391\n",
      "Instances with Metascore equal to Rating:      30\n"
     ]
    }
   ],
   "source": [
    "gt = df.loc[df['Metascore of movie'] > df['Movie Rating'] * 10].shape[0]\n",
    "lt = df.loc[df['Metascore of movie'] < df['Movie Rating'] * 10].shape[0]\n",
    "eq = df.loc[df['Metascore of movie'] == df['Movie Rating'] * 10].shape[0]\n",
    "\n",
    "print(\"Instances with Metascore greater than Rating:  {}\".format(gt))\n",
    "print(\"Instances with Metascore less than Rating:     {}\".format(lt))\n",
    "print(\"Instances with Metascore equal to Rating:      {}\".format(eq))"
   ]
  },
  {
   "cell_type": "code",
   "execution_count": 30,
   "id": "8438b216",
   "metadata": {},
   "outputs": [],
   "source": [
    "## TODO REMOVE THE NULLS SOMEHOW"
   ]
  },
  {
   "cell_type": "code",
   "execution_count": 31,
   "id": "0077c650",
   "metadata": {},
   "outputs": [
    {
     "data": {
      "text/plain": [
       "Movie Name              0\n",
       "Year of Release         0\n",
       "Watch Time              0\n",
       "Movie Rating            0\n",
       "Metascore of movie    155\n",
       "Gross                 162\n",
       "Votes                   0\n",
       "Description             0\n",
       "Ids                     0\n",
       "TMDB_Id                 7\n",
       "TMDB_Genre              7\n",
       "Action                  0\n",
       "Adventure               0\n",
       "Animation               0\n",
       "Comedy                  0\n",
       "Crime                   0\n",
       "Documentary             0\n",
       "Drama                   0\n",
       "Family                  0\n",
       "Fantasy                 0\n",
       "History                 0\n",
       "Horror                  0\n",
       "Music                   0\n",
       "Mystery                 0\n",
       "Romance                 0\n",
       "SciFi                   0\n",
       "TV                      0\n",
       "Thriller                0\n",
       "War                     0\n",
       "Western                 0\n",
       "Bad Words               0\n",
       "dtype: int64"
      ]
     },
     "execution_count": 31,
     "metadata": {},
     "output_type": "execute_result"
    }
   ],
   "source": [
    "df.isnull().sum()"
   ]
  },
  {
   "cell_type": "markdown",
   "id": "8cf075da",
   "metadata": {},
   "source": [
    "# Genre by Year"
   ]
  },
  {
   "cell_type": "code",
   "execution_count": 32,
   "id": "8e257951",
   "metadata": {},
   "outputs": [],
   "source": [
    "def handleYears(value):\n",
    "    \n",
    "    try: \n",
    "        int(value)\n",
    "        return int(value)\n",
    "    except:\n",
    "        return int(value.split(sep=\" \")[1])\n",
    "\n",
    "df['Year of Release'] = df['Year of Release'].apply(handleYears)"
   ]
  },
  {
   "cell_type": "code",
   "execution_count": 33,
   "id": "3ac87cb1",
   "metadata": {},
   "outputs": [
    {
     "data": {
      "text/plain": [
       "2004    31\n",
       "2014    31\n",
       "2013    28\n",
       "2016    27\n",
       "2001    26\n",
       "        ..\n",
       "1930     1\n",
       "1922     1\n",
       "1921     1\n",
       "1924     1\n",
       "1943     1\n",
       "Name: Year of Release, Length: 102, dtype: int64"
      ]
     },
     "execution_count": 33,
     "metadata": {},
     "output_type": "execute_result"
    }
   ],
   "source": [
    "df['Year of Release'].value_counts()"
   ]
  },
  {
   "cell_type": "markdown",
   "id": "1cac0eec",
   "metadata": {},
   "source": [
    "## Avg year per genre"
   ]
  },
  {
   "cell_type": "code",
   "execution_count": 34,
   "id": "849837fc",
   "metadata": {},
   "outputs": [],
   "source": [
    "df_1975 = df.loc[df['Year of Release'] == 1975]"
   ]
  },
  {
   "cell_type": "code",
   "execution_count": 35,
   "id": "7928fad2",
   "metadata": {},
   "outputs": [
    {
     "data": {
      "text/plain": [
       "{'Action': 2,\n",
       " 'Adventure': 4,\n",
       " 'Animation': 0,\n",
       " 'Comedy': 2,\n",
       " 'Crime': 1,\n",
       " 'Documentary': 0,\n",
       " 'Drama': 6,\n",
       " 'Family': 0,\n",
       " 'Fantasy': 1,\n",
       " 'History': 1,\n",
       " 'Horror': 1,\n",
       " 'Music': 0,\n",
       " 'Mystery': 0,\n",
       " 'Romance': 1,\n",
       " 'SciFi': 0,\n",
       " 'TV': 0,\n",
       " 'Thriller': 2,\n",
       " 'War': 2,\n",
       " 'Western': 0}"
      ]
     },
     "execution_count": 35,
     "metadata": {},
     "output_type": "execute_result"
    }
   ],
   "source": [
    "genre_count = {genre: 0 for genre in genre_keys.values()}\n",
    "\n",
    "for genre in genre_keys.values():\n",
    "    genre_count[genre] = df_1975[genre].sum()\n",
    "    \n",
    "genre_count"
   ]
  },
  {
   "cell_type": "code",
   "execution_count": 36,
   "id": "a01e9fc2",
   "metadata": {},
   "outputs": [
    {
     "data": {
      "text/plain": [
       "1920"
      ]
     },
     "execution_count": 36,
     "metadata": {},
     "output_type": "execute_result"
    }
   ],
   "source": [
    "df['Year of Release'].min()"
   ]
  },
  {
   "cell_type": "code",
   "execution_count": 37,
   "id": "5c60130f",
   "metadata": {},
   "outputs": [
    {
     "data": {
      "text/plain": [
       "2023"
      ]
     },
     "execution_count": 37,
     "metadata": {},
     "output_type": "execute_result"
    }
   ],
   "source": [
    "df['Year of Release'].max()"
   ]
  },
  {
   "cell_type": "code",
   "execution_count": 38,
   "id": "280a1892",
   "metadata": {},
   "outputs": [],
   "source": [
    "for year in range(1920, 2024):\n",
    "    df_year = df.loc[df['Year of Release'] == year]\n",
    "    \n",
    "    genre_count = {genre: 0 for genre in genre_keys.values()}\n",
    "    \n",
    "    for genre in genre_keys.values():\n",
    "        genre_count[genre] = df_year[genre].sum()"
   ]
  },
  {
   "cell_type": "code",
   "execution_count": 39,
   "id": "7a3fcd50",
   "metadata": {},
   "outputs": [
    {
     "data": {
      "text/plain": [
       "[('Action', 4), ('Adventure', 3), ('Thriller', 2)]"
      ]
     },
     "execution_count": 39,
     "metadata": {},
     "output_type": "execute_result"
    }
   ],
   "source": [
    "sorted(genre_count.items(), key = lambda x : x[1], reverse = True)[:3]"
   ]
  },
  {
   "cell_type": "code",
   "execution_count": 40,
   "id": "6a541c71",
   "metadata": {},
   "outputs": [],
   "source": [
    "def topK(genre_count):\n",
    "    return [t[0] for t in sorted(genre_count.items(), key = lambda x : x[1], reverse = True)[:3]]"
   ]
  },
  {
   "cell_type": "code",
   "execution_count": 41,
   "id": "6cce32ab",
   "metadata": {},
   "outputs": [
    {
     "data": {
      "text/plain": [
       "{'Action': 4,\n",
       " 'Adventure': 3,\n",
       " 'Animation': 1,\n",
       " 'Comedy': 0,\n",
       " 'Crime': 1,\n",
       " 'Documentary': 0,\n",
       " 'Drama': 1,\n",
       " 'Family': 0,\n",
       " 'Fantasy': 0,\n",
       " 'History': 1,\n",
       " 'Horror': 0,\n",
       " 'Music': 0,\n",
       " 'Mystery': 0,\n",
       " 'Romance': 0,\n",
       " 'SciFi': 1,\n",
       " 'TV': 0,\n",
       " 'Thriller': 2,\n",
       " 'War': 0,\n",
       " 'Western': 0}"
      ]
     },
     "execution_count": 41,
     "metadata": {},
     "output_type": "execute_result"
    }
   ],
   "source": [
    "genre_count"
   ]
  },
  {
   "cell_type": "code",
   "execution_count": 42,
   "id": "f62856b4",
   "metadata": {},
   "outputs": [
    {
     "data": {
      "text/plain": [
       "['Action', 'Adventure', 'Thriller']"
      ]
     },
     "execution_count": 42,
     "metadata": {},
     "output_type": "execute_result"
    }
   ],
   "source": [
    "topK(genre_count)"
   ]
  },
  {
   "cell_type": "markdown",
   "id": "589e1640",
   "metadata": {},
   "source": [
    "## Top 3 genres by year"
   ]
  },
  {
   "cell_type": "code",
   "execution_count": 43,
   "id": "20d0dc0e",
   "metadata": {},
   "outputs": [
    {
     "name": "stdout",
     "output_type": "stream",
     "text": [
      "Year: 1920 ['Crime', 'Drama', 'Horror']\n",
      "Year: 1921 ['Comedy', 'Family', 'Fantasy']\n",
      "Year: 1922 ['Drama', 'Fantasy', 'Horror']\n",
      "Year: 1923 ['Action', 'Adventure', 'Animation']\n",
      "Year: 1924 ['Action', 'Comedy', 'Mystery']\n",
      "Year: 1925 ['Drama', 'Adventure', 'Comedy']\n",
      "Year: 1926 ['Action', 'Adventure', 'Comedy']\n",
      "Year: 1927 ['Drama', 'Romance', 'SciFi']\n",
      "Year: 1928 ['Comedy', 'Drama', 'History']\n",
      "Year: 1929 ['Action', 'Adventure', 'Animation']\n",
      "Year: 1930 ['Drama', 'War', 'Action']\n",
      "Year: 1931 ['Drama', 'Comedy', 'Crime']\n",
      "Year: 1932 ['Drama', 'Action', 'Crime']\n",
      "Year: 1933 ['Action', 'Adventure', 'Comedy']\n",
      "Year: 1934 ['Comedy', 'Crime', 'Mystery']\n",
      "Year: 1935 ['Comedy', 'Drama', 'Horror']\n",
      "Year: 1936 ['Comedy', 'Drama', 'Action']\n",
      "Year: 1937 ['Animation', 'Drama', 'Family']\n",
      "Year: 1938 ['Comedy', 'Romance', 'Adventure']\n",
      "Year: 1939 ['Drama', 'Adventure', 'Comedy']\n",
      "Year: 1940 ['Comedy', 'Romance', 'Drama']\n",
      "Year: 1941 ['Mystery', 'Adventure', 'Comedy']\n",
      "Year: 1942 ['Comedy', 'Drama', 'Romance']\n",
      "Year: 1943 ['Crime', 'Thriller', 'Action']\n",
      "Year: 1944 ['Crime', 'Drama', 'Mystery']\n",
      "Year: 1945 ['Drama', 'Crime', 'History']\n",
      "Year: 1946 ['Drama', 'Romance', 'Fantasy']\n",
      "Year: 1947 ['Drama', 'Comedy', 'Crime']\n",
      "Year: 1948 ['Drama', 'Crime', 'Thriller']\n",
      "Year: 1949 ['Crime', 'Drama', 'Thriller']\n",
      "Year: 1950 ['Drama', 'Crime', 'Romance']\n",
      "Year: 1951 ['Drama', 'Thriller', 'Adventure']\n",
      "Year: 1952 ['Drama', 'Comedy', 'Romance']\n",
      "Year: 1953 ['Drama', 'Comedy', 'Romance']\n",
      "Year: 1954 ['Drama', 'Crime', 'Thriller']\n",
      "Year: 1955 ['Drama', 'Crime', 'Thriller']\n",
      "Year: 1956 ['Crime', 'Drama', 'Horror']\n",
      "Year: 1957 ['Drama', 'History', 'War']\n",
      "Year: 1958 ['Drama', 'Thriller', 'Crime']\n",
      "Year: 1959 ['Drama', 'Crime', 'History']\n",
      "Year: 1960 ['Drama', 'Adventure', 'Comedy']\n",
      "Year: 1961 ['Drama', 'Horror', 'Mystery']\n",
      "Year: 1962 ['Drama', 'Thriller', 'War']\n",
      "Year: 1963 ['Drama', 'Comedy', 'Mystery']\n",
      "Year: 1964 ['Drama', 'Comedy', 'Action']\n",
      "Year: 1965 ['Drama', 'Romance', 'Family']\n",
      "Year: 1966 ['Drama', 'History', 'War']\n",
      "Year: 1967 ['Drama', 'Crime', 'Romance']\n",
      "Year: 1968 ['Drama', 'Adventure', 'Horror']\n",
      "Year: 1969 ['Western', 'Action', 'Comedy']\n",
      "Year: 1970 ['Drama', 'Crime', 'History']\n",
      "Year: 1971 ['Drama', 'Action', 'Comedy']\n",
      "Year: 1972 ['Drama', 'Adventure', 'Mystery']\n",
      "Year: 1973 ['Drama', 'Crime', 'Comedy']\n",
      "Year: 1974 ['Crime', 'Drama', 'Comedy']\n",
      "Year: 1975 ['Drama', 'Adventure', 'Action']\n",
      "Year: 1976 ['Drama', 'History', 'Action']\n",
      "Year: 1977 ['Action', 'Adventure', 'Comedy']\n",
      "Year: 1978 ['Drama', 'Horror', 'Action']\n",
      "Year: 1979 ['Drama', 'Comedy', 'Horror']\n",
      "Year: 1980 ['Drama', 'Action', 'Comedy']\n",
      "Year: 1981 ['Action', 'Adventure', 'Drama']\n",
      "Year: 1982 ['Drama', 'Adventure', 'SciFi']\n",
      "Year: 1983 ['Drama', 'Action', 'Adventure']\n",
      "Year: 1984 ['Drama', 'Action', 'Comedy']\n",
      "Year: 1985 ['Comedy', 'Drama', 'Adventure']\n",
      "Year: 1986 ['Drama', 'Action', 'Comedy']\n",
      "Year: 1987 ['Drama', 'Thriller', 'Action']\n",
      "Year: 1988 ['Drama', 'Animation', 'Crime']\n",
      "Year: 1989 ['Drama', 'Adventure', 'Comedy']\n",
      "Year: 1990 ['Drama', 'Crime', 'Fantasy']\n",
      "Year: 1991 ['Drama', 'Comedy', 'Thriller']\n",
      "Year: 1992 ['Drama', 'Adventure', 'Comedy']\n",
      "Year: 1993 ['Drama', 'Action', 'Crime']\n",
      "Year: 1994 ['Drama', 'Comedy', 'Romance']\n",
      "Year: 1995 ['Drama', 'Crime', 'Romance']\n",
      "Year: 1996 ['Drama', 'Crime', 'Thriller']\n",
      "Year: 1997 ['Drama', 'Thriller', 'Crime']\n",
      "Year: 1998 ['Drama', 'Comedy', 'Crime']\n",
      "Year: 1999 ['Drama', 'Comedy', 'Animation']\n",
      "Year: 2000 ['Drama', 'Crime', 'Thriller']\n",
      "Year: 2001 ['Drama', 'Comedy', 'Romance']\n",
      "Year: 2002 ['Drama', 'Crime', 'Action']\n",
      "Year: 2003 ['Drama', 'Crime', 'Action']\n",
      "Year: 2004 ['Drama', 'Romance', 'Thriller']\n",
      "Year: 2005 ['Drama', 'Action', 'Romance']\n",
      "Year: 2006 ['Drama', 'Thriller', 'Action']\n",
      "Year: 2007 ['Drama', 'Crime', 'Mystery']\n",
      "Year: 2008 ['Drama', 'Action', 'Crime']\n",
      "Year: 2009 ['Drama', 'Comedy', 'SciFi']\n",
      "Year: 2010 ['Drama', 'Action', 'Thriller']\n",
      "Year: 2011 ['Drama', 'Comedy', 'Crime']\n",
      "Year: 2012 ['Drama', 'Comedy', 'Adventure']\n",
      "Year: 2013 ['Drama', 'Romance', 'Action']\n",
      "Year: 2014 ['Drama', 'Action', 'Comedy']\n",
      "Year: 2015 ['Drama', 'Action', 'Adventure']\n",
      "Year: 2016 ['Drama', 'Comedy', 'Adventure']\n",
      "Year: 2017 ['Drama', 'Action', 'Adventure']\n",
      "Year: 2018 ['Drama', 'Action', 'Adventure']\n",
      "Year: 2019 ['Drama', 'Comedy', 'Action']\n",
      "Year: 2020 ['Drama', 'Animation', 'Fantasy']\n",
      "Year: 2021 ['Drama', 'Action', 'Adventure']\n",
      "Year: 2022 ['Drama', 'Action', 'Adventure']\n",
      "Year: 2023 ['Action', 'Adventure', 'Thriller']\n"
     ]
    }
   ],
   "source": [
    "for year in range(1920, 2024):\n",
    "    genre_count = {genre: 0 for genre in genre_keys.values()}\n",
    "\n",
    "    for genre in genre_keys.values():\n",
    "        genre_count[genre] = df.loc[df['Year of Release'] == year][genre].sum()\n",
    "    \n",
    "    print(\"Year:\", year, topK(genre_count))"
   ]
  },
  {
   "cell_type": "markdown",
   "id": "3dea65fa",
   "metadata": {},
   "source": [
    "## Top 3 genres by decade"
   ]
  },
  {
   "cell_type": "code",
   "execution_count": 44,
   "id": "b8e332bb",
   "metadata": {},
   "outputs": [
    {
     "name": "stdout",
     "output_type": "stream",
     "text": [
      "Year: 1920 ['Action', 'Adventure', 'Thriller']\n",
      "Year: 1930 ['Drama', 'Comedy', 'Action']\n",
      "Year: 1940 ['Drama', 'Comedy', 'Romance']\n",
      "Year: 1950 ['Drama', 'Crime', 'Romance']\n",
      "Year: 1960 ['Drama', 'Thriller', 'Crime']\n",
      "Year: 1970 ['Drama', 'Comedy', 'Romance']\n",
      "Year: 1980 ['Drama', 'Comedy', 'Crime']\n",
      "Year: 1990 ['Drama', 'Comedy', 'Action']\n",
      "Year: 2000 ['Drama', 'Comedy', 'Crime']\n",
      "Year: 2010 ['Drama', 'Action', 'Thriller']\n",
      "Year: 2020 ['Drama', 'Comedy', 'Action']\n"
     ]
    }
   ],
   "source": [
    "for year in range(1920, 2024):\n",
    "    \n",
    "    if year%10 == 0:\n",
    "        \n",
    "        print(\"Year:\", year, topK(genre_count))\n",
    "        genre_count = {genre: 0 for genre in genre_keys.values()}\n",
    "        continue\n",
    "\n",
    "    for genre in genre_keys.values():\n",
    "        genre_count[genre] += df.loc[df['Year of Release'] == year][genre].sum()\n"
   ]
  },
  {
   "cell_type": "markdown",
   "id": "1cc5a233",
   "metadata": {},
   "source": [
    "# Bad Words"
   ]
  },
  {
   "cell_type": "code",
   "execution_count": 45,
   "id": "93b60503",
   "metadata": {},
   "outputs": [
    {
     "data": {
      "text/plain": [
       "29.392"
      ]
     },
     "execution_count": 45,
     "metadata": {},
     "output_type": "execute_result"
    }
   ],
   "source": [
    "df['Bad Words'].mean()"
   ]
  },
  {
   "cell_type": "code",
   "execution_count": 46,
   "id": "18c1bfd2",
   "metadata": {},
   "outputs": [
    {
     "data": {
      "text/plain": [
       "count    1000.000000\n",
       "mean       29.392000\n",
       "std        60.316236\n",
       "min        -1.000000\n",
       "25%         1.000000\n",
       "50%         7.000000\n",
       "75%        31.000000\n",
       "max       686.000000\n",
       "Name: Bad Words, dtype: float64"
      ]
     },
     "execution_count": 46,
     "metadata": {},
     "output_type": "execute_result"
    }
   ],
   "source": [
    "df['Bad Words'].describe()"
   ]
  },
  {
   "cell_type": "code",
   "execution_count": 47,
   "id": "e6cde8cf",
   "metadata": {},
   "outputs": [
    {
     "name": "stdout",
     "output_type": "stream",
     "text": [
      "Crime        58.05\n",
      "Music        54.67\n",
      "Western      46.44\n",
      "Thriller     37.48\n",
      "Action       32.85\n",
      "History      31.99\n",
      "Drama        31.82\n",
      "Comedy       28.71\n",
      "Mystery      21.16\n",
      "War          21.05\n",
      "Horror       20.19\n",
      "SciFi        20.10\n",
      "Romance      14.74\n",
      "Adventure    13.44\n",
      "Fantasy      10.79\n",
      "Animation    9.36\n",
      "Documentary  6.50\n",
      "TV           4.50\n",
      "Family       4.41\n"
     ]
    }
   ],
   "source": [
    "genre_bad_words_avg = []\n",
    "for genre in genre_keys.values():\n",
    "    genre_bad_words_avg.append((genre, df.loc[df[genre] == 1]['Bad Words'].mean()))\n",
    "    \n",
    "genre_bad_words_avg.sort(key = lambda x: x[1], reverse = True)\n",
    "for genre, total in genre_bad_words_avg:\n",
    "    print(\"{:12s} {:3.2f}\".format(genre, total))"
   ]
  },
  {
   "cell_type": "code",
   "execution_count": 48,
   "id": "6307daf2",
   "metadata": {},
   "outputs": [
    {
     "data": {
      "text/html": [
       "<div>\n",
       "<style scoped>\n",
       "    .dataframe tbody tr th:only-of-type {\n",
       "        vertical-align: middle;\n",
       "    }\n",
       "\n",
       "    .dataframe tbody tr th {\n",
       "        vertical-align: top;\n",
       "    }\n",
       "\n",
       "    .dataframe thead th {\n",
       "        text-align: right;\n",
       "    }\n",
       "</style>\n",
       "<table border=\"1\" class=\"dataframe\">\n",
       "  <thead>\n",
       "    <tr style=\"text-align: right;\">\n",
       "      <th></th>\n",
       "      <th>Movie Name</th>\n",
       "      <th>Year of Release</th>\n",
       "      <th>Watch Time</th>\n",
       "      <th>Movie Rating</th>\n",
       "      <th>Metascore of movie</th>\n",
       "      <th>Gross</th>\n",
       "      <th>Votes</th>\n",
       "      <th>Description</th>\n",
       "      <th>Ids</th>\n",
       "      <th>TMDB_Id</th>\n",
       "      <th>...</th>\n",
       "      <th>Horror</th>\n",
       "      <th>Music</th>\n",
       "      <th>Mystery</th>\n",
       "      <th>Romance</th>\n",
       "      <th>SciFi</th>\n",
       "      <th>TV</th>\n",
       "      <th>Thriller</th>\n",
       "      <th>War</th>\n",
       "      <th>Western</th>\n",
       "      <th>Bad Words</th>\n",
       "    </tr>\n",
       "  </thead>\n",
       "  <tbody>\n",
       "    <tr>\n",
       "      <th>220</th>\n",
       "      <td>Stand by Me</td>\n",
       "      <td>1986</td>\n",
       "      <td>89</td>\n",
       "      <td>8.1</td>\n",
       "      <td>75.0</td>\n",
       "      <td>52.29</td>\n",
       "      <td>4,22,177</td>\n",
       "      <td>After the death of one of his friends, a write...</td>\n",
       "      <td>(265712, [16, 10751, 878, 14])</td>\n",
       "      <td>265712.0</td>\n",
       "      <td>...</td>\n",
       "      <td>0</td>\n",
       "      <td>0</td>\n",
       "      <td>0</td>\n",
       "      <td>0</td>\n",
       "      <td>1</td>\n",
       "      <td>0</td>\n",
       "      <td>0</td>\n",
       "      <td>0</td>\n",
       "      <td>0</td>\n",
       "      <td>67</td>\n",
       "    </tr>\n",
       "    <tr>\n",
       "      <th>342</th>\n",
       "      <td>Her Sey Çok Güzel Olacak</td>\n",
       "      <td>1998</td>\n",
       "      <td>107</td>\n",
       "      <td>8.1</td>\n",
       "      <td>NaN</td>\n",
       "      <td>NaN</td>\n",
       "      <td>26,551</td>\n",
       "      <td>When Altan swipes prescription drugs from his ...</td>\n",
       "      <td>(81549, [10751, 18, 35, 12])</td>\n",
       "      <td>81549.0</td>\n",
       "      <td>...</td>\n",
       "      <td>0</td>\n",
       "      <td>0</td>\n",
       "      <td>0</td>\n",
       "      <td>0</td>\n",
       "      <td>0</td>\n",
       "      <td>0</td>\n",
       "      <td>0</td>\n",
       "      <td>0</td>\n",
       "      <td>0</td>\n",
       "      <td>17</td>\n",
       "    </tr>\n",
       "    <tr>\n",
       "      <th>405</th>\n",
       "      <td>Tenkû no shiro Rapyuta</td>\n",
       "      <td>1986</td>\n",
       "      <td>125</td>\n",
       "      <td>8.0</td>\n",
       "      <td>78.0</td>\n",
       "      <td>NaN</td>\n",
       "      <td>1,73,834</td>\n",
       "      <td>A young boy and a girl with a magic crystal mu...</td>\n",
       "      <td>(10515, [12, 14, 16, 28, 10751, 10749])</td>\n",
       "      <td>10515.0</td>\n",
       "      <td>...</td>\n",
       "      <td>0</td>\n",
       "      <td>0</td>\n",
       "      <td>0</td>\n",
       "      <td>1</td>\n",
       "      <td>0</td>\n",
       "      <td>0</td>\n",
       "      <td>0</td>\n",
       "      <td>0</td>\n",
       "      <td>0</td>\n",
       "      <td>40</td>\n",
       "    </tr>\n",
       "    <tr>\n",
       "      <th>495</th>\n",
       "      <td>Shrek</td>\n",
       "      <td>2001</td>\n",
       "      <td>90</td>\n",
       "      <td>7.9</td>\n",
       "      <td>84.0</td>\n",
       "      <td>267.67</td>\n",
       "      <td>7,06,312</td>\n",
       "      <td>A mean lord exiles fairytale creatures to the ...</td>\n",
       "      <td>(808, [16, 35, 14, 12, 10751])</td>\n",
       "      <td>808.0</td>\n",
       "      <td>...</td>\n",
       "      <td>0</td>\n",
       "      <td>0</td>\n",
       "      <td>0</td>\n",
       "      <td>0</td>\n",
       "      <td>0</td>\n",
       "      <td>0</td>\n",
       "      <td>0</td>\n",
       "      <td>0</td>\n",
       "      <td>0</td>\n",
       "      <td>11</td>\n",
       "    </tr>\n",
       "    <tr>\n",
       "      <th>632</th>\n",
       "      <td>The Sandlot</td>\n",
       "      <td>1993</td>\n",
       "      <td>101</td>\n",
       "      <td>7.8</td>\n",
       "      <td>55.0</td>\n",
       "      <td>32.42</td>\n",
       "      <td>98,129</td>\n",
       "      <td>In the summer of 1962, a new kid in town is ta...</td>\n",
       "      <td>(11528, [10751, 35])</td>\n",
       "      <td>11528.0</td>\n",
       "      <td>...</td>\n",
       "      <td>0</td>\n",
       "      <td>0</td>\n",
       "      <td>0</td>\n",
       "      <td>0</td>\n",
       "      <td>0</td>\n",
       "      <td>0</td>\n",
       "      <td>0</td>\n",
       "      <td>0</td>\n",
       "      <td>0</td>\n",
       "      <td>11</td>\n",
       "    </tr>\n",
       "    <tr>\n",
       "      <th>697</th>\n",
       "      <td>October Sky</td>\n",
       "      <td>1999</td>\n",
       "      <td>108</td>\n",
       "      <td>7.8</td>\n",
       "      <td>71.0</td>\n",
       "      <td>32.48</td>\n",
       "      <td>95,181</td>\n",
       "      <td>The true story of Homer Hickam, a coal miner's...</td>\n",
       "      <td>(13466, [18, 10751])</td>\n",
       "      <td>13466.0</td>\n",
       "      <td>...</td>\n",
       "      <td>0</td>\n",
       "      <td>0</td>\n",
       "      <td>0</td>\n",
       "      <td>0</td>\n",
       "      <td>0</td>\n",
       "      <td>0</td>\n",
       "      <td>0</td>\n",
       "      <td>0</td>\n",
       "      <td>0</td>\n",
       "      <td>29</td>\n",
       "    </tr>\n",
       "    <tr>\n",
       "      <th>751</th>\n",
       "      <td>Ma vie de Courgette</td>\n",
       "      <td>2016</td>\n",
       "      <td>66</td>\n",
       "      <td>7.8</td>\n",
       "      <td>85.0</td>\n",
       "      <td>0.29</td>\n",
       "      <td>27,386</td>\n",
       "      <td>After losing his mother, a young boy is sent t...</td>\n",
       "      <td>(393559, [16, 35, 18, 10751, 10749])</td>\n",
       "      <td>393559.0</td>\n",
       "      <td>...</td>\n",
       "      <td>0</td>\n",
       "      <td>0</td>\n",
       "      <td>0</td>\n",
       "      <td>1</td>\n",
       "      <td>0</td>\n",
       "      <td>0</td>\n",
       "      <td>0</td>\n",
       "      <td>0</td>\n",
       "      <td>0</td>\n",
       "      <td>68</td>\n",
       "    </tr>\n",
       "    <tr>\n",
       "      <th>762</th>\n",
       "      <td>The Goonies</td>\n",
       "      <td>1985</td>\n",
       "      <td>114</td>\n",
       "      <td>7.7</td>\n",
       "      <td>62.0</td>\n",
       "      <td>61.5</td>\n",
       "      <td>2,87,606</td>\n",
       "      <td>A group of young misfits called The Goonies di...</td>\n",
       "      <td>(9340, [12, 35, 10751])</td>\n",
       "      <td>9340.0</td>\n",
       "      <td>...</td>\n",
       "      <td>0</td>\n",
       "      <td>0</td>\n",
       "      <td>0</td>\n",
       "      <td>0</td>\n",
       "      <td>0</td>\n",
       "      <td>0</td>\n",
       "      <td>0</td>\n",
       "      <td>0</td>\n",
       "      <td>0</td>\n",
       "      <td>20</td>\n",
       "    </tr>\n",
       "    <tr>\n",
       "      <th>881</th>\n",
       "      <td>Kurenai no buta</td>\n",
       "      <td>1992</td>\n",
       "      <td>94</td>\n",
       "      <td>7.7</td>\n",
       "      <td>83.0</td>\n",
       "      <td>NaN</td>\n",
       "      <td>95,476</td>\n",
       "      <td>In 1930s Italy, a veteran World War I pilot is...</td>\n",
       "      <td>(11621, [10751, 35, 16, 12])</td>\n",
       "      <td>11621.0</td>\n",
       "      <td>...</td>\n",
       "      <td>0</td>\n",
       "      <td>0</td>\n",
       "      <td>0</td>\n",
       "      <td>0</td>\n",
       "      <td>0</td>\n",
       "      <td>0</td>\n",
       "      <td>0</td>\n",
       "      <td>0</td>\n",
       "      <td>0</td>\n",
       "      <td>16</td>\n",
       "    </tr>\n",
       "    <tr>\n",
       "      <th>891</th>\n",
       "      <td>Omoide no Marnie</td>\n",
       "      <td>2014</td>\n",
       "      <td>103</td>\n",
       "      <td>7.7</td>\n",
       "      <td>72.0</td>\n",
       "      <td>0.77</td>\n",
       "      <td>44,442</td>\n",
       "      <td>Due to 12 y.o. Anna's asthma, she's sent to st...</td>\n",
       "      <td>(242828, [16, 18, 10751])</td>\n",
       "      <td>242828.0</td>\n",
       "      <td>...</td>\n",
       "      <td>0</td>\n",
       "      <td>0</td>\n",
       "      <td>0</td>\n",
       "      <td>0</td>\n",
       "      <td>0</td>\n",
       "      <td>0</td>\n",
       "      <td>0</td>\n",
       "      <td>0</td>\n",
       "      <td>0</td>\n",
       "      <td>33</td>\n",
       "    </tr>\n",
       "  </tbody>\n",
       "</table>\n",
       "<p>10 rows × 31 columns</p>\n",
       "</div>"
      ],
      "text/plain": [
       "                   Movie Name  Year of Release  Watch Time  Movie Rating  \\\n",
       "220               Stand by Me             1986          89           8.1   \n",
       "342  Her Sey Çok Güzel Olacak             1998         107           8.1   \n",
       "405    Tenkû no shiro Rapyuta             1986         125           8.0   \n",
       "495                     Shrek             2001          90           7.9   \n",
       "632               The Sandlot             1993         101           7.8   \n",
       "697               October Sky             1999         108           7.8   \n",
       "751       Ma vie de Courgette             2016          66           7.8   \n",
       "762               The Goonies             1985         114           7.7   \n",
       "881           Kurenai no buta             1992          94           7.7   \n",
       "891          Omoide no Marnie             2014         103           7.7   \n",
       "\n",
       "     Metascore of movie   Gross     Votes  \\\n",
       "220                75.0   52.29  4,22,177   \n",
       "342                 NaN     NaN    26,551   \n",
       "405                78.0     NaN  1,73,834   \n",
       "495                84.0  267.67  7,06,312   \n",
       "632                55.0   32.42    98,129   \n",
       "697                71.0   32.48    95,181   \n",
       "751                85.0    0.29    27,386   \n",
       "762                62.0    61.5  2,87,606   \n",
       "881                83.0     NaN    95,476   \n",
       "891                72.0    0.77    44,442   \n",
       "\n",
       "                                           Description  \\\n",
       "220  After the death of one of his friends, a write...   \n",
       "342  When Altan swipes prescription drugs from his ...   \n",
       "405  A young boy and a girl with a magic crystal mu...   \n",
       "495  A mean lord exiles fairytale creatures to the ...   \n",
       "632  In the summer of 1962, a new kid in town is ta...   \n",
       "697  The true story of Homer Hickam, a coal miner's...   \n",
       "751  After losing his mother, a young boy is sent t...   \n",
       "762  A group of young misfits called The Goonies di...   \n",
       "881  In 1930s Italy, a veteran World War I pilot is...   \n",
       "891  Due to 12 y.o. Anna's asthma, she's sent to st...   \n",
       "\n",
       "                                         Ids   TMDB_Id  ... Horror  Music  \\\n",
       "220           (265712, [16, 10751, 878, 14])  265712.0  ...      0      0   \n",
       "342             (81549, [10751, 18, 35, 12])   81549.0  ...      0      0   \n",
       "405  (10515, [12, 14, 16, 28, 10751, 10749])   10515.0  ...      0      0   \n",
       "495           (808, [16, 35, 14, 12, 10751])     808.0  ...      0      0   \n",
       "632                     (11528, [10751, 35])   11528.0  ...      0      0   \n",
       "697                     (13466, [18, 10751])   13466.0  ...      0      0   \n",
       "751     (393559, [16, 35, 18, 10751, 10749])  393559.0  ...      0      0   \n",
       "762                  (9340, [12, 35, 10751])    9340.0  ...      0      0   \n",
       "881             (11621, [10751, 35, 16, 12])   11621.0  ...      0      0   \n",
       "891                (242828, [16, 18, 10751])  242828.0  ...      0      0   \n",
       "\n",
       "     Mystery  Romance  SciFi  TV  Thriller  War  Western  Bad Words  \n",
       "220        0        0      1   0         0    0        0         67  \n",
       "342        0        0      0   0         0    0        0         17  \n",
       "405        0        1      0   0         0    0        0         40  \n",
       "495        0        0      0   0         0    0        0         11  \n",
       "632        0        0      0   0         0    0        0         11  \n",
       "697        0        0      0   0         0    0        0         29  \n",
       "751        0        1      0   0         0    0        0         68  \n",
       "762        0        0      0   0         0    0        0         20  \n",
       "881        0        0      0   0         0    0        0         16  \n",
       "891        0        0      0   0         0    0        0         33  \n",
       "\n",
       "[10 rows x 31 columns]"
      ]
     },
     "execution_count": 48,
     "metadata": {},
     "output_type": "execute_result"
    }
   ],
   "source": [
    "df[(df['Family'] == 1) & (df['Bad Words'] > 10)]"
   ]
  },
  {
   "cell_type": "code",
   "execution_count": 49,
   "id": "fa55d9ea",
   "metadata": {},
   "outputs": [
    {
     "data": {
      "text/plain": [
       "count    78.000000\n",
       "mean      4.410256\n",
       "std      12.731427\n",
       "min      -1.000000\n",
       "25%       0.000000\n",
       "50%       0.000000\n",
       "75%       1.000000\n",
       "max      68.000000\n",
       "Name: Bad Words, dtype: float64"
      ]
     },
     "execution_count": 49,
     "metadata": {},
     "output_type": "execute_result"
    }
   ],
   "source": [
    "df[df['Family'] == 1]['Bad Words'].describe()"
   ]
  },
  {
   "cell_type": "code",
   "execution_count": 50,
   "id": "a7f1ff56",
   "metadata": {},
   "outputs": [
    {
     "data": {
      "text/plain": [
       "count    188.000000\n",
       "mean      58.047872\n",
       "std       93.731000\n",
       "min       -1.000000\n",
       "25%        1.000000\n",
       "50%       20.000000\n",
       "75%       72.750000\n",
       "max      686.000000\n",
       "Name: Bad Words, dtype: float64"
      ]
     },
     "execution_count": 50,
     "metadata": {},
     "output_type": "execute_result"
    }
   ],
   "source": [
    "df[df['Crime'] == 1]['Bad Words'].describe()"
   ]
  }
 ],
 "metadata": {
  "kernelspec": {
   "display_name": "Python 3 (ipykernel)",
   "language": "python",
   "name": "python3"
  },
  "language_info": {
   "codemirror_mode": {
    "name": "ipython",
    "version": 3
   },
   "file_extension": ".py",
   "mimetype": "text/x-python",
   "name": "python",
   "nbconvert_exporter": "python",
   "pygments_lexer": "ipython3",
   "version": "3.10.9"
  }
 },
 "nbformat": 4,
 "nbformat_minor": 5
}
